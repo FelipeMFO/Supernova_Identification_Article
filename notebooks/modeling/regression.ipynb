{
 "cells": [
  {
   "cell_type": "markdown",
   "metadata": {},
   "source": [
    "## This notebook applies XGBoost and feature engineering methods to predict Redshift through linear regression models."
   ]
  },
  {
   "cell_type": "code",
   "execution_count": 1,
   "metadata": {},
   "outputs": [],
   "source": [
    "%load_ext autoreload\n",
    "%autoreload 2\n",
    "import os \n",
    "import sys\n",
    "import pandas as pd\n",
    "import numpy as np\n",
    "import xgboost as xgb\n",
    "\n",
    "from sklearn.linear_model import LinearRegression\n",
    "from sklearn.linear_model import Ridge\n",
    "from sklearn.linear_model import Lasso\n",
    "from sklearn.linear_model import ElasticNet"
   ]
  },
  {
   "cell_type": "code",
   "execution_count": 21,
   "metadata": {},
   "outputs": [],
   "source": [
    "module_path = os.path.abspath(os.path.join('..','..'))\n",
    "if module_path not in sys.path:\n",
    "    sys.path.append(module_path)\n",
    "\n",
    "from src.modeling.functions_regression import linear_regression, normal_linear_regression, evaluate, apply_scalers"
   ]
  },
  {
   "cell_type": "code",
   "execution_count": 7,
   "metadata": {},
   "outputs": [],
   "source": [
    "pd.set_option(\"display.max_rows\", 8)"
   ]
  },
  {
   "cell_type": "code",
   "execution_count": 5,
   "metadata": {},
   "outputs": [
    {
     "data": {
      "text/html": [
       "<div>\n",
       "<style scoped>\n",
       "    .dataframe tbody tr th:only-of-type {\n",
       "        vertical-align: middle;\n",
       "    }\n",
       "\n",
       "    .dataframe tbody tr th {\n",
       "        vertical-align: top;\n",
       "    }\n",
       "\n",
       "    .dataframe thead th {\n",
       "        text-align: right;\n",
       "    }\n",
       "</style>\n",
       "<table border=\"1\" class=\"dataframe\">\n",
       "  <thead>\n",
       "    <tr style=\"text-align: right;\">\n",
       "      <th></th>\n",
       "      <th>desg</th>\n",
       "      <th>desi</th>\n",
       "      <th>desr</th>\n",
       "      <th>desz</th>\n",
       "      <th>Xaxis</th>\n",
       "      <th>desg_GP</th>\n",
       "      <th>desi_GP</th>\n",
       "      <th>desr_GP</th>\n",
       "      <th>desz_GP</th>\n",
       "      <th>wavelets</th>\n",
       "      <th>...</th>\n",
       "      <th>f14</th>\n",
       "      <th>f15</th>\n",
       "      <th>f16</th>\n",
       "      <th>f17</th>\n",
       "      <th>f18</th>\n",
       "      <th>f19</th>\n",
       "      <th>f20</th>\n",
       "      <th>type</th>\n",
       "      <th>type_bool</th>\n",
       "      <th>REDSHIFT_SPEC</th>\n",
       "    </tr>\n",
       "    <tr>\n",
       "      <th>ID</th>\n",
       "      <th></th>\n",
       "      <th></th>\n",
       "      <th></th>\n",
       "      <th></th>\n",
       "      <th></th>\n",
       "      <th></th>\n",
       "      <th></th>\n",
       "      <th></th>\n",
       "      <th></th>\n",
       "      <th></th>\n",
       "      <th></th>\n",
       "      <th></th>\n",
       "      <th></th>\n",
       "      <th></th>\n",
       "      <th></th>\n",
       "      <th></th>\n",
       "      <th></th>\n",
       "      <th></th>\n",
       "      <th></th>\n",
       "      <th></th>\n",
       "      <th></th>\n",
       "    </tr>\n",
       "  </thead>\n",
       "  <tbody>\n",
       "    <tr>\n",
       "      <th>SN10001</th>\n",
       "      <td>[[0.0, 2.326, 4.792], [2.0, 4.617, 2.249], [9....</td>\n",
       "      <td>[[0.031000000002677552, 8.672, 5.439], [2.1560...</td>\n",
       "      <td>[[0.01600000000325963, 8.834, 5.339], [2.13999...</td>\n",
       "      <td>[[0.06199999999807915, 6.026, 4.693], [2.18699...</td>\n",
       "      <td>[0.0, 1.1313535353535435, 2.262707070707087, 3...</td>\n",
       "      <td>([0.0, 0.818888888888886, 1.637777777777772, 2...</td>\n",
       "      <td>([0.031000000002677552, 1.141676767679467, 2.2...</td>\n",
       "      <td>([0.01600000000325963, 1.076565656568908, 2.13...</td>\n",
       "      <td>([0.06199999999807915, 1.1927272727253795, 2.3...</td>\n",
       "      <td>[9.251771363349247, 8.972870155014132, 8.79160...</td>\n",
       "      <td>...</td>\n",
       "      <td>6.048710</td>\n",
       "      <td>-11.165995</td>\n",
       "      <td>23.954122</td>\n",
       "      <td>18.206973</td>\n",
       "      <td>6.125696</td>\n",
       "      <td>9.448978</td>\n",
       "      <td>-0.078004</td>\n",
       "      <td>II</td>\n",
       "      <td>False</td>\n",
       "      <td>0.59162</td>\n",
       "    </tr>\n",
       "    <tr>\n",
       "      <th>SN100023</th>\n",
       "      <td>[[6.984000000004016, 5.679, 6.387], [7.9920000...</td>\n",
       "      <td>[[7.00800000000163, 4.698, 7.145], [8.02300000...</td>\n",
       "      <td>[[0.0, 16.04, 17.59], [6.992000000005646, 19.8...</td>\n",
       "      <td>[[4.121000000006461, 18.01, 3.601], [7.0230000...</td>\n",
       "      <td>[0.0, 1.3437474747475018, 2.6874949494950036, ...</td>\n",
       "      <td>([6.984000000004016, 8.256929292933277, 9.5298...</td>\n",
       "      <td>([7.00800000000163, 8.189737373738987, 9.37147...</td>\n",
       "      <td>([0.0, 0.8994242424242942, 1.7988484848485884,...</td>\n",
       "      <td>([4.121000000006461, 5.423121212127635, 6.7252...</td>\n",
       "      <td>[12.22728787505526, 11.357060718395505, 10.716...</td>\n",
       "      <td>...</td>\n",
       "      <td>33.710197</td>\n",
       "      <td>-11.581964</td>\n",
       "      <td>28.655932</td>\n",
       "      <td>19.743614</td>\n",
       "      <td>4.619543</td>\n",
       "      <td>37.266792</td>\n",
       "      <td>-16.596040</td>\n",
       "      <td>II</td>\n",
       "      <td>False</td>\n",
       "      <td>0.79264</td>\n",
       "    </tr>\n",
       "    <tr>\n",
       "      <th>SN10005</th>\n",
       "      <td>[[10.027000000001863, 4.996, 8.081], [33.94500...</td>\n",
       "      <td>[[0.015000000006693881, 0.2977, 2.206], [18.94...</td>\n",
       "      <td>[[0.0, 1.033, 1.325], [13.015000000006694, 0.4...</td>\n",
       "      <td>[[0.03500000000349246, 1.826, 3.029], [48.875,...</td>\n",
       "      <td>[0.0, 1.0381919191919462, 2.0763838383838924, ...</td>\n",
       "      <td>([10.027000000001863, 10.782565656567513, 11.5...</td>\n",
       "      <td>([0.015000000006693881, 1.0530404040470573, 2....</td>\n",
       "      <td>([0.0, 1.0281717171717606, 2.056343434343521, ...</td>\n",
       "      <td>([0.03500000000349246, 1.0222929292964054, 2.0...</td>\n",
       "      <td>[2.000004411755352, 2.000003547336676, 2.00000...</td>\n",
       "      <td>...</td>\n",
       "      <td>-26.554909</td>\n",
       "      <td>15.768490</td>\n",
       "      <td>16.436792</td>\n",
       "      <td>17.114795</td>\n",
       "      <td>-20.292951</td>\n",
       "      <td>-24.222566</td>\n",
       "      <td>-11.295562</td>\n",
       "      <td>Ia</td>\n",
       "      <td>True</td>\n",
       "      <td>1.08327</td>\n",
       "    </tr>\n",
       "    <tr>\n",
       "      <th>...</th>\n",
       "      <td>...</td>\n",
       "      <td>...</td>\n",
       "      <td>...</td>\n",
       "      <td>...</td>\n",
       "      <td>...</td>\n",
       "      <td>...</td>\n",
       "      <td>...</td>\n",
       "      <td>...</td>\n",
       "      <td>...</td>\n",
       "      <td>...</td>\n",
       "      <td>...</td>\n",
       "      <td>...</td>\n",
       "      <td>...</td>\n",
       "      <td>...</td>\n",
       "      <td>...</td>\n",
       "      <td>...</td>\n",
       "      <td>...</td>\n",
       "      <td>...</td>\n",
       "      <td>...</td>\n",
       "      <td>...</td>\n",
       "      <td>...</td>\n",
       "    </tr>\n",
       "    <tr>\n",
       "      <th>SN99921</th>\n",
       "      <td>[[0.0, 8.327, 4.797], [2.0, 9.834, 2.261], [9....</td>\n",
       "      <td>[[0.031000000002677552, 22.78, 5.454], [2.1560...</td>\n",
       "      <td>[[0.01600000000325963, 26.73, 5.361], [2.13999...</td>\n",
       "      <td>[[0.06199999999807915, 15.19, 4.7], [2.1869999...</td>\n",
       "      <td>[0.0, 1.2923333333333222, 2.5846666666666445, ...</td>\n",
       "      <td>([0.0, 1.1299292929293416, 2.2598585858586833,...</td>\n",
       "      <td>([0.031000000002677552, 1.3230202020228414, 2....</td>\n",
       "      <td>([0.01600000000325963, 1.3080606060638358, 2.6...</td>\n",
       "      <td>([0.06199999999807915, 1.2726666666647435, 2.4...</td>\n",
       "      <td>[14.025137598441496, 16.23859348218353, 17.966...</td>\n",
       "      <td>...</td>\n",
       "      <td>30.582545</td>\n",
       "      <td>-38.454611</td>\n",
       "      <td>33.695746</td>\n",
       "      <td>32.105615</td>\n",
       "      <td>-3.304444</td>\n",
       "      <td>32.695392</td>\n",
       "      <td>-16.237457</td>\n",
       "      <td>II</td>\n",
       "      <td>False</td>\n",
       "      <td>0.69650</td>\n",
       "    </tr>\n",
       "    <tr>\n",
       "      <th>SN99946</th>\n",
       "      <td>[[11.961000000002969, 1.526, 5.683], [13.05500...</td>\n",
       "      <td>[[0.01599999999598367, 4.95, 3.147], [3.034999...</td>\n",
       "      <td>[[0.0, 0.4826, 2.129], [2.995999999999185, 0.7...</td>\n",
       "      <td>[[0.03899999999703141, 1.045, 2.483], [12.0389...</td>\n",
       "      <td>[0.0, 1.3626161616161374, 2.725232323232275, 4...</td>\n",
       "      <td>([11.961000000002969, 13.202242424245336, 14.4...</td>\n",
       "      <td>([0.01599999999598367, 1.3782121212081455, 2.7...</td>\n",
       "      <td>([0.0, 1.362181818181816, 2.724363636363632, 4...</td>\n",
       "      <td>([0.03899999999703141, 1.4012222222192594, 2.7...</td>\n",
       "      <td>[3.7693816011787566, 5.06053615747151, 6.78000...</td>\n",
       "      <td>...</td>\n",
       "      <td>95.149318</td>\n",
       "      <td>183.911735</td>\n",
       "      <td>62.540837</td>\n",
       "      <td>28.895781</td>\n",
       "      <td>-271.089743</td>\n",
       "      <td>54.766348</td>\n",
       "      <td>39.960405</td>\n",
       "      <td>Ia</td>\n",
       "      <td>True</td>\n",
       "      <td>0.40625</td>\n",
       "    </tr>\n",
       "    <tr>\n",
       "      <th>SN9999</th>\n",
       "      <td>[[8.942000000002736, 3.615, 5.646], [18.930000...</td>\n",
       "      <td>[[0.0, 11.54, 6.741], [7.9650000000037835, 4.9...</td>\n",
       "      <td>[[8.95400000000518, 0.9289, 4.33], [18.9380000...</td>\n",
       "      <td>[[7.973000000005413, 3.831, 6.472], [18.954000...</td>\n",
       "      <td>[0.0, 1.383727272727287, 2.767454545454574, 4....</td>\n",
       "      <td>([8.942000000002736, 10.114111111113816, 11.28...</td>\n",
       "      <td>([0.0, 1.383727272727287, 2.767454545454574, 4...</td>\n",
       "      <td>([8.95400000000518, 10.247202020207146, 11.540...</td>\n",
       "      <td>([7.973000000005413, 9.155171717177092, 10.337...</td>\n",
       "      <td>[4.850644791493887, 5.421672218074873, 6.00573...</td>\n",
       "      <td>...</td>\n",
       "      <td>-0.255811</td>\n",
       "      <td>27.946895</td>\n",
       "      <td>12.027626</td>\n",
       "      <td>-11.213953</td>\n",
       "      <td>2.524682</td>\n",
       "      <td>-3.917774</td>\n",
       "      <td>7.161194</td>\n",
       "      <td>II</td>\n",
       "      <td>False</td>\n",
       "      <td>0.54982</td>\n",
       "    </tr>\n",
       "  </tbody>\n",
       "</table>\n",
       "<p>21291 rows × 33 columns</p>\n",
       "</div>"
      ],
      "text/plain": [
       "                                                       desg  \\\n",
       "ID                                                            \n",
       "SN10001   [[0.0, 2.326, 4.792], [2.0, 4.617, 2.249], [9....   \n",
       "SN100023  [[6.984000000004016, 5.679, 6.387], [7.9920000...   \n",
       "SN10005   [[10.027000000001863, 4.996, 8.081], [33.94500...   \n",
       "...                                                     ...   \n",
       "SN99921   [[0.0, 8.327, 4.797], [2.0, 9.834, 2.261], [9....   \n",
       "SN99946   [[11.961000000002969, 1.526, 5.683], [13.05500...   \n",
       "SN9999    [[8.942000000002736, 3.615, 5.646], [18.930000...   \n",
       "\n",
       "                                                       desi  \\\n",
       "ID                                                            \n",
       "SN10001   [[0.031000000002677552, 8.672, 5.439], [2.1560...   \n",
       "SN100023  [[7.00800000000163, 4.698, 7.145], [8.02300000...   \n",
       "SN10005   [[0.015000000006693881, 0.2977, 2.206], [18.94...   \n",
       "...                                                     ...   \n",
       "SN99921   [[0.031000000002677552, 22.78, 5.454], [2.1560...   \n",
       "SN99946   [[0.01599999999598367, 4.95, 3.147], [3.034999...   \n",
       "SN9999    [[0.0, 11.54, 6.741], [7.9650000000037835, 4.9...   \n",
       "\n",
       "                                                       desr  \\\n",
       "ID                                                            \n",
       "SN10001   [[0.01600000000325963, 8.834, 5.339], [2.13999...   \n",
       "SN100023  [[0.0, 16.04, 17.59], [6.992000000005646, 19.8...   \n",
       "SN10005   [[0.0, 1.033, 1.325], [13.015000000006694, 0.4...   \n",
       "...                                                     ...   \n",
       "SN99921   [[0.01600000000325963, 26.73, 5.361], [2.13999...   \n",
       "SN99946   [[0.0, 0.4826, 2.129], [2.995999999999185, 0.7...   \n",
       "SN9999    [[8.95400000000518, 0.9289, 4.33], [18.9380000...   \n",
       "\n",
       "                                                       desz  \\\n",
       "ID                                                            \n",
       "SN10001   [[0.06199999999807915, 6.026, 4.693], [2.18699...   \n",
       "SN100023  [[4.121000000006461, 18.01, 3.601], [7.0230000...   \n",
       "SN10005   [[0.03500000000349246, 1.826, 3.029], [48.875,...   \n",
       "...                                                     ...   \n",
       "SN99921   [[0.06199999999807915, 15.19, 4.7], [2.1869999...   \n",
       "SN99946   [[0.03899999999703141, 1.045, 2.483], [12.0389...   \n",
       "SN9999    [[7.973000000005413, 3.831, 6.472], [18.954000...   \n",
       "\n",
       "                                                      Xaxis  \\\n",
       "ID                                                            \n",
       "SN10001   [0.0, 1.1313535353535435, 2.262707070707087, 3...   \n",
       "SN100023  [0.0, 1.3437474747475018, 2.6874949494950036, ...   \n",
       "SN10005   [0.0, 1.0381919191919462, 2.0763838383838924, ...   \n",
       "...                                                     ...   \n",
       "SN99921   [0.0, 1.2923333333333222, 2.5846666666666445, ...   \n",
       "SN99946   [0.0, 1.3626161616161374, 2.725232323232275, 4...   \n",
       "SN9999    [0.0, 1.383727272727287, 2.767454545454574, 4....   \n",
       "\n",
       "                                                    desg_GP  \\\n",
       "ID                                                            \n",
       "SN10001   ([0.0, 0.818888888888886, 1.637777777777772, 2...   \n",
       "SN100023  ([6.984000000004016, 8.256929292933277, 9.5298...   \n",
       "SN10005   ([10.027000000001863, 10.782565656567513, 11.5...   \n",
       "...                                                     ...   \n",
       "SN99921   ([0.0, 1.1299292929293416, 2.2598585858586833,...   \n",
       "SN99946   ([11.961000000002969, 13.202242424245336, 14.4...   \n",
       "SN9999    ([8.942000000002736, 10.114111111113816, 11.28...   \n",
       "\n",
       "                                                    desi_GP  \\\n",
       "ID                                                            \n",
       "SN10001   ([0.031000000002677552, 1.141676767679467, 2.2...   \n",
       "SN100023  ([7.00800000000163, 8.189737373738987, 9.37147...   \n",
       "SN10005   ([0.015000000006693881, 1.0530404040470573, 2....   \n",
       "...                                                     ...   \n",
       "SN99921   ([0.031000000002677552, 1.3230202020228414, 2....   \n",
       "SN99946   ([0.01599999999598367, 1.3782121212081455, 2.7...   \n",
       "SN9999    ([0.0, 1.383727272727287, 2.767454545454574, 4...   \n",
       "\n",
       "                                                    desr_GP  \\\n",
       "ID                                                            \n",
       "SN10001   ([0.01600000000325963, 1.076565656568908, 2.13...   \n",
       "SN100023  ([0.0, 0.8994242424242942, 1.7988484848485884,...   \n",
       "SN10005   ([0.0, 1.0281717171717606, 2.056343434343521, ...   \n",
       "...                                                     ...   \n",
       "SN99921   ([0.01600000000325963, 1.3080606060638358, 2.6...   \n",
       "SN99946   ([0.0, 1.362181818181816, 2.724363636363632, 4...   \n",
       "SN9999    ([8.95400000000518, 10.247202020207146, 11.540...   \n",
       "\n",
       "                                                    desz_GP  \\\n",
       "ID                                                            \n",
       "SN10001   ([0.06199999999807915, 1.1927272727253795, 2.3...   \n",
       "SN100023  ([4.121000000006461, 5.423121212127635, 6.7252...   \n",
       "SN10005   ([0.03500000000349246, 1.0222929292964054, 2.0...   \n",
       "...                                                     ...   \n",
       "SN99921   ([0.06199999999807915, 1.2726666666647435, 2.4...   \n",
       "SN99946   ([0.03899999999703141, 1.4012222222192594, 2.7...   \n",
       "SN9999    ([7.973000000005413, 9.155171717177092, 10.337...   \n",
       "\n",
       "                                                   wavelets  ...        f14  \\\n",
       "ID                                                           ...              \n",
       "SN10001   [9.251771363349247, 8.972870155014132, 8.79160...  ...   6.048710   \n",
       "SN100023  [12.22728787505526, 11.357060718395505, 10.716...  ...  33.710197   \n",
       "SN10005   [2.000004411755352, 2.000003547336676, 2.00000...  ... -26.554909   \n",
       "...                                                     ...  ...        ...   \n",
       "SN99921   [14.025137598441496, 16.23859348218353, 17.966...  ...  30.582545   \n",
       "SN99946   [3.7693816011787566, 5.06053615747151, 6.78000...  ...  95.149318   \n",
       "SN9999    [4.850644791493887, 5.421672218074873, 6.00573...  ...  -0.255811   \n",
       "\n",
       "                 f15        f16        f17         f18        f19        f20  \\\n",
       "ID                                                                             \n",
       "SN10001   -11.165995  23.954122  18.206973    6.125696   9.448978  -0.078004   \n",
       "SN100023  -11.581964  28.655932  19.743614    4.619543  37.266792 -16.596040   \n",
       "SN10005    15.768490  16.436792  17.114795  -20.292951 -24.222566 -11.295562   \n",
       "...              ...        ...        ...         ...        ...        ...   \n",
       "SN99921   -38.454611  33.695746  32.105615   -3.304444  32.695392 -16.237457   \n",
       "SN99946   183.911735  62.540837  28.895781 -271.089743  54.766348  39.960405   \n",
       "SN9999     27.946895  12.027626 -11.213953    2.524682  -3.917774   7.161194   \n",
       "\n",
       "          type  type_bool  REDSHIFT_SPEC  \n",
       "ID                                        \n",
       "SN10001     II      False        0.59162  \n",
       "SN100023    II      False        0.79264  \n",
       "SN10005     Ia       True        1.08327  \n",
       "...        ...        ...            ...  \n",
       "SN99921     II      False        0.69650  \n",
       "SN99946     Ia       True        0.40625  \n",
       "SN9999      II      False        0.54982  \n",
       "\n",
       "[21291 rows x 33 columns]"
      ]
     },
     "execution_count": 5,
     "metadata": {},
     "output_type": "execute_result"
    }
   ],
   "source": [
    "df = pd.read_pickle(\"../../data/structured/df.pkl\")\n",
    "df"
   ]
  },
  {
   "cell_type": "markdown",
   "metadata": {},
   "source": [
    "### Redshift Analysis"
   ]
  },
  {
   "cell_type": "code",
   "execution_count": 8,
   "metadata": {
    "jupyter": {
     "source_hidden": true
    }
   },
   "outputs": [
    {
     "data": {
      "text/plain": [
       "count    21291.000000\n",
       "mean         0.669160\n",
       "std          0.236500\n",
       "min          0.023250\n",
       "25%          0.486090\n",
       "50%          0.667460\n",
       "75%          0.859225\n",
       "max          1.115250\n",
       "Name: REDSHIFT_SPEC, dtype: float64"
      ]
     },
     "execution_count": 8,
     "metadata": {},
     "output_type": "execute_result"
    }
   ],
   "source": [
    "df.REDSHIFT_SPEC.describe()"
   ]
  },
  {
   "cell_type": "code",
   "execution_count": 12,
   "metadata": {
    "jupyter": {
     "source_hidden": true
    }
   },
   "outputs": [
    {
     "data": {
      "text/plain": [
       "<matplotlib.axes._subplots.AxesSubplot at 0x7f18554b1748>"
      ]
     },
     "execution_count": 12,
     "metadata": {},
     "output_type": "execute_result"
    },
    {
     "data": {
      "image/png": "[encoded data removed]",
      "text/plain": [
       "<Figure size 432x288 with 1 Axes>"
      ]
     },
     "metadata": {
      "needs_background": "light"
     },
     "output_type": "display_data"
    }
   ],
   "source": [
    "df.REDSHIFT_SPEC.plot.kde()"
   ]
  },
  {
   "cell_type": "code",
   "execution_count": 22,
   "metadata": {
    "jupyter": {
     "source_hidden": true
    }
   },
   "outputs": [
    {
     "data": {
      "text/plain": [
       "<matplotlib.axes._subplots.AxesSubplot at 0x7f185284b6d8>"
      ]
     },
     "execution_count": 22,
     "metadata": {},
     "output_type": "execute_result"
    },
    {
     "data": {
      "image/png": "[encoded data removed]",
      "text/plain": [
       "<Figure size 432x288 with 1 Axes>"
      ]
     },
     "metadata": {
      "needs_background": "light"
     },
     "output_type": "display_data"
    }
   ],
   "source": [
    "df.REDSHIFT_SPEC.plot.kde(bw_method=0.05)"
   ]
  },
  {
   "cell_type": "markdown",
   "metadata": {},
   "source": [
    "### Evaluation Metrics Study\n",
    "\n",
    "Using MAE, we can put a lower and upper bound on RMSE.\n",
    "\n",
    "    [MAE] ≤ [RMSE]. The RMSE result will always be larger or equal to the MAE. If all of the errors have the same magnitude, then RMSE=MAE.\n",
    "    [RMSE] ≤ [MAE * sqrt(n)], where n is the number of test samples. The difference between RMSE and MAE is greatest when all of the prediction error comes from a single test sample. The squared error then equals to [MAE^2 * n] for that single test sample and 0 for all other samples. Taking the square root, RMSE then equals to [MAE * sqrt(n)].\n",
    "\n",
    "    Focusing on the upper bound, this means that RMSE has a tendency to be increasingly larger than MAE as the test sample size increases.\n",
    "\n",
    "This can problematic when comparing RMSE results calculated on different sized test samples, which is frequently the case in real world modeling.\n",
    "Conclusion\n",
    "\n",
    "RMSE has the benefit of penalizing large errors more so can be more appropriate in some cases, for example, if being off by 10 is more than twice as bad as being off by 5. But if being off by 10 is just twice as bad as being off by 5, then MAE is more appropriate.\n",
    "\n",
    "From an interpretation standpoint, MAE is clearly the winner. RMSE does not describe average error alone and has other implications that are more difficult to tease out and understand.\n",
    "\n",
    "On the other hand, one distinct advantage of RMSE over MAE is that RMSE avoids the use of taking the absolute value, which is undesirable in many mathematical calculations (not discussed in this article, another time…)."
   ]
  },
  {
   "cell_type": "markdown",
   "metadata": {},
   "source": [
    "# ---------------------------------------------\n",
    "\n",
    "## First analysis: Do we see such a difference if we train/test with 1100 instead of 21k ? \n",
    "### Running real case vs normal (ideal) case"
   ]
  },
  {
   "cell_type": "code",
   "execution_count": 19,
   "metadata": {
    "jupyter": {
     "source_hidden": true
    }
   },
   "outputs": [
    {
     "name": "stdout",
     "output_type": "stream",
     "text": [
      " RMSE Means : \n",
      " \n",
      " Validate 19:  0.21604570925483899 \n",
      " Validate 2:  0.20487603052710918 \n",
      " No Validation:  0.20291589691530348\n",
      "\n",
      " MAE Means : \n",
      " \n",
      " Validate 19:  0.18087175347977422 \n",
      " Validate 2:  0.17043753354020633 \n",
      " No Validation:  0.16843508925504702\n",
      "\n",
      " R2 Means : \n",
      " \n",
      " Validate 19:  0.16540352410345993 \n",
      " Validate 2:  0.24947351165592976 \n",
      " No Validation:  0.26345156697804123\n"
     ]
    }
   ],
   "source": [
    "regressor = xgb.XGBRegressor(objective ='reg:squarederror', colsample_bytree = 0.3, learning_rate = 0.1, max_depth = 5, alpha = 10, n_estimators = 10)\n",
    "X = df.loc[:,'f1':'f20']\n",
    "y = np.array(df.REDSHIFT_SPEC)\n",
    "ans_real_19 = linear_regression(X, y, int(len(df)/1100), 5, regressor)\n",
    "ans_real_2 = linear_regression(X, y, 2, 5, regressor)\n",
    "ans_normal = normal_linear_regression(X, y, 5, regressor)\n",
    "evaluate(ans_real_19, ans_real_2, ans_normal)"
   ]
  },
  {
   "cell_type": "markdown",
   "metadata": {},
   "source": [
    "### Ans: Not that much"
   ]
  },
  {
   "cell_type": "markdown",
   "metadata": {},
   "source": [
    "# ---------------------------------------------\n",
    "\n",
    "## Second  analysis, Scaling values before training"
   ]
  },
  {
   "cell_type": "markdown",
   "metadata": {},
   "source": [
    "#### WithMinMax MinMax and Robust Scaler"
   ]
  },
  {
   "cell_type": "code",
   "execution_count": 22,
   "metadata": {
    "jupyter": {
     "source_hidden": true
    }
   },
   "outputs": [],
   "source": [
    "df_scaled, df_scaled_twice = apply_scalers(df, 20)"
   ]
  },
  {
   "cell_type": "code",
   "execution_count": 23,
   "metadata": {
    "jupyter": {
     "source_hidden": true
    }
   },
   "outputs": [
    {
     "name": "stdout",
     "output_type": "stream",
     "text": [
      " RMSE Means : \n",
      " \n",
      " Validate 19:  0.2160456825558131 \n",
      " Validate 2:  0.2048761872575971 \n",
      " No Validation:  0.202915879280149\n",
      "\n",
      " MAE Means : \n",
      " \n",
      " Validate 19:  0.1808717748220493 \n",
      " Validate 2:  0.17043778261986986 \n",
      " No Validation:  0.1684350493011773\n",
      "\n",
      " R2 Means : \n",
      " \n",
      " Validate 19:  0.1654037289623479 \n",
      " Validate 2:  0.24947235573374837 \n",
      " No Validation:  0.2634516927381191\n"
     ]
    }
   ],
   "source": [
    "ans_real_19 = linear_regression(df_scaled_twice, y, int(len(df)/1100), 5, regressor)\n",
    "ans_real_2 = linear_regression(df_scaled_twice, y, 2, 5, regressor)\n",
    "ans_normal = normal_linear_regression(df_scaled_twice, y, 5, regressor)\n",
    "evaluate(ans_real_19, ans_real_2, ans_normal)"
   ]
  },
  {
   "cell_type": "markdown",
   "metadata": {},
   "source": [
    "#### With only Robust Scaler"
   ]
  },
  {
   "cell_type": "code",
   "execution_count": 33,
   "metadata": {
    "jupyter": {
     "source_hidden": true
    }
   },
   "outputs": [
    {
     "name": "stdout",
     "output_type": "stream",
     "text": [
      " RMSE Means : \n",
      " \n",
      " Validate 19:  0.21604570925483899 \n",
      " Validate 2:  0.20487603052710918 \n",
      " No Validation:  0.20291589691530348\n",
      "\n",
      " MAE Means : \n",
      " \n",
      " Validate 19:  0.18087175347977422 \n",
      " Validate 2:  0.17043753354020633 \n",
      " No Validation:  0.16843508925504702\n",
      "\n",
      " R2 Means : \n",
      " \n",
      " Validate 19:  0.16540352410345993 \n",
      " Validate 2:  0.24947351165592976 \n",
      " No Validation:  0.26345156697804123\n"
     ]
    }
   ],
   "source": [
    "ans_real_19 = linear_regression(df_scaled, y, int(len(df)/1100), 5, regressor)\n",
    "ans_real_2 = linear_regression(df_scaled, y, 2, 5, regressor)\n",
    "ans_normal = normal_linear_regression(df_scaled, y, 5, regressor)\n",
    "evaluate(ans_real_19, ans_real_2, ans_normal)"
   ]
  },
  {
   "cell_type": "code",
   "execution_count": 37,
   "metadata": {
    "jupyter": {
     "source_hidden": true
    }
   },
   "outputs": [],
   "source": [
    "normal = 0.18087175347977422 \n",
    "two_scales =  0.1808717748220493\n",
    "robust_only = 0.18087175347977422 "
   ]
  },
  {
   "cell_type": "code",
   "execution_count": 39,
   "metadata": {
    "jupyter": {
     "source_hidden": true
    }
   },
   "outputs": [
    {
     "data": {
      "text/plain": [
       "True"
      ]
     },
     "execution_count": 39,
     "metadata": {},
     "output_type": "execute_result"
    }
   ],
   "source": [
    "normal < two_scales"
   ]
  },
  {
   "cell_type": "code",
   "execution_count": 44,
   "metadata": {
    "jupyter": {
     "source_hidden": true
    }
   },
   "outputs": [
    {
     "data": {
      "text/plain": [
       "True"
      ]
     },
     "execution_count": 44,
     "metadata": {},
     "output_type": "execute_result"
    }
   ],
   "source": [
    "normal == robust_only "
   ]
  },
  {
   "cell_type": "code",
   "execution_count": 42,
   "metadata": {
    "jupyter": {
     "source_hidden": true
    }
   },
   "outputs": [
    {
     "data": {
      "text/plain": [
       "False"
      ]
     },
     "execution_count": 42,
     "metadata": {},
     "output_type": "execute_result"
    }
   ],
   "source": [
    "robust_only < normal"
   ]
  },
  {
   "cell_type": "markdown",
   "metadata": {},
   "source": [
    "### Ans: Normal is already Robust scaled, \n",
    "### Scaling with MinMax get worse, but only after 10^-7. Almost nothing"
   ]
  },
  {
   "cell_type": "markdown",
   "metadata": {},
   "source": [
    "# ---------------------------------------------\n",
    "## Third  analysis, Comparing XGBoost with Standard linear regressions."
   ]
  },
  {
   "cell_type": "markdown",
   "metadata": {},
   "source": [
    "#### Linear Regression"
   ]
  },
  {
   "cell_type": "code",
   "execution_count": 49,
   "metadata": {
    "jupyter": {
     "source_hidden": true
    }
   },
   "outputs": [
    {
     "name": "stdout",
     "output_type": "stream",
     "text": [
      " RMSE Means : \n",
      " \n",
      " Validate 19:  0.457299926727576 \n",
      " Validate 2:  0.3230021618573106 \n",
      " No Validation:  0.2845866465485521\n",
      "\n",
      " MAE Means : \n",
      " \n",
      " Validate 19:  0.18896920956868293 \n",
      " Validate 2:  0.18661986259906924 \n",
      " No Validation:  0.1873529358052019\n",
      "\n",
      " R2 Means : \n",
      " \n",
      " Validate 19:  -2.910207502714059 \n",
      " Validate 2:  -0.8726183095960544 \n",
      " No Validation:  -0.48377809928673515\n"
     ]
    }
   ],
   "source": [
    "lin_regressor = LinearRegression()\n",
    "ans_real_19 = linear_regression(X, y, int(len(df)/1100), 5, lin_regressor)\n",
    "ans_real_2 = linear_regression(X, y, 2, 5, lin_regressor)\n",
    "ans_normal = normal_linear_regression(X, y, 5, lin_regressor)\n",
    "evaluate(ans_real_19, ans_real_2, ans_normal)"
   ]
  },
  {
   "cell_type": "markdown",
   "metadata": {},
   "source": [
    "#### Ridge Regression"
   ]
  },
  {
   "cell_type": "code",
   "execution_count": 56,
   "metadata": {
    "jupyter": {
     "source_hidden": true
    }
   },
   "outputs": [
    {
     "name": "stdout",
     "output_type": "stream",
     "text": [
      " RMSE Means : \n",
      " \n",
      " Validate 19:  0.45729984098797266 \n",
      " Validate 2:  0.3230021550293714 \n",
      " No Validation:  0.28458664512762194\n",
      "\n",
      " MAE Means : \n",
      " \n",
      " Validate 19:  0.18896920553083002 \n",
      " Validate 2:  0.18661986245955972 \n",
      " No Validation:  0.18735293577170517\n",
      "\n",
      " R2 Means : \n",
      " \n",
      " Validate 19:  -2.910206048518487 \n",
      " Validate 2:  -0.8726182317165769 \n",
      " No Validation:  -0.48377808272506756\n"
     ]
    }
   ],
   "source": [
    "ridge_regressor = Ridge(alpha=1)\n",
    "ans_real_19 = linear_regression(X, y, int(len(df)/1100), 5, ridge_regressor)\n",
    "ans_real_2 = linear_regression(X, y, 2, 5, ridge_regressor)\n",
    "ans_normal = normal_linear_regression(X, y, 5, ridge_regressor)\n",
    "evaluate(ans_real_19, ans_real_2, ans_normal)"
   ]
  },
  {
   "cell_type": "markdown",
   "metadata": {},
   "source": [
    "#### Ridge Normalized"
   ]
  },
  {
   "cell_type": "code",
   "execution_count": 61,
   "metadata": {
    "jupyter": {
     "source_hidden": true
    }
   },
   "outputs": [
    {
     "name": "stdout",
     "output_type": "stream",
     "text": [
      " RMSE Means : \n",
      " \n",
      " Validate 19:  0.2315236258326573 \n",
      " Validate 2:  0.22523737694724205 \n",
      " No Validation:  0.22526904971584966\n",
      "\n",
      " MAE Means : \n",
      " \n",
      " Validate 19:  0.18737082452294743 \n",
      " Validate 2:  0.19023600589858533 \n",
      " No Validation:  0.1907840536721026\n",
      "\n",
      " R2 Means : \n",
      " \n",
      " Validate 19:  0.03980239101575487 \n",
      " Validate 2:  0.09287946627344348 \n",
      " No Validation:  0.09231173490692579\n"
     ]
    }
   ],
   "source": [
    "ridge_regressor = Ridge(alpha=1, normalize = True)\n",
    "ans_real_19 = linear_regression(X, y, int(len(df)/1100), 5, ridge_regressor)\n",
    "ans_real_2 = linear_regression(X, y, 2, 5, ridge_regressor)\n",
    "ans_normal = normal_linear_regression(X, y, 5, ridge_regressor)\n",
    "evaluate(ans_real_19, ans_real_2, ans_normal)"
   ]
  },
  {
   "cell_type": "markdown",
   "metadata": {},
   "source": [
    "#### Ridge with tolerance"
   ]
  },
  {
   "cell_type": "code",
   "execution_count": 58,
   "metadata": {
    "jupyter": {
     "source_hidden": true
    }
   },
   "outputs": [
    {
     "name": "stdout",
     "output_type": "stream",
     "text": [
      " RMSE Means : \n",
      " \n",
      " Validate 19:  0.2315236258326573 \n",
      " Validate 2:  0.22523737694724205 \n",
      " No Validation:  0.22526904971584966\n",
      "\n",
      " MAE Means : \n",
      " \n",
      " Validate 19:  0.18737082452294743 \n",
      " Validate 2:  0.19023600589858533 \n",
      " No Validation:  0.1907840536721026\n",
      "\n",
      " R2 Means : \n",
      " \n",
      " Validate 19:  0.03980239101575487 \n",
      " Validate 2:  0.09287946627344348 \n",
      " No Validation:  0.09231173490692579\n"
     ]
    }
   ],
   "source": [
    "ridge_regressor = Ridge(alpha=1, normalize = True, tol=0.00001)\n",
    "ans_real_19 = linear_regression(X, y, int(len(df)/1100), 5, ridge_regressor)\n",
    "ans_real_2 = linear_regression(X, y, 2, 5, ridge_regressor)\n",
    "ans_normal = normal_linear_regression(X, y, 5, ridge_regressor)\n",
    "evaluate(ans_real_19, ans_real_2, ans_normal)"
   ]
  },
  {
   "cell_type": "markdown",
   "metadata": {},
   "source": [
    "### ANS: Normalize makes difference, tol do not."
   ]
  },
  {
   "cell_type": "markdown",
   "metadata": {},
   "source": [
    "#### Lasso Regrssion"
   ]
  },
  {
   "cell_type": "code",
   "execution_count": 62,
   "metadata": {
    "jupyter": {
     "source_hidden": true
    }
   },
   "outputs": [
    {
     "name": "stdout",
     "output_type": "stream",
     "text": [
      " RMSE Means : \n",
      " \n",
      " Validate 19:  0.23661582136383139 \n",
      " Validate 2:  0.23649401731007624 \n",
      " No Validation:  0.236503855192043\n",
      "\n",
      " MAE Means : \n",
      " \n",
      " Validate 19:  0.1997466131584448 \n",
      " Validate 2:  0.1996708530168731 \n",
      " No Validation:  0.19968300969313874\n",
      "\n",
      " R2 Means : \n",
      " \n",
      " Validate 19:  -0.0010295569096741219 \n",
      " Validate 2:  -2.7945082319891234e-05 \n",
      " No Validation:  -0.00042488071704225303\n"
     ]
    }
   ],
   "source": [
    "lasso_regressor = Lasso(alpha=1, normalize = True)\n",
    "ans_real_19 = linear_regression(X, y, int(len(df)/1100), 5, lasso_regressor)\n",
    "ans_real_2 = linear_regression(X, y, 2, 5, lasso_regressor)\n",
    "ans_normal = normal_linear_regression(X, y, 5, lasso_regressor)\n",
    "evaluate(ans_real_19, ans_real_2, ans_normal)"
   ]
  },
  {
   "cell_type": "markdown",
   "metadata": {},
   "source": [
    "#### Elastic Search"
   ]
  },
  {
   "cell_type": "code",
   "execution_count": 63,
   "metadata": {
    "jupyter": {
     "source_hidden": true
    }
   },
   "outputs": [
    {
     "name": "stdout",
     "output_type": "stream",
     "text": [
      " RMSE Means : \n",
      " \n",
      " Validate 19:  0.23661582136383139 \n",
      " Validate 2:  0.23649401731007624 \n",
      " No Validation:  0.236503855192043\n",
      "\n",
      " MAE Means : \n",
      " \n",
      " Validate 19:  0.1997466131584448 \n",
      " Validate 2:  0.1996708530168731 \n",
      " No Validation:  0.19968300969313874\n",
      "\n",
      " R2 Means : \n",
      " \n",
      " Validate 19:  -0.0010295569096741219 \n",
      " Validate 2:  -2.7945082319891234e-05 \n",
      " No Validation:  -0.00042488071704225303\n"
     ]
    }
   ],
   "source": [
    "elastic_regressor = ElasticNet(alpha=1, normalize = True)\n",
    "ans_real_19 = linear_regression(X, y, int(len(df)/1100), 5, elastic_regressor)\n",
    "ans_real_2 = linear_regression(X, y, 2, 5, elastic_regressor)\n",
    "ans_normal = normal_linear_regression(X, y, 5, elastic_regressor)\n",
    "evaluate(ans_real_19, ans_real_2, ans_normal)"
   ]
  },
  {
   "cell_type": "markdown",
   "metadata": {},
   "source": [
    "### ANS: XGBoost the best so far.\n",
    "#### Scaling with MinMax get worse, but only after 10^-7. Almost nothing.\n"
   ]
  },
  {
   "cell_type": "markdown",
   "metadata": {},
   "source": [
    "# ---------------------------------------------\n",
    "\n",
    "## Fourth Analysis - Compare real Kde with best model predicted  Kde"
   ]
  },
  {
   "cell_type": "code",
   "execution_count": 67,
   "metadata": {
    "jupyter": {
     "source_hidden": true
    }
   },
   "outputs": [
    {
     "data": {
      "text/plain": [
       "<matplotlib.axes._subplots.AxesSubplot at 0x7f8e732444a8>"
      ]
     },
     "execution_count": 67,
     "metadata": {},
     "output_type": "execute_result"
    },
    {
     "data": {
      "image/png": "[encoded data removed]",
      "text/plain": [
       "<Figure size 432x288 with 1 Axes>"
      ]
     },
     "metadata": {
      "needs_background": "light"
     },
     "output_type": "display_data"
    }
   ],
   "source": [
    "df.REDSHIFT_SPEC.plot.kde()"
   ]
  },
  {
   "cell_type": "code",
   "execution_count": 65,
   "metadata": {
    "jupyter": {
     "source_hidden": true
    }
   },
   "outputs": [
    {
     "data": {
      "text/plain": [
       "<matplotlib.axes._subplots.AxesSubplot at 0x7f8e72e4bf60>"
      ]
     },
     "execution_count": 65,
     "metadata": {},
     "output_type": "execute_result"
    },
    {
     "data": {
      "image/png": "[encoded data removed]",
      "text/plain": [
       "<Figure size 432x288 with 1 Axes>"
      ]
     },
     "metadata": {
      "needs_background": "light"
     },
     "output_type": "display_data"
    }
   ],
   "source": [
    "df.REDSHIFT_SPEC.plot.kde(bw_method=0.05)"
   ]
  },
  {
   "cell_type": "code",
   "execution_count": 82,
   "metadata": {
    "jupyter": {
     "source_hidden": true
    }
   },
   "outputs": [
    {
     "data": {
      "text/plain": [
       "count    21291.000000\n",
       "mean         0.669160\n",
       "std          0.236500\n",
       "min          0.023250\n",
       "25%          0.486090\n",
       "50%          0.667460\n",
       "75%          0.859225\n",
       "max          1.115250\n",
       "Name: REDSHIFT_SPEC, dtype: float64"
      ]
     },
     "execution_count": 82,
     "metadata": {},
     "output_type": "execute_result"
    }
   ],
   "source": [
    "df.REDSHIFT_SPEC.describe()"
   ]
  },
  {
   "cell_type": "code",
   "execution_count": 68,
   "metadata": {
    "jupyter": {
     "source_hidden": true
    }
   },
   "outputs": [],
   "source": [
    "xgb_regressor = xgb.XGBRegressor(objective ='reg:squarederror', colsample_bytree = 0.3, learning_rate = 0.1, max_depth = 5, alpha = 10, n_estimators = 10)\n",
    "X = df.loc[:,'f1':'f20']\n",
    "y = np.array(df.REDSHIFT_SPEC)\n",
    "ans_real_19 = linear_regression(X, y, int(len(df)/1100), 5, xgb_regressor)"
   ]
  },
  {
   "cell_type": "markdown",
   "metadata": {},
   "source": [
    "### Assessing if values of error from samples follow the same error"
   ]
  },
  {
   "cell_type": "code",
   "execution_count": 83,
   "metadata": {
    "jupyter": {
     "source_hidden": true
    }
   },
   "outputs": [
    {
     "data": {
      "text/plain": [
       "<matplotlib.axes._subplots.AxesSubplot at 0x7f8e7138be48>"
      ]
     },
     "execution_count": 83,
     "metadata": {},
     "output_type": "execute_result"
    },
    {
     "data": {
      "image/png": "[encoded data removed]",
      "text/plain": [
       "<Figure size 432x288 with 1 Axes>"
      ]
     },
     "metadata": {
      "needs_background": "light"
     },
     "output_type": "display_data"
    }
   ],
   "source": [
    "pd.Series(ans_real_19[0]['true_preds']).plot.kde()"
   ]
  },
  {
   "cell_type": "code",
   "execution_count": 84,
   "metadata": {
    "jupyter": {
     "source_hidden": true
    }
   },
   "outputs": [
    {
     "data": {
      "text/plain": [
       "<matplotlib.axes._subplots.AxesSubplot at 0x7f8e7248c6a0>"
      ]
     },
     "execution_count": 84,
     "metadata": {},
     "output_type": "execute_result"
    },
    {
     "data": {
      "image/png": "[encoded data removed]",
      "text/plain": [
       "<Figure size 432x288 with 1 Axes>"
      ]
     },
     "metadata": {
      "needs_background": "light"
     },
     "output_type": "display_data"
    }
   ],
   "source": [
    "pd.Series(ans_real_19[0]['true_preds']).plot.kde(bw_method=0.05)"
   ]
  },
  {
   "cell_type": "code",
   "execution_count": 88,
   "metadata": {
    "jupyter": {
     "source_hidden": true
    }
   },
   "outputs": [
    {
     "data": {
      "text/plain": [
       "count    20170.000000\n",
       "mean         0.612776\n",
       "std          0.065114\n",
       "min          0.487252\n",
       "25%          0.558263\n",
       "50%          0.647666\n",
       "75%          0.667518\n",
       "max          0.667518\n",
       "dtype: float64"
      ]
     },
     "execution_count": 88,
     "metadata": {},
     "output_type": "execute_result"
    }
   ],
   "source": [
    "pd.Series(ans_real_19[0]['true_preds']).describe()"
   ]
  },
  {
   "cell_type": "code",
   "execution_count": 80,
   "metadata": {
    "jupyter": {
     "source_hidden": true
    }
   },
   "outputs": [
    {
     "data": {
      "image/png": "[encoded data removed]",
      "text/plain": [
       "<Figure size 432x288 with 1 Axes>"
      ]
     },
     "metadata": {
      "needs_background": "light"
     },
     "output_type": "display_data"
    }
   ],
   "source": [
    "for i in range(95):\n",
    "    pd.Series(ans_real_19[i]['true_preds']).plot.kde()\n",
    "    #pd.Series(ans_real_19[i]['true_preds']).plot.kde(bw_method=0.05)"
   ]
  },
  {
   "cell_type": "code",
   "execution_count": 81,
   "metadata": {
    "jupyter": {
     "source_hidden": true
    }
   },
   "outputs": [
    {
     "data": {
      "image/png": "[encoded data removed]",
      "text/plain": [
       "<Figure size 432x288 with 1 Axes>"
      ]
     },
     "metadata": {
      "needs_background": "light"
     },
     "output_type": "display_data"
    }
   ],
   "source": [
    "for i in range(95):\n",
    "    pd.Series(ans_real_19[i]['true_preds']).plot.kde(bw_method=0.05)"
   ]
  },
  {
   "cell_type": "markdown",
   "metadata": {},
   "source": [
    "### ANS: Models follow the same prediction pattern regardless the data used to train."
   ]
  },
  {
   "cell_type": "code",
   "execution_count": null,
   "metadata": {
    "jupyter": {
     "source_hidden": true
    }
   },
   "outputs": [],
   "source": []
  }
 ],
 "metadata": {
  "kernelspec": {
   "display_name": ".redshift_prediction",
   "language": "python",
   "name": ".redshift_prediction"
  },
  "language_info": {
   "codemirror_mode": {
    "name": "ipython",
    "version": 3
   },
   "file_extension": ".py",
   "mimetype": "text/x-python",
   "name": "python",
   "nbconvert_exporter": "python",
   "pygments_lexer": "ipython3",
   "version": "3.6.9"
  }
 },
 "nbformat": 4,
 "nbformat_minor": 4
}
