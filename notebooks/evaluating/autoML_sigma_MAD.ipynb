{
 "cells": [
  {
   "cell_type": "markdown",
   "metadata": {},
   "source": [
    "## This notebook chooses the best model and based on its predictions on validation set, it calculates a SIGMA MAD validation metric"
   ]
  },
  {
   "cell_type": "code",
   "execution_count": 7,
   "metadata": {},
   "outputs": [
    {
     "name": "stdout",
     "output_type": "stream",
     "text": [
      "The autoreload extension is already loaded. To reload it, use:\n",
      "  %reload_ext autoreload\n"
     ]
    }
   ],
   "source": [
    "%load_ext autoreload\n",
    "%autoreload 2\n",
    "import os \n",
    "import sys\n",
    "import time\n",
    "import h2o\n",
    "\n",
    "import pandas as pd"
   ]
  },
  {
   "cell_type": "code",
   "execution_count": 29,
   "metadata": {},
   "outputs": [],
   "source": [
    "module_path = os.path.abspath(os.path.join('..','..'))\n",
    "if module_path not in sys.path:\n",
    "    sys.path.append(module_path)\n",
    "\n",
    "from src.modeling.functions_autoML import gen_predictions"
   ]
  },
  {
   "cell_type": "code",
   "execution_count": 19,
   "metadata": {},
   "outputs": [],
   "source": [
    "pd.set_option(\"display.max_rows\", 6)"
   ]
  },
  {
   "cell_type": "code",
   "execution_count": 36,
   "metadata": {},
   "outputs": [],
   "source": [
    "df = pd.read_pickle(\"../../data/structured/df.pkl\")\n",
    "#IA Filter\n",
    "df = df.loc[df.type_bool == True]"
   ]
  },
  {
   "cell_type": "markdown",
   "metadata": {},
   "source": [
    "#### Getting h2o best result and making a prediction to list"
   ]
  },
  {
   "cell_type": "code",
   "execution_count": 12,
   "metadata": {},
   "outputs": [
    {
     "name": "stdout",
     "output_type": "stream",
     "text": [
      "generic Model Build progress: |███████████████████████████████████████████| 100%\n",
      "Model Details\n",
      "=============\n",
      "H2OGenericEstimator :  Import MOJO Model\n",
      "Model Key:  Generic_model_python_1608689537668_2\n",
      "\n",
      "No model summary for this model\n",
      "\n",
      "ModelMetricsRegressionGeneric: generic\n",
      "** Reported on train data. **\n",
      "\n",
      "MSE: 0.002250204251768219\n",
      "RMSE: 0.04743631785634525\n",
      "MAE: 0.035373368298983764\n",
      "RMSLE: 0.026542703609754942\n",
      "Mean Residual Deviance: 0.002250204251768219\n",
      "\n",
      "ModelMetricsRegressionGeneric: generic\n",
      "** Reported on cross-validation data. **\n",
      "\n",
      "MSE: 0.00761592126008453\n",
      "RMSE: 0.08726924578615614\n",
      "MAE: 0.06693126534743787\n",
      "RMSLE: 0.050119043057072946\n",
      "Mean Residual Deviance: 0.00761592126008453\n",
      "\n"
     ]
    }
   ],
   "source": [
    "h2o.init(ip=\"localhost\", port=54323)\n",
    "best_model = h2o.import_mojo('../../models/mojo_40_ensemble/StackedEnsemble_AllModels_AutoML_20201222_113425.zip')"
   ]
  },
  {
   "cell_type": "markdown",
   "metadata": {},
   "source": [
    "## Predicting values based on data used to validation"
   ]
  },
  {
   "cell_type": "code",
   "execution_count": 51,
   "metadata": {},
   "outputs": [
    {
     "name": "stdout",
     "output_type": "stream",
     "text": [
      "Parse progress: |█████████████████████████████████████████████████████████| 100%\n",
      "Parse progress: |█████████████████████████████████████████████████████████| 100%\n",
      "generic prediction progress: |████████████████████████████████████████████| 100%\n",
      "\n",
      " 2550 train/test objects  \n",
      " and 2528 validation objects\n"
     ]
    }
   ],
   "source": [
    "preds, len_train, len_validation = gen_predictions(df, best_model)"
   ]
  },
  {
   "cell_type": "markdown",
   "metadata": {},
   "source": [
    "## Creates new column on df. It will be used for SIGMA MAD calculus."
   ]
  },
  {
   "cell_type": "code",
   "execution_count": 52,
   "metadata": {},
   "outputs": [
    {
     "name": "stderr",
     "output_type": "stream",
     "text": [
      "/home/fmoliveira/.local/lib/python3.6/site-packages/ipykernel_launcher.py:2: SettingWithCopyWarning: \n",
      "A value is trying to be set on a copy of a slice from a DataFrame.\n",
      "Try using .loc[row_indexer,col_indexer] = value instead\n",
      "\n",
      "See the caveats in the documentation: https://pandas.pydata.org/pandas-docs/stable/user_guide/indexing.html#returning-a-view-versus-a-copy\n",
      "  \n"
     ]
    },
    {
     "data": {
      "text/html": [
       "<div>\n",
       "<style scoped>\n",
       "    .dataframe tbody tr th:only-of-type {\n",
       "        vertical-align: middle;\n",
       "    }\n",
       "\n",
       "    .dataframe tbody tr th {\n",
       "        vertical-align: top;\n",
       "    }\n",
       "\n",
       "    .dataframe thead th {\n",
       "        text-align: right;\n",
       "    }\n",
       "</style>\n",
       "<table border=\"1\" class=\"dataframe\">\n",
       "  <thead>\n",
       "    <tr style=\"text-align: right;\">\n",
       "      <th></th>\n",
       "      <th>desg</th>\n",
       "      <th>desi</th>\n",
       "      <th>desr</th>\n",
       "      <th>desz</th>\n",
       "      <th>Xaxis</th>\n",
       "      <th>desg_GP</th>\n",
       "      <th>desi_GP</th>\n",
       "      <th>desr_GP</th>\n",
       "      <th>desz_GP</th>\n",
       "      <th>wavelets</th>\n",
       "      <th>...</th>\n",
       "      <th>f15</th>\n",
       "      <th>f16</th>\n",
       "      <th>f17</th>\n",
       "      <th>f18</th>\n",
       "      <th>f19</th>\n",
       "      <th>f20</th>\n",
       "      <th>type</th>\n",
       "      <th>type_bool</th>\n",
       "      <th>REDSHIFT_SPEC</th>\n",
       "      <th>zphot</th>\n",
       "    </tr>\n",
       "    <tr>\n",
       "      <th>ID</th>\n",
       "      <th></th>\n",
       "      <th></th>\n",
       "      <th></th>\n",
       "      <th></th>\n",
       "      <th></th>\n",
       "      <th></th>\n",
       "      <th></th>\n",
       "      <th></th>\n",
       "      <th></th>\n",
       "      <th></th>\n",
       "      <th></th>\n",
       "      <th></th>\n",
       "      <th></th>\n",
       "      <th></th>\n",
       "      <th></th>\n",
       "      <th></th>\n",
       "      <th></th>\n",
       "      <th></th>\n",
       "      <th></th>\n",
       "      <th></th>\n",
       "      <th></th>\n",
       "    </tr>\n",
       "  </thead>\n",
       "  <tbody>\n",
       "    <tr>\n",
       "      <th>SN510924</th>\n",
       "      <td>[[8.031000000002678, 5.216, 6.285], [28.879000...</td>\n",
       "      <td>[[13.93699999999808, 2.199, 7.08], [44.8870000...</td>\n",
       "      <td>[[0.0, 2.088, 2.24], [13.042999999997846, 1.82...</td>\n",
       "      <td>[[13.953000000001339, 1.99, 5.422], [36.940999...</td>\n",
       "      <td>[0.0, 0.7661717171717413, 1.5323434343434825, ...</td>\n",
       "      <td>([8.031000000002678, 8.70594949495217, 9.38089...</td>\n",
       "      <td>([13.93699999999808, 14.552414141412289, 15.16...</td>\n",
       "      <td>([0.0, 0.7561111111111435, 1.512222222222287, ...</td>\n",
       "      <td>([13.953000000001339, 14.578232323233673, 15.2...</td>\n",
       "      <td>[10.589545779483814, 8.708973184516886, 7.2444...</td>\n",
       "      <td>...</td>\n",
       "      <td>-39.555982</td>\n",
       "      <td>-16.293731</td>\n",
       "      <td>47.963569</td>\n",
       "      <td>-45.448702</td>\n",
       "      <td>-27.989244</td>\n",
       "      <td>-6.281132</td>\n",
       "      <td>Ia</td>\n",
       "      <td>True</td>\n",
       "      <td>0.85640</td>\n",
       "      <td>0.868346</td>\n",
       "    </tr>\n",
       "    <tr>\n",
       "      <th>SN511436</th>\n",
       "      <td>[[1.9689999999973224, 1.07, 3.215], [10.089999...</td>\n",
       "      <td>[[0.01600000000325963, 51.65, 9.372], [2.0, 49...</td>\n",
       "      <td>[[0.0, 35.65, 7.882], [1.9839999999967404, 32....</td>\n",
       "      <td>[[0.9610000000029686, 54.02, 5.43], [9.9409999...</td>\n",
       "      <td>[0.0, 0.8387777777777478, 1.6775555555554955, ...</td>\n",
       "      <td>([1.9689999999973224, 2.6458080808054114, 3.32...</td>\n",
       "      <td>([0.01600000000325963, 0.8545353535386073, 1.6...</td>\n",
       "      <td>([0.0, 0.7076262626262656, 1.4152525252525312,...</td>\n",
       "      <td>([0.9610000000029686, 1.7900707070736157, 2.61...</td>\n",
       "      <td>[9.27014418909458, 8.255517290037698, 7.745205...</td>\n",
       "      <td>...</td>\n",
       "      <td>23.134718</td>\n",
       "      <td>128.783691</td>\n",
       "      <td>-8.731676</td>\n",
       "      <td>12.435225</td>\n",
       "      <td>17.675975</td>\n",
       "      <td>31.130664</td>\n",
       "      <td>Ia</td>\n",
       "      <td>True</td>\n",
       "      <td>0.58313</td>\n",
       "      <td>0.542263</td>\n",
       "    </tr>\n",
       "    <tr>\n",
       "      <th>SN511804</th>\n",
       "      <td>[[2.989000000001397, 3.118, 2.585], [13.055000...</td>\n",
       "      <td>[[0.01599999999598367, 17.51, 3.166], [3.03499...</td>\n",
       "      <td>[[0.0, 1.033, 2.13], [4.082000000002154, 5.482...</td>\n",
       "      <td>[[0.03899999999703141, 19.44, 2.511], [3.06700...</td>\n",
       "      <td>[0.0, 1.1714444444444256, 2.3428888888888513, ...</td>\n",
       "      <td>([2.989000000001397, 4.129939393940805, 5.2708...</td>\n",
       "      <td>([0.01599999999598367, 1.1872828282788337, 2.3...</td>\n",
       "      <td>([0.0, 1.1302525252524929, 2.2605050505049857,...</td>\n",
       "      <td>([0.03899999999703141, 1.208666666663758, 2.37...</td>\n",
       "      <td>[5.178899315805631, 6.259860318410908, 7.21610...</td>\n",
       "      <td>...</td>\n",
       "      <td>18.961628</td>\n",
       "      <td>22.237930</td>\n",
       "      <td>22.428448</td>\n",
       "      <td>16.678827</td>\n",
       "      <td>0.003466</td>\n",
       "      <td>13.356164</td>\n",
       "      <td>Ia</td>\n",
       "      <td>True</td>\n",
       "      <td>0.99576</td>\n",
       "      <td>0.985524</td>\n",
       "    </tr>\n",
       "    <tr>\n",
       "      <th>...</th>\n",
       "      <td>...</td>\n",
       "      <td>...</td>\n",
       "      <td>...</td>\n",
       "      <td>...</td>\n",
       "      <td>...</td>\n",
       "      <td>...</td>\n",
       "      <td>...</td>\n",
       "      <td>...</td>\n",
       "      <td>...</td>\n",
       "      <td>...</td>\n",
       "      <td>...</td>\n",
       "      <td>...</td>\n",
       "      <td>...</td>\n",
       "      <td>...</td>\n",
       "      <td>...</td>\n",
       "      <td>...</td>\n",
       "      <td>...</td>\n",
       "      <td>...</td>\n",
       "      <td>...</td>\n",
       "      <td>...</td>\n",
       "      <td>...</td>\n",
       "    </tr>\n",
       "    <tr>\n",
       "      <th>SN99438</th>\n",
       "      <td>[[0.0, 2.33, 2.55], [7.894000000000233, 3.805,...</td>\n",
       "      <td>[[0.030999999995401595, 0.006543, 3.683], [7.9...</td>\n",
       "      <td>[[0.014999999999417923, 0.4446, 1.3], [14.0039...</td>\n",
       "      <td>[[0.06199999999807915, 1.497, 4.486], [7.97199...</td>\n",
       "      <td>[0.0, 1.7255757575757058, 3.4511515151514116, ...</td>\n",
       "      <td>([0.0, 1.6948383838383538, 3.3896767676767077,...</td>\n",
       "      <td>([0.030999999995401595, 1.75597979797521, 3.48...</td>\n",
       "      <td>([0.014999999999417923, 1.7298888888882826, 3....</td>\n",
       "      <td>([0.06199999999807915, 1.7869494949475417, 3.5...</td>\n",
       "      <td>[6.789900493579756, 7.110462975693107, 7.57937...</td>\n",
       "      <td>...</td>\n",
       "      <td>-34.417710</td>\n",
       "      <td>32.878025</td>\n",
       "      <td>-33.942007</td>\n",
       "      <td>34.613412</td>\n",
       "      <td>61.324876</td>\n",
       "      <td>-51.210969</td>\n",
       "      <td>Ia</td>\n",
       "      <td>True</td>\n",
       "      <td>0.75966</td>\n",
       "      <td>0.732788</td>\n",
       "    </tr>\n",
       "    <tr>\n",
       "      <th>SN99457</th>\n",
       "      <td>[[0.0, 10.06, 4.768], [4.075000000004366, 4.39...</td>\n",
       "      <td>[[3.0429999999978463, 0.9564, 1.984], [4.10599...</td>\n",
       "      <td>[[3.004000000000815, 1.456, 1.709], [4.0900000...</td>\n",
       "      <td>[[4.137000000002445, 9.726, 4.49], [12.0469999...</td>\n",
       "      <td>[0.0, 1.7667373737373662, 3.5334747474747323, ...</td>\n",
       "      <td>([0.0, 1.7360000000000142, 3.4720000000000284,...</td>\n",
       "      <td>([3.0429999999978463, 4.778717171715048, 6.514...</td>\n",
       "      <td>([3.004000000000815, 4.729858585859406, 6.4557...</td>\n",
       "      <td>([4.137000000002445, 5.861949494951907, 7.5868...</td>\n",
       "      <td>[8.252504299669107, 11.125114322870362, 13.374...</td>\n",
       "      <td>...</td>\n",
       "      <td>9.078515</td>\n",
       "      <td>-15.904951</td>\n",
       "      <td>34.732243</td>\n",
       "      <td>-14.319036</td>\n",
       "      <td>-22.934570</td>\n",
       "      <td>-9.153751</td>\n",
       "      <td>Ia</td>\n",
       "      <td>True</td>\n",
       "      <td>0.80886</td>\n",
       "      <td>0.883200</td>\n",
       "    </tr>\n",
       "    <tr>\n",
       "      <th>SN99946</th>\n",
       "      <td>[[11.961000000002969, 1.526, 5.683], [13.05500...</td>\n",
       "      <td>[[0.01599999999598367, 4.95, 3.147], [3.034999...</td>\n",
       "      <td>[[0.0, 0.4826, 2.129], [2.995999999999185, 0.7...</td>\n",
       "      <td>[[0.03899999999703141, 1.045, 2.483], [12.0389...</td>\n",
       "      <td>[0.0, 1.3626161616161374, 2.725232323232275, 4...</td>\n",
       "      <td>([11.961000000002969, 13.202242424245336, 14.4...</td>\n",
       "      <td>([0.01599999999598367, 1.3782121212081455, 2.7...</td>\n",
       "      <td>([0.0, 1.362181818181816, 2.724363636363632, 4...</td>\n",
       "      <td>([0.03899999999703141, 1.4012222222192594, 2.7...</td>\n",
       "      <td>[3.7693816011787566, 5.06053615747151, 6.78000...</td>\n",
       "      <td>...</td>\n",
       "      <td>183.911735</td>\n",
       "      <td>62.540835</td>\n",
       "      <td>28.895779</td>\n",
       "      <td>-271.089840</td>\n",
       "      <td>54.766397</td>\n",
       "      <td>39.959973</td>\n",
       "      <td>Ia</td>\n",
       "      <td>True</td>\n",
       "      <td>0.40625</td>\n",
       "      <td>0.413554</td>\n",
       "    </tr>\n",
       "  </tbody>\n",
       "</table>\n",
       "<p>2528 rows × 34 columns</p>\n",
       "</div>"
      ],
      "text/plain": [
       "                                                       desg  \\\n",
       "ID                                                            \n",
       "SN510924  [[8.031000000002678, 5.216, 6.285], [28.879000...   \n",
       "SN511436  [[1.9689999999973224, 1.07, 3.215], [10.089999...   \n",
       "SN511804  [[2.989000000001397, 3.118, 2.585], [13.055000...   \n",
       "...                                                     ...   \n",
       "SN99438   [[0.0, 2.33, 2.55], [7.894000000000233, 3.805,...   \n",
       "SN99457   [[0.0, 10.06, 4.768], [4.075000000004366, 4.39...   \n",
       "SN99946   [[11.961000000002969, 1.526, 5.683], [13.05500...   \n",
       "\n",
       "                                                       desi  \\\n",
       "ID                                                            \n",
       "SN510924  [[13.93699999999808, 2.199, 7.08], [44.8870000...   \n",
       "SN511436  [[0.01600000000325963, 51.65, 9.372], [2.0, 49...   \n",
       "SN511804  [[0.01599999999598367, 17.51, 3.166], [3.03499...   \n",
       "...                                                     ...   \n",
       "SN99438   [[0.030999999995401595, 0.006543, 3.683], [7.9...   \n",
       "SN99457   [[3.0429999999978463, 0.9564, 1.984], [4.10599...   \n",
       "SN99946   [[0.01599999999598367, 4.95, 3.147], [3.034999...   \n",
       "\n",
       "                                                       desr  \\\n",
       "ID                                                            \n",
       "SN510924  [[0.0, 2.088, 2.24], [13.042999999997846, 1.82...   \n",
       "SN511436  [[0.0, 35.65, 7.882], [1.9839999999967404, 32....   \n",
       "SN511804  [[0.0, 1.033, 2.13], [4.082000000002154, 5.482...   \n",
       "...                                                     ...   \n",
       "SN99438   [[0.014999999999417923, 0.4446, 1.3], [14.0039...   \n",
       "SN99457   [[3.004000000000815, 1.456, 1.709], [4.0900000...   \n",
       "SN99946   [[0.0, 0.4826, 2.129], [2.995999999999185, 0.7...   \n",
       "\n",
       "                                                       desz  \\\n",
       "ID                                                            \n",
       "SN510924  [[13.953000000001339, 1.99, 5.422], [36.940999...   \n",
       "SN511436  [[0.9610000000029686, 54.02, 5.43], [9.9409999...   \n",
       "SN511804  [[0.03899999999703141, 19.44, 2.511], [3.06700...   \n",
       "...                                                     ...   \n",
       "SN99438   [[0.06199999999807915, 1.497, 4.486], [7.97199...   \n",
       "SN99457   [[4.137000000002445, 9.726, 4.49], [12.0469999...   \n",
       "SN99946   [[0.03899999999703141, 1.045, 2.483], [12.0389...   \n",
       "\n",
       "                                                      Xaxis  \\\n",
       "ID                                                            \n",
       "SN510924  [0.0, 0.7661717171717413, 1.5323434343434825, ...   \n",
       "SN511436  [0.0, 0.8387777777777478, 1.6775555555554955, ...   \n",
       "SN511804  [0.0, 1.1714444444444256, 2.3428888888888513, ...   \n",
       "...                                                     ...   \n",
       "SN99438   [0.0, 1.7255757575757058, 3.4511515151514116, ...   \n",
       "SN99457   [0.0, 1.7667373737373662, 3.5334747474747323, ...   \n",
       "SN99946   [0.0, 1.3626161616161374, 2.725232323232275, 4...   \n",
       "\n",
       "                                                    desg_GP  \\\n",
       "ID                                                            \n",
       "SN510924  ([8.031000000002678, 8.70594949495217, 9.38089...   \n",
       "SN511436  ([1.9689999999973224, 2.6458080808054114, 3.32...   \n",
       "SN511804  ([2.989000000001397, 4.129939393940805, 5.2708...   \n",
       "...                                                     ...   \n",
       "SN99438   ([0.0, 1.6948383838383538, 3.3896767676767077,...   \n",
       "SN99457   ([0.0, 1.7360000000000142, 3.4720000000000284,...   \n",
       "SN99946   ([11.961000000002969, 13.202242424245336, 14.4...   \n",
       "\n",
       "                                                    desi_GP  \\\n",
       "ID                                                            \n",
       "SN510924  ([13.93699999999808, 14.552414141412289, 15.16...   \n",
       "SN511436  ([0.01600000000325963, 0.8545353535386073, 1.6...   \n",
       "SN511804  ([0.01599999999598367, 1.1872828282788337, 2.3...   \n",
       "...                                                     ...   \n",
       "SN99438   ([0.030999999995401595, 1.75597979797521, 3.48...   \n",
       "SN99457   ([3.0429999999978463, 4.778717171715048, 6.514...   \n",
       "SN99946   ([0.01599999999598367, 1.3782121212081455, 2.7...   \n",
       "\n",
       "                                                    desr_GP  \\\n",
       "ID                                                            \n",
       "SN510924  ([0.0, 0.7561111111111435, 1.512222222222287, ...   \n",
       "SN511436  ([0.0, 0.7076262626262656, 1.4152525252525312,...   \n",
       "SN511804  ([0.0, 1.1302525252524929, 2.2605050505049857,...   \n",
       "...                                                     ...   \n",
       "SN99438   ([0.014999999999417923, 1.7298888888882826, 3....   \n",
       "SN99457   ([3.004000000000815, 4.729858585859406, 6.4557...   \n",
       "SN99946   ([0.0, 1.362181818181816, 2.724363636363632, 4...   \n",
       "\n",
       "                                                    desz_GP  \\\n",
       "ID                                                            \n",
       "SN510924  ([13.953000000001339, 14.578232323233673, 15.2...   \n",
       "SN511436  ([0.9610000000029686, 1.7900707070736157, 2.61...   \n",
       "SN511804  ([0.03899999999703141, 1.208666666663758, 2.37...   \n",
       "...                                                     ...   \n",
       "SN99438   ([0.06199999999807915, 1.7869494949475417, 3.5...   \n",
       "SN99457   ([4.137000000002445, 5.861949494951907, 7.5868...   \n",
       "SN99946   ([0.03899999999703141, 1.4012222222192594, 2.7...   \n",
       "\n",
       "                                                   wavelets  ...         f15  \\\n",
       "ID                                                           ...               \n",
       "SN510924  [10.589545779483814, 8.708973184516886, 7.2444...  ...  -39.555982   \n",
       "SN511436  [9.27014418909458, 8.255517290037698, 7.745205...  ...   23.134718   \n",
       "SN511804  [5.178899315805631, 6.259860318410908, 7.21610...  ...   18.961628   \n",
       "...                                                     ...  ...         ...   \n",
       "SN99438   [6.789900493579756, 7.110462975693107, 7.57937...  ...  -34.417710   \n",
       "SN99457   [8.252504299669107, 11.125114322870362, 13.374...  ...    9.078515   \n",
       "SN99946   [3.7693816011787566, 5.06053615747151, 6.78000...  ...  183.911735   \n",
       "\n",
       "                 f16        f17         f18        f19        f20  type  \\\n",
       "ID                                                                        \n",
       "SN510924  -16.293731  47.963569  -45.448702 -27.989244  -6.281132    Ia   \n",
       "SN511436  128.783691  -8.731676   12.435225  17.675975  31.130664    Ia   \n",
       "SN511804   22.237930  22.428448   16.678827   0.003466  13.356164    Ia   \n",
       "...              ...        ...         ...        ...        ...   ...   \n",
       "SN99438    32.878025 -33.942007   34.613412  61.324876 -51.210969    Ia   \n",
       "SN99457   -15.904951  34.732243  -14.319036 -22.934570  -9.153751    Ia   \n",
       "SN99946    62.540835  28.895779 -271.089840  54.766397  39.959973    Ia   \n",
       "\n",
       "          type_bool  REDSHIFT_SPEC     zphot  \n",
       "ID                                            \n",
       "SN510924       True        0.85640  0.868346  \n",
       "SN511436       True        0.58313  0.542263  \n",
       "SN511804       True        0.99576  0.985524  \n",
       "...             ...            ...       ...  \n",
       "SN99438        True        0.75966  0.732788  \n",
       "SN99457        True        0.80886  0.883200  \n",
       "SN99946        True        0.40625  0.413554  \n",
       "\n",
       "[2528 rows x 34 columns]"
      ]
     },
     "execution_count": 52,
     "metadata": {},
     "output_type": "execute_result"
    }
   ],
   "source": [
    "df_sigma_mad = df.iloc[-len_validation:]\n",
    "df_sigma_mad['zphot'] = preds.as_data_frame()['predict'].tolist()\n",
    "df_sigma_mad"
   ]
  },
  {
   "cell_type": "code",
   "execution_count": 23,
   "metadata": {},
   "outputs": [],
   "source": [
    "#pd.concat([X.loc[df_sigma_mad.index],df_sigma_mad['zphot']], axis = 1).to_csv('features_target.csv')\n",
    "#pd.concat([X.loc[df_sigma_mad.index],df_sigma_mad['zphot']], axis = 1).to_pickle('features_target.pkl')"
   ]
  },
  {
   "cell_type": "markdown",
   "metadata": {},
   "source": [
    "## Deltas and Sigmas calculus"
   ]
  },
  {
   "cell_type": "code",
   "execution_count": 71,
   "metadata": {},
   "outputs": [],
   "source": [
    "get_delta_z = lambda zphot, zspec : (zphot - zspec)/(1 + zspec)"
   ]
  },
  {
   "cell_type": "code",
   "execution_count": 87,
   "metadata": {},
   "outputs": [
    {
     "data": {
      "text/plain": [
       "array([-0.00854058, -0.09044255, -0.0079693 , ...,  0.18464257,\n",
       "        0.01135406, -0.26343139])"
      ]
     },
     "execution_count": 87,
     "metadata": {},
     "output_type": "execute_result"
    }
   ],
   "source": [
    "delta_z = get_delta_z(df_sigma_mad.REDSHIFT_SPEC.values, df_sigma_mad.zphot.values)\n",
    "delta_z"
   ]
  },
  {
   "cell_type": "code",
   "execution_count": 86,
   "metadata": {},
   "outputs": [
    {
     "data": {
      "text/plain": [
       "0.0007232058109612594"
      ]
     },
     "execution_count": 86,
     "metadata": {},
     "output_type": "execute_result"
    }
   ],
   "source": [
    "median_delta_z = np.median(delta_z)\n",
    "median_delta_z"
   ]
  },
  {
   "cell_type": "code",
   "execution_count": 85,
   "metadata": {},
   "outputs": [
    {
     "data": {
      "text/plain": [
       "0.1213389099225449"
      ]
     },
     "execution_count": 85,
     "metadata": {},
     "output_type": "execute_result"
    }
   ],
   "source": [
    "MAD = np.median(np.abs(delta_z - median_delta_z))\n",
    "MAD"
   ]
  },
  {
   "cell_type": "code",
   "execution_count": 84,
   "metadata": {},
   "outputs": [
    {
     "data": {
      "text/plain": [
       "0.17989706785116505"
      ]
     },
     "execution_count": 84,
     "metadata": {},
     "output_type": "execute_result"
    }
   ],
   "source": [
    "sigma_MAD = 1.4826*MAD\n",
    "sigma_MAD"
   ]
  },
  {
   "cell_type": "code",
   "execution_count": 95,
   "metadata": {},
   "outputs": [
    {
     "data": {
      "text/plain": [
       "0.7730496453900709"
      ]
     },
     "execution_count": 95,
     "metadata": {},
     "output_type": "execute_result"
    }
   ],
   "source": [
    "n_fraction = sum(np.abs(delta_z) > 0.05)/len(delta_z)\n",
    "n_fraction"
   ]
  }
 ],
 "metadata": {
  "kernelspec": {
   "display_name": "Python 3",
   "language": "python",
   "name": "python3"
  },
  "language_info": {
   "codemirror_mode": {
    "name": "ipython",
    "version": 3
   },
   "file_extension": ".py",
   "mimetype": "text/x-python",
   "name": "python",
   "nbconvert_exporter": "python",
   "pygments_lexer": "ipython3",
   "version": "3.6.9"
  }
 },
 "nbformat": 4,
 "nbformat_minor": 4
}
