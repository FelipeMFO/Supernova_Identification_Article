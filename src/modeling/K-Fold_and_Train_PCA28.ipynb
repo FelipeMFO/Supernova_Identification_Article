{
 "cells": [
  {
   "cell_type": "code",
   "execution_count": 13,
   "metadata": {},
   "outputs": [],
   "source": [
    "%run ../functions.ipynb"
   ]
  },
  {
   "cell_type": "code",
   "execution_count": 14,
   "metadata": {},
   "outputs": [],
   "source": [
    "%run ../pycodes/wavelets_pca_with_zhost_1100_average_precision.py"
   ]
  },
  {
   "cell_type": "code",
   "execution_count": 15,
   "metadata": {},
   "outputs": [],
   "source": [
    "%run ../pycodes/wavelets_pca_with_zhost_1100_roc_auc.py"
   ]
  },
  {
   "cell_type": "code",
   "execution_count": 16,
   "metadata": {},
   "outputs": [],
   "source": [
    "%matplotlib inline"
   ]
  },
  {
   "cell_type": "code",
   "execution_count": 17,
   "metadata": {},
   "outputs": [],
   "source": [
    "from sklearn.metrics import confusion_matrix\n",
    "from sklearn.model_selection import KFold\n",
    "from sklearn import model_selection\n",
    "from sklearn.model_selection import cross_val_score, StratifiedKFold\n",
    "import matplotlib.pyplot as plt"
   ]
  },
  {
   "cell_type": "markdown",
   "metadata": {},
   "source": [
    "### Concatenation of feature DF and label DF"
   ]
  },
  {
   "cell_type": "code",
   "execution_count": 6,
   "metadata": {},
   "outputs": [],
   "source": [
    "df_feat = pd.read_pickle(\"../../data/processed/df_GP_wav_PCA28.pkl\")\n",
    "df_label = pd.read_pickle(\"../../data/processed/df_labels.pkl\")"
   ]
  },
  {
   "cell_type": "code",
   "execution_count": 65,
   "metadata": {
    "scrolled": true
   },
   "outputs": [],
   "source": [
    "#df_feat"
   ]
  },
  {
   "cell_type": "code",
   "execution_count": 66,
   "metadata": {
    "scrolled": true
   },
   "outputs": [],
   "source": [
    "#df_label"
   ]
  },
  {
   "cell_type": "code",
   "execution_count": 7,
   "metadata": {
    "scrolled": true
   },
   "outputs": [],
   "source": [
    "def rewriting_ID(ID):\n",
    "    if len(ID) < 8:\n",
    "        hash = ID\n",
    "        return hash[:hash.find('N') + 1] + '0'*(8-len(hash)) + hash[hash.find('N')+1:]\n",
    "    else:\n",
    "        return ID"
   ]
  },
  {
   "cell_type": "code",
   "execution_count": 8,
   "metadata": {
    "scrolled": true
   },
   "outputs": [],
   "source": [
    "#df = pd.concat([df_feat,df_label['type'],df_label['type_bool']], axis = 1)\n",
    "#df['ID'] = df['ID'].apply(rewriting_ID)\n",
    "#df = df.sort_values('ID')\n",
    "#df = df.set_index('ID')\n",
    "##df\n",
    "#df.to_pickle('./df_28features.pkl')"
   ]
  },
  {
   "cell_type": "markdown",
   "metadata": {},
   "source": [
    "## K-Fold division"
   ]
  },
  {
   "cell_type": "code",
   "execution_count": 18,
   "metadata": {},
   "outputs": [],
   "source": [
    "df = pd.read_pickle(\"../../data/processed/df_28features.pkl\")"
   ]
  },
  {
   "cell_type": "code",
   "execution_count": 20,
   "metadata": {
    "scrolled": true
   },
   "outputs": [
    {
     "data": {
      "text/html": [
       "<div>\n",
       "<style scoped>\n",
       "    .dataframe tbody tr th:only-of-type {\n",
       "        vertical-align: middle;\n",
       "    }\n",
       "\n",
       "    .dataframe tbody tr th {\n",
       "        vertical-align: top;\n",
       "    }\n",
       "\n",
       "    .dataframe thead th {\n",
       "        text-align: right;\n",
       "    }\n",
       "</style>\n",
       "<table border=\"1\" class=\"dataframe\">\n",
       "  <thead>\n",
       "    <tr style=\"text-align: right;\">\n",
       "      <th></th>\n",
       "      <th>desg</th>\n",
       "      <th>desi</th>\n",
       "      <th>desr</th>\n",
       "      <th>desz</th>\n",
       "      <th>Xaxis</th>\n",
       "      <th>desg_GP</th>\n",
       "      <th>desi_GP</th>\n",
       "      <th>desr_GP</th>\n",
       "      <th>desz_GP</th>\n",
       "      <th>wavelets</th>\n",
       "      <th>...</th>\n",
       "      <th>f21</th>\n",
       "      <th>f22</th>\n",
       "      <th>f23</th>\n",
       "      <th>f24</th>\n",
       "      <th>f25</th>\n",
       "      <th>f26</th>\n",
       "      <th>f27</th>\n",
       "      <th>f28</th>\n",
       "      <th>type</th>\n",
       "      <th>type_bool</th>\n",
       "    </tr>\n",
       "    <tr>\n",
       "      <th>ID</th>\n",
       "      <th></th>\n",
       "      <th></th>\n",
       "      <th></th>\n",
       "      <th></th>\n",
       "      <th></th>\n",
       "      <th></th>\n",
       "      <th></th>\n",
       "      <th></th>\n",
       "      <th></th>\n",
       "      <th></th>\n",
       "      <th></th>\n",
       "      <th></th>\n",
       "      <th></th>\n",
       "      <th></th>\n",
       "      <th></th>\n",
       "      <th></th>\n",
       "      <th></th>\n",
       "      <th></th>\n",
       "      <th></th>\n",
       "      <th></th>\n",
       "      <th></th>\n",
       "    </tr>\n",
       "  </thead>\n",
       "  <tbody>\n",
       "    <tr>\n",
       "      <th>SN000017</th>\n",
       "      <td>[[6.984000000004016, 6.122, 6.377], [7.9920000...</td>\n",
       "      <td>[[0.012000000002444722, 0.6447, 49.95], [7.008...</td>\n",
       "      <td>[[0.0, 4.41, 17.58], [8.00800000000163, 1.002,...</td>\n",
       "      <td>[[4.121000000006461, 1.337, 3.581], [7.0230000...</td>\n",
       "      <td>[0.0, 1.3437474747475018, 2.6874949494950036, ...</td>\n",
       "      <td>([2.1790669622347325, 2.508001685841991, 2.869...</td>\n",
       "      <td>([10.397060897840504, 10.577637884754534, 10.7...</td>\n",
       "      <td>([1.5588534229682, 1.5163625398617389, 1.45121...</td>\n",
       "      <td>([2.4493108381108755, 2.6225647004586676, 2.75...</td>\n",
       "      <td>[2.5170703344071526, 3.609106466610777, 4.6966...</td>\n",
       "      <td>...</td>\n",
       "      <td>6.282370</td>\n",
       "      <td>50.762164</td>\n",
       "      <td>32.655405</td>\n",
       "      <td>-49.937472</td>\n",
       "      <td>-12.828625</td>\n",
       "      <td>-32.146220</td>\n",
       "      <td>-60.104959</td>\n",
       "      <td>-91.630483</td>\n",
       "      <td>II</td>\n",
       "      <td>False</td>\n",
       "    </tr>\n",
       "    <tr>\n",
       "      <th>SN000019</th>\n",
       "      <td>[[0.0, 1.325, 5.225], [1.0120000000024447, 10....</td>\n",
       "      <td>[[10.023000000001048, 1.944, 4.071], [23.06599...</td>\n",
       "      <td>[[0.012000000002444722, 2.468, 3.577], [23.050...</td>\n",
       "      <td>[[9.00800000000163, 6.876, 4.915], [14.0159999...</td>\n",
       "      <td>[0.0, 0.9801111111111381, 1.9602222222222763, ...</td>\n",
       "      <td>([2.219675101833163, 2.219675198412055, 2.2196...</td>\n",
       "      <td>([-0.19220466685970194, -0.0681479629423194, 0...</td>\n",
       "      <td>([1.861237782410762, 1.7895540003134789, 1.726...</td>\n",
       "      <td>([3.654910834866328, 3.8235492654180803, 3.993...</td>\n",
       "      <td>[4.43934546360616, 4.439347606905569, 4.439349...</td>\n",
       "      <td>...</td>\n",
       "      <td>-1.660370</td>\n",
       "      <td>-6.681529</td>\n",
       "      <td>7.543018</td>\n",
       "      <td>-21.565713</td>\n",
       "      <td>6.697030</td>\n",
       "      <td>23.206105</td>\n",
       "      <td>19.685687</td>\n",
       "      <td>-2.361151</td>\n",
       "      <td>II</td>\n",
       "      <td>False</td>\n",
       "    </tr>\n",
       "    <tr>\n",
       "      <th>SN000126</th>\n",
       "      <td>[[0.0, 0.5652, 2.636], [23.91399999999703, 0.5...</td>\n",
       "      <td>[[7.932999999997264, 1.535, 4.162], [36.811999...</td>\n",
       "      <td>[[15.930000000000291, 1.963, 3.215], [27.02300...</td>\n",
       "      <td>[[7.956999999994878, 0.1151, 2.711], [15.97599...</td>\n",
       "      <td>[0.0, 1.584242424242389, 3.168484848484778, 4....</td>\n",
       "      <td>([0.35689014312282547, 0.36868698625858665, 0....</td>\n",
       "      <td>([0.34290692312134574, 0.39300951014427277, 0....</td>\n",
       "      <td>([0.11936109021103114, 0.23793544213573692, 0....</td>\n",
       "      <td>([-0.6661782956213349, -0.5705737568129523, -0...</td>\n",
       "      <td>[2.6824500442573638, 1.7791579281136436, 1.110...</td>\n",
       "      <td>...</td>\n",
       "      <td>-4.844406</td>\n",
       "      <td>-5.182916</td>\n",
       "      <td>-4.623177</td>\n",
       "      <td>-14.151318</td>\n",
       "      <td>-17.448765</td>\n",
       "      <td>-2.040187</td>\n",
       "      <td>-3.742288</td>\n",
       "      <td>-1.371967</td>\n",
       "      <td>II</td>\n",
       "      <td>False</td>\n",
       "    </tr>\n",
       "    <tr>\n",
       "      <th>SN000172</th>\n",
       "      <td>[[0.0, 8.814, 4.79], [2.0, 9.327, 2.25], [9.98...</td>\n",
       "      <td>[[0.031000000002677552, 3.05, 5.436], [2.15600...</td>\n",
       "      <td>[[10.0, 1.734, 1.254], [11.988000000004831, 12...</td>\n",
       "      <td>[[10.039000000004307, 12.9, 2.19], [12.0310000...</td>\n",
       "      <td>[0.0, 1.2923333333333222, 2.5846666666666445, ...</td>\n",
       "      <td>([6.562159405329549, 9.1252195867519, 11.89292...</td>\n",
       "      <td>([2.6439974671168613, 3.295315393791398, 3.956...</td>\n",
       "      <td>([-12.447889370713835, -12.656461305309037, -1...</td>\n",
       "      <td>([10.889899390805923, 11.500413415470769, 12.1...</td>\n",
       "      <td>[6.47820341295315, 11.499857208884713, 17.4609...</td>\n",
       "      <td>...</td>\n",
       "      <td>59.746304</td>\n",
       "      <td>-26.260533</td>\n",
       "      <td>76.077662</td>\n",
       "      <td>9.526661</td>\n",
       "      <td>-22.349478</td>\n",
       "      <td>43.203019</td>\n",
       "      <td>-9.291451</td>\n",
       "      <td>-29.942253</td>\n",
       "      <td>II</td>\n",
       "      <td>False</td>\n",
       "    </tr>\n",
       "    <tr>\n",
       "      <th>...</th>\n",
       "      <td>...</td>\n",
       "      <td>...</td>\n",
       "      <td>...</td>\n",
       "      <td>...</td>\n",
       "      <td>...</td>\n",
       "      <td>...</td>\n",
       "      <td>...</td>\n",
       "      <td>...</td>\n",
       "      <td>...</td>\n",
       "      <td>...</td>\n",
       "      <td>...</td>\n",
       "      <td>...</td>\n",
       "      <td>...</td>\n",
       "      <td>...</td>\n",
       "      <td>...</td>\n",
       "      <td>...</td>\n",
       "      <td>...</td>\n",
       "      <td>...</td>\n",
       "      <td>...</td>\n",
       "      <td>...</td>\n",
       "      <td>...</td>\n",
       "    </tr>\n",
       "    <tr>\n",
       "      <th>SN899766</th>\n",
       "      <td>[[6.984000000004016, 2.619, 6.376], [21.973000...</td>\n",
       "      <td>[[0.012000000002444722, 48.86, 49.95], [8.0230...</td>\n",
       "      <td>[[0.0, 19.65, 17.59], [6.992000000005646, 5.34...</td>\n",
       "      <td>[[4.121000000006461, 1.07, 3.581], [7.02300000...</td>\n",
       "      <td>[0.0, 1.474707070707136, 2.949414141414272, 4....</td>\n",
       "      <td>([3.1774853444736557, 3.1774855699966595, 3.17...</td>\n",
       "      <td>([6.273860823260804, 6.090278522008031, 5.9044...</td>\n",
       "      <td>([8.309936227222874, 8.154384056314196, 7.9766...</td>\n",
       "      <td>([1.0347047221511048, 1.209742608349444, 1.388...</td>\n",
       "      <td>[6.3549756079875195, 6.354973557479621, 6.3549...</td>\n",
       "      <td>...</td>\n",
       "      <td>-11.034139</td>\n",
       "      <td>-11.585586</td>\n",
       "      <td>0.493652</td>\n",
       "      <td>-8.236987</td>\n",
       "      <td>21.397666</td>\n",
       "      <td>33.915491</td>\n",
       "      <td>19.602834</td>\n",
       "      <td>-7.483947</td>\n",
       "      <td>II</td>\n",
       "      <td>False</td>\n",
       "    </tr>\n",
       "    <tr>\n",
       "      <th>SN899772</th>\n",
       "      <td>[[0.0, 8.811, 25.57], [5.875, 1.341, 4.764], [...</td>\n",
       "      <td>[[0.8550000000032014, 10.26, 30.95], [21.81600...</td>\n",
       "      <td>[[0.015000000006693881, 7.061, 4.154], [32.820...</td>\n",
       "      <td>[[19.851000000002387, 3.151, 4.938], [27.85100...</td>\n",
       "      <td>[0.0, 1.6130000000000542, 3.2260000000001083, ...</td>\n",
       "      <td>([3.375523849152177, 2.9073715158475206, 2.313...</td>\n",
       "      <td>([5.9244796371948585, 5.563986512566748, 5.176...</td>\n",
       "      <td>([6.3162013263673575, 5.386246481590906, 4.336...</td>\n",
       "      <td>([11.990492759478087, 11.552298169626269, 11.0...</td>\n",
       "      <td>[3.341657653722518, 4.5430537588317765, 5.0680...</td>\n",
       "      <td>...</td>\n",
       "      <td>-71.815425</td>\n",
       "      <td>10.765688</td>\n",
       "      <td>-47.865340</td>\n",
       "      <td>-62.752726</td>\n",
       "      <td>-36.391351</td>\n",
       "      <td>8.700859</td>\n",
       "      <td>-22.573419</td>\n",
       "      <td>25.381878</td>\n",
       "      <td>II</td>\n",
       "      <td>False</td>\n",
       "    </tr>\n",
       "    <tr>\n",
       "      <th>SN899777</th>\n",
       "      <td>[[0.0, 3.066, 3.91], [0.8009999999994761, 15.1...</td>\n",
       "      <td>[[13.788999999997031, 3.201, 4.192], [14.80099...</td>\n",
       "      <td>[[0.008000000001629815, 2.275, 5.58], [0.81699...</td>\n",
       "      <td>[[0.8600000000005821, 11.96, 5.06], [6.8359999...</td>\n",
       "      <td>[0.0, 1.311363636363607, 2.622727272727214, 3....</td>\n",
       "      <td>([1.035409786279157, 1.0654355765245267, 1.097...</td>\n",
       "      <td>([5.5105922415789195, 5.384141464291133, 5.253...</td>\n",
       "      <td>([2.4760379841089275, 2.5448649370640624, 2.58...</td>\n",
       "      <td>([3.0547576395107967, 3.133081740221371, 3.217...</td>\n",
       "      <td>[4.908064260185052, 3.6456116683397255, 2.6941...</td>\n",
       "      <td>...</td>\n",
       "      <td>0.872801</td>\n",
       "      <td>-11.537052</td>\n",
       "      <td>-18.953917</td>\n",
       "      <td>-23.595614</td>\n",
       "      <td>-12.599947</td>\n",
       "      <td>-0.010224</td>\n",
       "      <td>12.570262</td>\n",
       "      <td>5.211202</td>\n",
       "      <td>II</td>\n",
       "      <td>False</td>\n",
       "    </tr>\n",
       "    <tr>\n",
       "      <th>SN899894</th>\n",
       "      <td>[[4.946000000003551, 0.4706, 2.636], [12.84800...</td>\n",
       "      <td>[[20.89100000000326, 3.519, 3.209], [28.899000...</td>\n",
       "      <td>[[12.864000000001397, 0.06272, 2.322], [28.879...</td>\n",
       "      <td>[[0.0, 0.5017, 2.964], [12.902999999998428, 1....</td>\n",
       "      <td>[0.0, 1.6342020202020209, 3.2684040404040418, ...</td>\n",
       "      <td>([0.5826453395648821, 0.6122115256870917, 0.64...</td>\n",
       "      <td>([-2.1020468565115067, -1.8163280187884538, -1...</td>\n",
       "      <td>([5.22669702405458, 5.045645124683354, 4.66633...</td>\n",
       "      <td>([-0.8891914351648893, -0.6117691393582163, -0...</td>\n",
       "      <td>[3.080265355416106, 2.2195112229080918, 1.5941...</td>\n",
       "      <td>...</td>\n",
       "      <td>-26.229408</td>\n",
       "      <td>-23.713155</td>\n",
       "      <td>-37.539840</td>\n",
       "      <td>-38.212661</td>\n",
       "      <td>-20.982432</td>\n",
       "      <td>-28.025438</td>\n",
       "      <td>11.724296</td>\n",
       "      <td>23.592056</td>\n",
       "      <td>II</td>\n",
       "      <td>False</td>\n",
       "    </tr>\n",
       "  </tbody>\n",
       "</table>\n",
       "<p>21317 rows × 40 columns</p>\n",
       "</div>"
      ],
      "text/plain": [
       "                                                       desg  \\\n",
       "ID                                                            \n",
       "SN000017  [[6.984000000004016, 6.122, 6.377], [7.9920000...   \n",
       "SN000019  [[0.0, 1.325, 5.225], [1.0120000000024447, 10....   \n",
       "SN000126  [[0.0, 0.5652, 2.636], [23.91399999999703, 0.5...   \n",
       "SN000172  [[0.0, 8.814, 4.79], [2.0, 9.327, 2.25], [9.98...   \n",
       "...                                                     ...   \n",
       "SN899766  [[6.984000000004016, 2.619, 6.376], [21.973000...   \n",
       "SN899772  [[0.0, 8.811, 25.57], [5.875, 1.341, 4.764], [...   \n",
       "SN899777  [[0.0, 3.066, 3.91], [0.8009999999994761, 15.1...   \n",
       "SN899894  [[4.946000000003551, 0.4706, 2.636], [12.84800...   \n",
       "\n",
       "                                                       desi  \\\n",
       "ID                                                            \n",
       "SN000017  [[0.012000000002444722, 0.6447, 49.95], [7.008...   \n",
       "SN000019  [[10.023000000001048, 1.944, 4.071], [23.06599...   \n",
       "SN000126  [[7.932999999997264, 1.535, 4.162], [36.811999...   \n",
       "SN000172  [[0.031000000002677552, 3.05, 5.436], [2.15600...   \n",
       "...                                                     ...   \n",
       "SN899766  [[0.012000000002444722, 48.86, 49.95], [8.0230...   \n",
       "SN899772  [[0.8550000000032014, 10.26, 30.95], [21.81600...   \n",
       "SN899777  [[13.788999999997031, 3.201, 4.192], [14.80099...   \n",
       "SN899894  [[20.89100000000326, 3.519, 3.209], [28.899000...   \n",
       "\n",
       "                                                       desr  \\\n",
       "ID                                                            \n",
       "SN000017  [[0.0, 4.41, 17.58], [8.00800000000163, 1.002,...   \n",
       "SN000019  [[0.012000000002444722, 2.468, 3.577], [23.050...   \n",
       "SN000126  [[15.930000000000291, 1.963, 3.215], [27.02300...   \n",
       "SN000172  [[10.0, 1.734, 1.254], [11.988000000004831, 12...   \n",
       "...                                                     ...   \n",
       "SN899766  [[0.0, 19.65, 17.59], [6.992000000005646, 5.34...   \n",
       "SN899772  [[0.015000000006693881, 7.061, 4.154], [32.820...   \n",
       "SN899777  [[0.008000000001629815, 2.275, 5.58], [0.81699...   \n",
       "SN899894  [[12.864000000001397, 0.06272, 2.322], [28.879...   \n",
       "\n",
       "                                                       desz  \\\n",
       "ID                                                            \n",
       "SN000017  [[4.121000000006461, 1.337, 3.581], [7.0230000...   \n",
       "SN000019  [[9.00800000000163, 6.876, 4.915], [14.0159999...   \n",
       "SN000126  [[7.956999999994878, 0.1151, 2.711], [15.97599...   \n",
       "SN000172  [[10.039000000004307, 12.9, 2.19], [12.0310000...   \n",
       "...                                                     ...   \n",
       "SN899766  [[4.121000000006461, 1.07, 3.581], [7.02300000...   \n",
       "SN899772  [[19.851000000002387, 3.151, 4.938], [27.85100...   \n",
       "SN899777  [[0.8600000000005821, 11.96, 5.06], [6.8359999...   \n",
       "SN899894  [[0.0, 0.5017, 2.964], [12.902999999998428, 1....   \n",
       "\n",
       "                                                      Xaxis  \\\n",
       "ID                                                            \n",
       "SN000017  [0.0, 1.3437474747475018, 2.6874949494950036, ...   \n",
       "SN000019  [0.0, 0.9801111111111381, 1.9602222222222763, ...   \n",
       "SN000126  [0.0, 1.584242424242389, 3.168484848484778, 4....   \n",
       "SN000172  [0.0, 1.2923333333333222, 2.5846666666666445, ...   \n",
       "...                                                     ...   \n",
       "SN899766  [0.0, 1.474707070707136, 2.949414141414272, 4....   \n",
       "SN899772  [0.0, 1.6130000000000542, 3.2260000000001083, ...   \n",
       "SN899777  [0.0, 1.311363636363607, 2.622727272727214, 3....   \n",
       "SN899894  [0.0, 1.6342020202020209, 3.2684040404040418, ...   \n",
       "\n",
       "                                                    desg_GP  \\\n",
       "ID                                                            \n",
       "SN000017  ([2.1790669622347325, 2.508001685841991, 2.869...   \n",
       "SN000019  ([2.219675101833163, 2.219675198412055, 2.2196...   \n",
       "SN000126  ([0.35689014312282547, 0.36868698625858665, 0....   \n",
       "SN000172  ([6.562159405329549, 9.1252195867519, 11.89292...   \n",
       "...                                                     ...   \n",
       "SN899766  ([3.1774853444736557, 3.1774855699966595, 3.17...   \n",
       "SN899772  ([3.375523849152177, 2.9073715158475206, 2.313...   \n",
       "SN899777  ([1.035409786279157, 1.0654355765245267, 1.097...   \n",
       "SN899894  ([0.5826453395648821, 0.6122115256870917, 0.64...   \n",
       "\n",
       "                                                    desi_GP  \\\n",
       "ID                                                            \n",
       "SN000017  ([10.397060897840504, 10.577637884754534, 10.7...   \n",
       "SN000019  ([-0.19220466685970194, -0.0681479629423194, 0...   \n",
       "SN000126  ([0.34290692312134574, 0.39300951014427277, 0....   \n",
       "SN000172  ([2.6439974671168613, 3.295315393791398, 3.956...   \n",
       "...                                                     ...   \n",
       "SN899766  ([6.273860823260804, 6.090278522008031, 5.9044...   \n",
       "SN899772  ([5.9244796371948585, 5.563986512566748, 5.176...   \n",
       "SN899777  ([5.5105922415789195, 5.384141464291133, 5.253...   \n",
       "SN899894  ([-2.1020468565115067, -1.8163280187884538, -1...   \n",
       "\n",
       "                                                    desr_GP  \\\n",
       "ID                                                            \n",
       "SN000017  ([1.5588534229682, 1.5163625398617389, 1.45121...   \n",
       "SN000019  ([1.861237782410762, 1.7895540003134789, 1.726...   \n",
       "SN000126  ([0.11936109021103114, 0.23793544213573692, 0....   \n",
       "SN000172  ([-12.447889370713835, -12.656461305309037, -1...   \n",
       "...                                                     ...   \n",
       "SN899766  ([8.309936227222874, 8.154384056314196, 7.9766...   \n",
       "SN899772  ([6.3162013263673575, 5.386246481590906, 4.336...   \n",
       "SN899777  ([2.4760379841089275, 2.5448649370640624, 2.58...   \n",
       "SN899894  ([5.22669702405458, 5.045645124683354, 4.66633...   \n",
       "\n",
       "                                                    desz_GP  \\\n",
       "ID                                                            \n",
       "SN000017  ([2.4493108381108755, 2.6225647004586676, 2.75...   \n",
       "SN000019  ([3.654910834866328, 3.8235492654180803, 3.993...   \n",
       "SN000126  ([-0.6661782956213349, -0.5705737568129523, -0...   \n",
       "SN000172  ([10.889899390805923, 11.500413415470769, 12.1...   \n",
       "...                                                     ...   \n",
       "SN899766  ([1.0347047221511048, 1.209742608349444, 1.388...   \n",
       "SN899772  ([11.990492759478087, 11.552298169626269, 11.0...   \n",
       "SN899777  ([3.0547576395107967, 3.133081740221371, 3.217...   \n",
       "SN899894  ([-0.8891914351648893, -0.6117691393582163, -0...   \n",
       "\n",
       "                                                   wavelets  ...        f21  \\\n",
       "ID                                                           ...              \n",
       "SN000017  [2.5170703344071526, 3.609106466610777, 4.6966...  ...   6.282370   \n",
       "SN000019  [4.43934546360616, 4.439347606905569, 4.439349...  ...  -1.660370   \n",
       "SN000126  [2.6824500442573638, 1.7791579281136436, 1.110...  ...  -4.844406   \n",
       "SN000172  [6.47820341295315, 11.499857208884713, 17.4609...  ...  59.746304   \n",
       "...                                                     ...  ...        ...   \n",
       "SN899766  [6.3549756079875195, 6.354973557479621, 6.3549...  ... -11.034139   \n",
       "SN899772  [3.341657653722518, 4.5430537588317765, 5.0680...  ... -71.815425   \n",
       "SN899777  [4.908064260185052, 3.6456116683397255, 2.6941...  ...   0.872801   \n",
       "SN899894  [3.080265355416106, 2.2195112229080918, 1.5941...  ... -26.229408   \n",
       "\n",
       "                f22        f23        f24        f25        f26        f27  \\\n",
       "ID                                                                           \n",
       "SN000017  50.762164  32.655405 -49.937472 -12.828625 -32.146220 -60.104959   \n",
       "SN000019  -6.681529   7.543018 -21.565713   6.697030  23.206105  19.685687   \n",
       "SN000126  -5.182916  -4.623177 -14.151318 -17.448765  -2.040187  -3.742288   \n",
       "SN000172 -26.260533  76.077662   9.526661 -22.349478  43.203019  -9.291451   \n",
       "...             ...        ...        ...        ...        ...        ...   \n",
       "SN899766 -11.585586   0.493652  -8.236987  21.397666  33.915491  19.602834   \n",
       "SN899772  10.765688 -47.865340 -62.752726 -36.391351   8.700859 -22.573419   \n",
       "SN899777 -11.537052 -18.953917 -23.595614 -12.599947  -0.010224  12.570262   \n",
       "SN899894 -23.713155 -37.539840 -38.212661 -20.982432 -28.025438  11.724296   \n",
       "\n",
       "                f28  type  type_bool  \n",
       "ID                                    \n",
       "SN000017 -91.630483    II      False  \n",
       "SN000019  -2.361151    II      False  \n",
       "SN000126  -1.371967    II      False  \n",
       "SN000172 -29.942253    II      False  \n",
       "...             ...   ...        ...  \n",
       "SN899766  -7.483947    II      False  \n",
       "SN899772  25.381878    II      False  \n",
       "SN899777   5.211202    II      False  \n",
       "SN899894  23.592056    II      False  \n",
       "\n",
       "[21317 rows x 40 columns]"
      ]
     },
     "execution_count": 20,
     "metadata": {},
     "output_type": "execute_result"
    }
   ],
   "source": [
    "df"
   ]
  },
  {
   "cell_type": "code",
   "execution_count": 21,
   "metadata": {},
   "outputs": [],
   "source": [
    "splits = 5"
   ]
  },
  {
   "cell_type": "code",
   "execution_count": 22,
   "metadata": {},
   "outputs": [
    {
     "name": "stdout",
     "output_type": "stream",
     "text": [
      "TRAIN: [ 4264  4265  4266 ... 21314 21315 21316] TEST: [   0    1    2 ... 4261 4262 4263]\n",
      "TRAIN: [    0     1     2 ... 21314 21315 21316] TEST: [4264 4265 4266 ... 8525 8526 8527]\n",
      "TRAIN: [    0     1     2 ... 21314 21315 21316] TEST: [ 8528  8529  8530 ... 12788 12789 12790]\n",
      "TRAIN: [    0     1     2 ... 21314 21315 21316] TEST: [12791 12792 12793 ... 17051 17052 17053]\n",
      "TRAIN: [    0     1     2 ... 17051 17052 17053] TEST: [17054 17055 17056 ... 21314 21315 21316]\n"
     ]
    }
   ],
   "source": [
    "X = df.loc[:,'f1':'f28']\n",
    "y = np.array(df.type_bool)\n",
    "\n",
    "kf = KFold(n_splits = splits)\n",
    "X_train = []\n",
    "X_test = []\n",
    "y_train = []\n",
    "y_test = []\n",
    "for train_index, test_index in kf.split(X):\n",
    "    print(\"TRAIN:\", train_index, \"TEST:\", test_index)\n",
    "    X_train.append(X.iloc[train_index])\n",
    "    X_test.append(X.iloc[test_index])\n",
    "    y_train.append(y[train_index])\n",
    "    y_test.append(y[test_index])"
   ]
  },
  {
   "cell_type": "code",
   "execution_count": 23,
   "metadata": {},
   "outputs": [],
   "source": [
    "splits = 19"
   ]
  },
  {
   "cell_type": "code",
   "execution_count": 24,
   "metadata": {
    "scrolled": true
   },
   "outputs": [
    {
     "name": "stdout",
     "output_type": "stream",
     "text": [
      "TRAIN: [ 1122  1123  1124 ... 21314 21315 21316] TEST: [   0    1    2 ... 1119 1120 1121]\n",
      "TRAIN: [    0     1     2 ... 21314 21315 21316] TEST: [1122 1123 1124 ... 2241 2242 2243]\n",
      "TRAIN: [    0     1     2 ... 21314 21315 21316] TEST: [2244 2245 2246 ... 3363 3364 3365]\n",
      "TRAIN: [    0     1     2 ... 21314 21315 21316] TEST: [3366 3367 3368 ... 4485 4486 4487]\n",
      "TRAIN: [    0     1     2 ... 21314 21315 21316] TEST: [4488 4489 4490 ... 5607 5608 5609]\n",
      "TRAIN: [    0     1     2 ... 21314 21315 21316] TEST: [5610 5611 5612 ... 6729 6730 6731]\n",
      "TRAIN: [    0     1     2 ... 21314 21315 21316] TEST: [6732 6733 6734 ... 7851 7852 7853]\n",
      "TRAIN: [    0     1     2 ... 21314 21315 21316] TEST: [7854 7855 7856 ... 8973 8974 8975]\n",
      "TRAIN: [    0     1     2 ... 21314 21315 21316] TEST: [ 8976  8977  8978 ... 10095 10096 10097]\n",
      "TRAIN: [    0     1     2 ... 21314 21315 21316] TEST: [10098 10099 10100 ... 11217 11218 11219]\n",
      "TRAIN: [    0     1     2 ... 21314 21315 21316] TEST: [11220 11221 11222 ... 12339 12340 12341]\n",
      "TRAIN: [    0     1     2 ... 21314 21315 21316] TEST: [12342 12343 12344 ... 13461 13462 13463]\n",
      "TRAIN: [    0     1     2 ... 21314 21315 21316] TEST: [13464 13465 13466 ... 14583 14584 14585]\n",
      "TRAIN: [    0     1     2 ... 21314 21315 21316] TEST: [14586 14587 14588 ... 15705 15706 15707]\n",
      "TRAIN: [    0     1     2 ... 21314 21315 21316] TEST: [15708 15709 15710 ... 16827 16828 16829]\n",
      "TRAIN: [    0     1     2 ... 21314 21315 21316] TEST: [16830 16831 16832 ... 17949 17950 17951]\n",
      "TRAIN: [    0     1     2 ... 21314 21315 21316] TEST: [17952 17953 17954 ... 19071 19072 19073]\n",
      "TRAIN: [    0     1     2 ... 21314 21315 21316] TEST: [19074 19075 19076 ... 20193 20194 20195]\n",
      "TRAIN: [    0     1     2 ... 20193 20194 20195] TEST: [20196 20197 20198 ... 21314 21315 21316]\n"
     ]
    }
   ],
   "source": [
    "X_real = df.loc[:,'f1':'f28']\n",
    "y_real = np.array(df.type_bool)\n",
    "\n",
    "kf_real = KFold(n_splits = splits)\n",
    "X_train_real = []\n",
    "X_test_real = []\n",
    "y_train_real = []\n",
    "y_test_real = []\n",
    "for train_index_real, test_index_real in kf_real.split(X_real):\n",
    "    print(\"TRAIN:\", train_index_real, \"TEST:\", test_index_real)\n",
    "    X_train_real.append(X_real.iloc[train_index_real])\n",
    "    X_test_real.append(X_real.iloc[test_index_real])\n",
    "    y_train_real.append(y_real[train_index_real])\n",
    "    y_test_real.append(y_real[test_index_real])"
   ]
  },
  {
   "cell_type": "markdown",
   "metadata": {},
   "source": [
    "## Training"
   ]
  },
  {
   "cell_type": "markdown",
   "metadata": {},
   "source": [
    "#### Splits = 5"
   ]
  },
  {
   "cell_type": "code",
   "execution_count": 25,
   "metadata": {},
   "outputs": [
    {
     "name": "stderr",
     "output_type": "stream",
     "text": [
      "ERROR:root:Internal Python error in the inspect module.\n",
      "Below is the traceback from this internal error.\n",
      "\n"
     ]
    },
    {
     "name": "stdout",
     "output_type": "stream",
     "text": [
      "Traceback (most recent call last):\n",
      "  File \"/home/felipe/anaconda3/lib/python3.7/site-packages/IPython/core/interactiveshell.py\", line 3296, in run_code\n",
      "    exec(code_obj, self.user_global_ns, self.user_ns)\n",
      "  File \"<ipython-input-25-4a3050936cc8>\", line 3, in <module>\n",
      "    avg_scores = model_selection.cross_val_score(exported_pipeline, X, y, scoring = 'average_precision', cv=splits)\n",
      "  File \"/home/felipe/anaconda3/lib/python3.7/site-packages/sklearn/model_selection/_validation.py\", line 390, in cross_val_score\n",
      "    error_score=error_score)\n",
      "  File \"/home/felipe/anaconda3/lib/python3.7/site-packages/sklearn/model_selection/_validation.py\", line 236, in cross_validate\n",
      "    for train, test in cv.split(X, y, groups))\n",
      "  File \"/home/felipe/anaconda3/lib/python3.7/site-packages/joblib/parallel.py\", line 1004, in __call__\n",
      "    if self.dispatch_one_batch(iterator):\n",
      "  File \"/home/felipe/anaconda3/lib/python3.7/site-packages/joblib/parallel.py\", line 835, in dispatch_one_batch\n",
      "    self._dispatch(tasks)\n",
      "  File \"/home/felipe/anaconda3/lib/python3.7/site-packages/joblib/parallel.py\", line 754, in _dispatch\n",
      "    job = self._backend.apply_async(batch, callback=cb)\n",
      "  File \"/home/felipe/anaconda3/lib/python3.7/site-packages/joblib/_parallel_backends.py\", line 209, in apply_async\n",
      "    result = ImmediateResult(func)\n",
      "  File \"/home/felipe/anaconda3/lib/python3.7/site-packages/joblib/_parallel_backends.py\", line 590, in __init__\n",
      "    self.results = batch()\n",
      "  File \"/home/felipe/anaconda3/lib/python3.7/site-packages/joblib/parallel.py\", line 256, in __call__\n",
      "    for func, args, kwargs in self.items]\n",
      "  File \"/home/felipe/anaconda3/lib/python3.7/site-packages/joblib/parallel.py\", line 256, in <listcomp>\n",
      "    for func, args, kwargs in self.items]\n",
      "  File \"/home/felipe/anaconda3/lib/python3.7/site-packages/sklearn/model_selection/_validation.py\", line 515, in _fit_and_score\n",
      "    estimator.fit(X_train, y_train, **fit_params)\n",
      "  File \"/home/felipe/anaconda3/lib/python3.7/site-packages/sklearn/pipeline.py\", line 354, in fit\n",
      "    self._final_estimator.fit(Xt, y, **fit_params)\n",
      "  File \"/home/felipe/anaconda3/lib/python3.7/site-packages/sklearn/ensemble/_gb.py\", line 1537, in fit\n",
      "    sample_weight_val, begin_at_stage, monitor, X_idx_sorted)\n",
      "  File \"/home/felipe/anaconda3/lib/python3.7/site-packages/sklearn/ensemble/_gb.py\", line 1594, in _fit_stages\n",
      "    random_state, X_idx_sorted, X_csc, X_csr)\n",
      "  File \"/home/felipe/anaconda3/lib/python3.7/site-packages/sklearn/ensemble/_gb.py\", line 1245, in _fit_stage\n",
      "    check_input=False, X_idx_sorted=X_idx_sorted)\n",
      "  File \"/home/felipe/anaconda3/lib/python3.7/site-packages/sklearn/tree/_classes.py\", line 1225, in fit\n",
      "    X_idx_sorted=X_idx_sorted)\n",
      "  File \"/home/felipe/anaconda3/lib/python3.7/site-packages/sklearn/tree/_classes.py\", line 367, in fit\n",
      "    builder.build(self.tree_, X, y, sample_weight, X_idx_sorted)\n",
      "KeyboardInterrupt\n",
      "\n",
      "During handling of the above exception, another exception occurred:\n",
      "\n",
      "Traceback (most recent call last):\n",
      "  File \"/home/felipe/anaconda3/lib/python3.7/site-packages/IPython/core/interactiveshell.py\", line 2033, in showtraceback\n",
      "    stb = value._render_traceback_()\n",
      "AttributeError: 'KeyboardInterrupt' object has no attribute '_render_traceback_'\n",
      "\n",
      "During handling of the above exception, another exception occurred:\n",
      "\n",
      "Traceback (most recent call last):\n",
      "  File \"/home/felipe/anaconda3/lib/python3.7/site-packages/IPython/core/ultratb.py\", line 1095, in get_records\n",
      "    return _fixed_getinnerframes(etb, number_of_lines_of_context, tb_offset)\n",
      "  File \"/home/felipe/anaconda3/lib/python3.7/site-packages/IPython/core/ultratb.py\", line 313, in wrapped\n",
      "    return f(*args, **kwargs)\n",
      "  File \"/home/felipe/anaconda3/lib/python3.7/site-packages/IPython/core/ultratb.py\", line 347, in _fixed_getinnerframes\n",
      "    records = fix_frame_records_filenames(inspect.getinnerframes(etb, context))\n",
      "  File \"/home/felipe/anaconda3/lib/python3.7/inspect.py\", line 1502, in getinnerframes\n",
      "    frameinfo = (tb.tb_frame,) + getframeinfo(tb, context)\n",
      "  File \"/home/felipe/anaconda3/lib/python3.7/inspect.py\", line 1460, in getframeinfo\n",
      "    filename = getsourcefile(frame) or getfile(frame)\n",
      "  File \"/home/felipe/anaconda3/lib/python3.7/inspect.py\", line 696, in getsourcefile\n",
      "    if getattr(getmodule(object, filename), '__loader__', None) is not None:\n",
      "  File \"/home/felipe/anaconda3/lib/python3.7/inspect.py\", line 742, in getmodule\n",
      "    os.path.realpath(f)] = module.__name__\n",
      "AttributeError: module has no attribute '__name__'\n"
     ]
    },
    {
     "ename": "KeyboardInterrupt",
     "evalue": "",
     "output_type": "error",
     "traceback": [
      "\u001b[0;31m---------------------------------------------------------------------------\u001b[0m"
     ]
    }
   ],
   "source": [
    "np.random.seed(9)\n",
    "auc_scores = model_selection.cross_val_score(exported_pipeline, X, y, scoring = 'roc_auc', cv=splits)\n",
    "avg_scores = model_selection.cross_val_score(exported_pipeline, X, y, scoring = 'average_precision', cv=splits)\n",
    "def_scores = model_selection.cross_val_score(exported_pipeline, X, y, cv=splits)\n",
    "print(\"AUC Scores :\", auc_scores, \"\\n\", \n",
    "      \"Average Precision Scores :\", avg_scores, \"\\n\", \n",
    "      \"Default Scores :\", def_scores)"
   ]
  },
  {
   "cell_type": "code",
   "execution_count": null,
   "metadata": {},
   "outputs": [],
   "source": [
    "exported_pipeline.fit(X_train[0], y_train[0]);"
   ]
  },
  {
   "cell_type": "code",
   "execution_count": null,
   "metadata": {
    "scrolled": true
   },
   "outputs": [],
   "source": [
    "y_pred = exported_pipeline.predict(X_test[0])\n",
    "#cm = confusion_matrix(y_test[0], y_pred)\n",
    "plot_confusion_matrix(y_test[0],y_pred, ['not IA','IA' ], normalize=False)\n",
    "plot_confusion_matrix(y_test[0],y_pred, ['not IA','IA' ], normalize=True)"
   ]
  },
  {
   "cell_type": "code",
   "execution_count": null,
   "metadata": {},
   "outputs": [],
   "source": []
  },
  {
   "cell_type": "markdown",
   "metadata": {},
   "source": [
    "#### Splits = 19"
   ]
  },
  {
   "cell_type": "code",
   "execution_count": null,
   "metadata": {},
   "outputs": [],
   "source": [
    "class SplitterSwapper:\n",
    "    '''Swaps training and test data in a splitter class.'''\n",
    "    def __init__(self, fold):\n",
    "        self.fold = fold\n",
    "    def split(self, *args):\n",
    "        for training, testing in self.fold.split(*args):\n",
    "            yield testing, training"
   ]
  },
  {
   "cell_type": "code",
   "execution_count": null,
   "metadata": {},
   "outputs": [],
   "source": [
    "auc_scores = model_selection.cross_val_score(exported_pipeline, X_real, y_real, scoring = 'roc_auc', cv=SplitterSwapper(StratifiedKFold(19)))\n",
    "avg_scores = model_selection.cross_val_score(exported_pipeline, X_real, y_real, scoring = 'average_precision', cv=SplitterSwapper(StratifiedKFold(19)))\n",
    "def_scores = model_selection.cross_val_score(exported_pipeline, X_real, y_real, cv=SplitterSwapper(StratifiedKFold(19)))\n",
    "print(\"AUC Scores :\", auc_scores, \"\\n\", \n",
    "      \"Average Precision Scores :\", avg_scores, \"\\n\", \n",
    "      \"Default Scores :\", def_scores)"
   ]
  },
  {
   "cell_type": "code",
   "execution_count": null,
   "metadata": {},
   "outputs": [],
   "source": [
    "exported_pipeline.fit(X_test_real[0], y_test_real[0])"
   ]
  },
  {
   "cell_type": "code",
   "execution_count": null,
   "metadata": {},
   "outputs": [],
   "source": [
    "y_pred = exported_pipeline.predict(X_train_real[0])\n",
    "#cm = confusion_matrix(y_train_real[0], y_pred)\n",
    "plot_confusion_matrix(y_train_real[0],y_pred, ['not IA','IA' ], normalize=False)\n",
    "plot_confusion_matrix(y_train_real[0],y_pred, ['not IA','IA' ], normalize=True)"
   ]
  },
  {
   "cell_type": "code",
   "execution_count": null,
   "metadata": {
    "scrolled": true
   },
   "outputs": [],
   "source": [
    "df"
   ]
  },
  {
   "cell_type": "code",
   "execution_count": null,
   "metadata": {},
   "outputs": [],
   "source": [
    "len(y_pred)"
   ]
  },
  {
   "cell_type": "code",
   "execution_count": null,
   "metadata": {},
   "outputs": [],
   "source": []
  }
 ],
 "metadata": {
  "kernelspec": {
   "display_name": "Python 3",
   "language": "python",
   "name": "python3"
  },
  "language_info": {
   "codemirror_mode": {
    "name": "ipython",
    "version": 3
   },
   "file_extension": ".py",
   "mimetype": "text/x-python",
   "name": "python",
   "nbconvert_exporter": "python",
   "pygments_lexer": "ipython3",
   "version": "3.7.3"
  }
 },
 "nbformat": 4,
 "nbformat_minor": 2
}
