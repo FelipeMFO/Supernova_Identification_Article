{
 "cells": [
  {
   "cell_type": "code",
   "execution_count": 1,
   "metadata": {},
   "outputs": [
    {
     "name": "stderr",
     "output_type": "stream",
     "text": [
      "/home/felipe/anaconda3/lib/python3.7/site-packages/dask/config.py:168: YAMLLoadWarning: calling yaml.load() without Loader=... is deprecated, as the default Loader is unsafe. Please read https://msg.pyyaml.org/load for full details.\n",
      "  data = yaml.load(f.read()) or {}\n",
      "/home/felipe/anaconda3/lib/python3.7/site-packages/distributed/config.py:20: YAMLLoadWarning: calling yaml.load() without Loader=... is deprecated, as the default Loader is unsafe. Please read https://msg.pyyaml.org/load for full details.\n",
      "  defaults = yaml.load(f)\n"
     ]
    }
   ],
   "source": [
    "import pandas as pd\n",
    "import numpy as np\n",
    "\n",
    "import pickle as pk\n",
    "import xgboost as xgb\n",
    "\n",
    "from sklearn.metrics import mean_squared_error\n",
    "from sklearn.model_selection import KFold\n",
    "from sklearn.model_selection import train_test_split"
   ]
  },
  {
   "cell_type": "code",
   "execution_count": 2,
   "metadata": {},
   "outputs": [],
   "source": [
    "pd.set_option(\"display.max_rows\", 8)"
   ]
  },
  {
   "cell_type": "code",
   "execution_count": 3,
   "metadata": {},
   "outputs": [],
   "source": [
    "df = pd.read_pickle(\"../../data/processed/df_20features_redshift.pkl\")"
   ]
  },
  {
   "cell_type": "code",
   "execution_count": 4,
   "metadata": {
    "scrolled": true
   },
   "outputs": [
    {
     "data": {
      "text/html": [
       "<div>\n",
       "<style scoped>\n",
       "    .dataframe tbody tr th:only-of-type {\n",
       "        vertical-align: middle;\n",
       "    }\n",
       "\n",
       "    .dataframe tbody tr th {\n",
       "        vertical-align: top;\n",
       "    }\n",
       "\n",
       "    .dataframe thead th {\n",
       "        text-align: right;\n",
       "    }\n",
       "</style>\n",
       "<table border=\"1\" class=\"dataframe\">\n",
       "  <thead>\n",
       "    <tr style=\"text-align: right;\">\n",
       "      <th></th>\n",
       "      <th>desg</th>\n",
       "      <th>desi</th>\n",
       "      <th>desr</th>\n",
       "      <th>desz</th>\n",
       "      <th>Xaxis</th>\n",
       "      <th>desg_GP</th>\n",
       "      <th>desi_GP</th>\n",
       "      <th>desr_GP</th>\n",
       "      <th>desz_GP</th>\n",
       "      <th>wavelets</th>\n",
       "      <th>...</th>\n",
       "      <th>f14</th>\n",
       "      <th>f15</th>\n",
       "      <th>f16</th>\n",
       "      <th>f17</th>\n",
       "      <th>f18</th>\n",
       "      <th>f19</th>\n",
       "      <th>f20</th>\n",
       "      <th>type</th>\n",
       "      <th>type_bool</th>\n",
       "      <th>REDSHIFT_SPEC</th>\n",
       "    </tr>\n",
       "    <tr>\n",
       "      <th>ID</th>\n",
       "      <th></th>\n",
       "      <th></th>\n",
       "      <th></th>\n",
       "      <th></th>\n",
       "      <th></th>\n",
       "      <th></th>\n",
       "      <th></th>\n",
       "      <th></th>\n",
       "      <th></th>\n",
       "      <th></th>\n",
       "      <th></th>\n",
       "      <th></th>\n",
       "      <th></th>\n",
       "      <th></th>\n",
       "      <th></th>\n",
       "      <th></th>\n",
       "      <th></th>\n",
       "      <th></th>\n",
       "      <th></th>\n",
       "      <th></th>\n",
       "      <th></th>\n",
       "    </tr>\n",
       "  </thead>\n",
       "  <tbody>\n",
       "    <tr>\n",
       "      <th>SN100023</th>\n",
       "      <td>[[6.984000000004016, 5.679, 6.387], [7.9920000...</td>\n",
       "      <td>[[7.00800000000163, 4.698, 7.145], [8.02300000...</td>\n",
       "      <td>[[0.0, 16.04, 17.59], [6.992000000005646, 19.8...</td>\n",
       "      <td>[[4.121000000006461, 18.01, 3.601], [7.0230000...</td>\n",
       "      <td>[0.0, 1.3437474747475018, 2.6874949494950036, ...</td>\n",
       "      <td>([2.7042034170117253, 2.704203379882798, 2.704...</td>\n",
       "      <td>([9.210984520892023, 9.176410057411523, 9.1395...</td>\n",
       "      <td>([18.95157959234684, 18.542994851548404, 18.12...</td>\n",
       "      <td>([11.511496784869301, 11.466555748878534, 11.4...</td>\n",
       "      <td>[5.408305555798485, 5.408350230206628, 5.40838...</td>\n",
       "      <td>...</td>\n",
       "      <td>47.475268</td>\n",
       "      <td>22.339358</td>\n",
       "      <td>-8.555147</td>\n",
       "      <td>-20.272573</td>\n",
       "      <td>9.800754</td>\n",
       "      <td>-27.230832</td>\n",
       "      <td>-3.424349</td>\n",
       "      <td>II</td>\n",
       "      <td>False</td>\n",
       "      <td>0.79264</td>\n",
       "    </tr>\n",
       "    <tr>\n",
       "      <th>SN100085</th>\n",
       "      <td>[[0.0, 14.24, 18.69], [0.046999999998661224, 1...</td>\n",
       "      <td>[[9.245999999999185, 2.122, 2.955], [17.238000...</td>\n",
       "      <td>[[0.008000000001629815, 0.4534, 9.048], [23.03...</td>\n",
       "      <td>[[0.024000000004889444, 8.451, 7.696], [10.168...</td>\n",
       "      <td>[0.0, 1.2024545454545972, 2.4049090909091944, ...</td>\n",
       "      <td>([3.716529330659685, 3.5625686823335636, 3.356...</td>\n",
       "      <td>([0.22260948197979502, 0.3996793089433659, 0.5...</td>\n",
       "      <td>([0.013168490497364349, -0.0898721956550923, -...</td>\n",
       "      <td>([6.843383353229822, 6.685880257682825, 6.5058...</td>\n",
       "      <td>[3.8346626513696225, 5.304183229080858, 6.3480...</td>\n",
       "      <td>...</td>\n",
       "      <td>-11.987002</td>\n",
       "      <td>-29.304439</td>\n",
       "      <td>24.379562</td>\n",
       "      <td>44.752307</td>\n",
       "      <td>-17.355709</td>\n",
       "      <td>6.271127</td>\n",
       "      <td>52.140213</td>\n",
       "      <td>II</td>\n",
       "      <td>False</td>\n",
       "      <td>0.65600</td>\n",
       "    </tr>\n",
       "    <tr>\n",
       "      <th>SN100114</th>\n",
       "      <td>[[0.2809999999954016, 6.707, 10.62], [5.260999...</td>\n",
       "      <td>[[0.0, 5.127, 5.467], [5.9799999999959255, 4.5...</td>\n",
       "      <td>[[5.277000000001863, 6.017, 3.299], [6.2609999...</td>\n",
       "      <td>[[4.987999999997555, 1.516, 8.327], [6.9879999...</td>\n",
       "      <td>[0.0, 1.1410505050505044, 2.282101010101009, 3...</td>\n",
       "      <td>([6.30179553883895, 6.163399755424116, 5.90410...</td>\n",
       "      <td>([4.501175940761371, 4.884878693958981, 5.2329...</td>\n",
       "      <td>([6.970237496131654, 6.258842555550748, 5.6350...</td>\n",
       "      <td>([12.16350518315572, 10.810842707072254, 9.097...</td>\n",
       "      <td>[18.458977393379286, 16.046616727416012, 13.67...</td>\n",
       "      <td>...</td>\n",
       "      <td>126.883803</td>\n",
       "      <td>-79.046296</td>\n",
       "      <td>323.571740</td>\n",
       "      <td>60.588944</td>\n",
       "      <td>-62.613276</td>\n",
       "      <td>-177.089830</td>\n",
       "      <td>71.567560</td>\n",
       "      <td>II</td>\n",
       "      <td>False</td>\n",
       "      <td>0.20095</td>\n",
       "    </tr>\n",
       "    <tr>\n",
       "      <th>SN100177</th>\n",
       "      <td>[[6.980000000003201, 1.914, 2.033], [14.980000...</td>\n",
       "      <td>[[8.042999999997846, 0.01975, 3.008], [19.9800...</td>\n",
       "      <td>[[6.995999999999185, 0.4865, 1.444], [15.00400...</td>\n",
       "      <td>[[0.0, 0.9217, 3.049], [21.995999999999185, 5....</td>\n",
       "      <td>[0.0, 0.8466262626262514, 1.6932525252525028, ...</td>\n",
       "      <td>([1.139219526385169, 1.2164271451388768, 1.295...</td>\n",
       "      <td>([-0.7877409693040072, -0.7722841243756449, -0...</td>\n",
       "      <td>([-0.6894051675222933, -0.6382299020654087, -0...</td>\n",
       "      <td>([1.4328523933541817, 1.612303136114413, 1.794...</td>\n",
       "      <td>[8.772762795164342, 5.92446213264885, 3.746806...</td>\n",
       "      <td>...</td>\n",
       "      <td>33.713789</td>\n",
       "      <td>-29.794074</td>\n",
       "      <td>14.294094</td>\n",
       "      <td>37.541937</td>\n",
       "      <td>-8.246827</td>\n",
       "      <td>-35.067612</td>\n",
       "      <td>-3.614580</td>\n",
       "      <td>II</td>\n",
       "      <td>False</td>\n",
       "      <td>0.46557</td>\n",
       "    </tr>\n",
       "    <tr>\n",
       "      <th>...</th>\n",
       "      <td>...</td>\n",
       "      <td>...</td>\n",
       "      <td>...</td>\n",
       "      <td>...</td>\n",
       "      <td>...</td>\n",
       "      <td>...</td>\n",
       "      <td>...</td>\n",
       "      <td>...</td>\n",
       "      <td>...</td>\n",
       "      <td>...</td>\n",
       "      <td>...</td>\n",
       "      <td>...</td>\n",
       "      <td>...</td>\n",
       "      <td>...</td>\n",
       "      <td>...</td>\n",
       "      <td>...</td>\n",
       "      <td>...</td>\n",
       "      <td>...</td>\n",
       "      <td>...</td>\n",
       "      <td>...</td>\n",
       "      <td>...</td>\n",
       "    </tr>\n",
       "    <tr>\n",
       "      <th>SN899766</th>\n",
       "      <td>[[6.984000000004016, 2.619, 6.376], [21.973000...</td>\n",
       "      <td>[[0.012000000002444722, 48.86, 49.95], [8.0230...</td>\n",
       "      <td>[[0.0, 19.65, 17.59], [6.992000000005646, 5.34...</td>\n",
       "      <td>[[4.121000000006461, 1.07, 3.581], [7.02300000...</td>\n",
       "      <td>[0.0, 1.474707070707136, 2.949414141414272, 4....</td>\n",
       "      <td>([3.1774853444736557, 3.1774855699966595, 3.17...</td>\n",
       "      <td>([6.273860823260804, 6.090278522008031, 5.9044...</td>\n",
       "      <td>([8.309936227222874, 8.154384056314196, 7.9766...</td>\n",
       "      <td>([1.0347047221511048, 1.209742608349444, 1.388...</td>\n",
       "      <td>[6.3549756079875195, 6.354973557479621, 6.3549...</td>\n",
       "      <td>...</td>\n",
       "      <td>-22.871439</td>\n",
       "      <td>-85.058740</td>\n",
       "      <td>23.367325</td>\n",
       "      <td>86.632538</td>\n",
       "      <td>21.008687</td>\n",
       "      <td>-14.510971</td>\n",
       "      <td>64.077706</td>\n",
       "      <td>II</td>\n",
       "      <td>False</td>\n",
       "      <td>0.84069</td>\n",
       "    </tr>\n",
       "    <tr>\n",
       "      <th>SN899772</th>\n",
       "      <td>[[0.0, 8.811, 25.57], [5.875, 1.341, 4.764], [...</td>\n",
       "      <td>[[0.8550000000032014, 10.26, 30.95], [21.81600...</td>\n",
       "      <td>[[0.015000000006693881, 7.061, 4.154], [32.820...</td>\n",
       "      <td>[[19.851000000002387, 3.151, 4.938], [27.85100...</td>\n",
       "      <td>[0.0, 1.6130000000000542, 3.2260000000001083, ...</td>\n",
       "      <td>([3.375523849152177, 2.9073715158475206, 2.313...</td>\n",
       "      <td>([5.9244796371948585, 5.563986512566748, 5.176...</td>\n",
       "      <td>([6.3162013263673575, 5.386246481590906, 4.336...</td>\n",
       "      <td>([11.990492759478087, 11.552298169626269, 11.0...</td>\n",
       "      <td>[3.341657653722518, 4.5430537588317765, 5.0680...</td>\n",
       "      <td>...</td>\n",
       "      <td>-66.440696</td>\n",
       "      <td>55.496760</td>\n",
       "      <td>-63.973373</td>\n",
       "      <td>-119.170704</td>\n",
       "      <td>23.982747</td>\n",
       "      <td>-77.691256</td>\n",
       "      <td>-40.448599</td>\n",
       "      <td>II</td>\n",
       "      <td>False</td>\n",
       "      <td>0.47005</td>\n",
       "    </tr>\n",
       "    <tr>\n",
       "      <th>SN899777</th>\n",
       "      <td>[[0.0, 3.066, 3.91], [0.8009999999994761, 15.1...</td>\n",
       "      <td>[[13.788999999997031, 3.201, 4.192], [14.80099...</td>\n",
       "      <td>[[0.008000000001629815, 2.275, 5.58], [0.81699...</td>\n",
       "      <td>[[0.8600000000005821, 11.96, 5.06], [6.8359999...</td>\n",
       "      <td>[0.0, 1.311363636363607, 2.622727272727214, 3....</td>\n",
       "      <td>([1.035409786279157, 1.0654355765245267, 1.097...</td>\n",
       "      <td>([5.5105922415789195, 5.384141464291133, 5.253...</td>\n",
       "      <td>([2.4760379841089275, 2.5448649370640624, 2.58...</td>\n",
       "      <td>([3.0547576395107967, 3.133081740221371, 3.217...</td>\n",
       "      <td>[4.908064260185052, 3.6456116683397255, 2.6941...</td>\n",
       "      <td>...</td>\n",
       "      <td>-21.120681</td>\n",
       "      <td>-38.258819</td>\n",
       "      <td>5.569152</td>\n",
       "      <td>143.246575</td>\n",
       "      <td>59.833476</td>\n",
       "      <td>-6.080932</td>\n",
       "      <td>92.213653</td>\n",
       "      <td>II</td>\n",
       "      <td>False</td>\n",
       "      <td>0.96836</td>\n",
       "    </tr>\n",
       "    <tr>\n",
       "      <th>SN899894</th>\n",
       "      <td>[[4.946000000003551, 0.4706, 2.636], [12.84800...</td>\n",
       "      <td>[[20.89100000000326, 3.519, 3.209], [28.899000...</td>\n",
       "      <td>[[12.864000000001397, 0.06272, 2.322], [28.879...</td>\n",
       "      <td>[[0.0, 0.5017, 2.964], [12.902999999998428, 1....</td>\n",
       "      <td>[0.0, 1.6342020202020209, 3.2684040404040418, ...</td>\n",
       "      <td>([0.5826453395648821, 0.6122115256870917, 0.64...</td>\n",
       "      <td>([-2.1020468565115067, -1.8163280187884538, -1...</td>\n",
       "      <td>([5.22669702405458, 5.045645124683354, 4.66633...</td>\n",
       "      <td>([-0.8891914351648893, -0.6117691393582163, -0...</td>\n",
       "      <td>[3.080265355416106, 2.2195112229080918, 1.5941...</td>\n",
       "      <td>...</td>\n",
       "      <td>-20.953367</td>\n",
       "      <td>-21.693920</td>\n",
       "      <td>13.137965</td>\n",
       "      <td>139.137226</td>\n",
       "      <td>22.776597</td>\n",
       "      <td>30.205303</td>\n",
       "      <td>75.482211</td>\n",
       "      <td>II</td>\n",
       "      <td>False</td>\n",
       "      <td>0.98557</td>\n",
       "    </tr>\n",
       "  </tbody>\n",
       "</table>\n",
       "<p>18916 rows × 33 columns</p>\n",
       "</div>"
      ],
      "text/plain": [
       "                                                       desg  \\\n",
       "ID                                                            \n",
       "SN100023  [[6.984000000004016, 5.679, 6.387], [7.9920000...   \n",
       "SN100085  [[0.0, 14.24, 18.69], [0.046999999998661224, 1...   \n",
       "SN100114  [[0.2809999999954016, 6.707, 10.62], [5.260999...   \n",
       "SN100177  [[6.980000000003201, 1.914, 2.033], [14.980000...   \n",
       "...                                                     ...   \n",
       "SN899766  [[6.984000000004016, 2.619, 6.376], [21.973000...   \n",
       "SN899772  [[0.0, 8.811, 25.57], [5.875, 1.341, 4.764], [...   \n",
       "SN899777  [[0.0, 3.066, 3.91], [0.8009999999994761, 15.1...   \n",
       "SN899894  [[4.946000000003551, 0.4706, 2.636], [12.84800...   \n",
       "\n",
       "                                                       desi  \\\n",
       "ID                                                            \n",
       "SN100023  [[7.00800000000163, 4.698, 7.145], [8.02300000...   \n",
       "SN100085  [[9.245999999999185, 2.122, 2.955], [17.238000...   \n",
       "SN100114  [[0.0, 5.127, 5.467], [5.9799999999959255, 4.5...   \n",
       "SN100177  [[8.042999999997846, 0.01975, 3.008], [19.9800...   \n",
       "...                                                     ...   \n",
       "SN899766  [[0.012000000002444722, 48.86, 49.95], [8.0230...   \n",
       "SN899772  [[0.8550000000032014, 10.26, 30.95], [21.81600...   \n",
       "SN899777  [[13.788999999997031, 3.201, 4.192], [14.80099...   \n",
       "SN899894  [[20.89100000000326, 3.519, 3.209], [28.899000...   \n",
       "\n",
       "                                                       desr  \\\n",
       "ID                                                            \n",
       "SN100023  [[0.0, 16.04, 17.59], [6.992000000005646, 19.8...   \n",
       "SN100085  [[0.008000000001629815, 0.4534, 9.048], [23.03...   \n",
       "SN100114  [[5.277000000001863, 6.017, 3.299], [6.2609999...   \n",
       "SN100177  [[6.995999999999185, 0.4865, 1.444], [15.00400...   \n",
       "...                                                     ...   \n",
       "SN899766  [[0.0, 19.65, 17.59], [6.992000000005646, 5.34...   \n",
       "SN899772  [[0.015000000006693881, 7.061, 4.154], [32.820...   \n",
       "SN899777  [[0.008000000001629815, 2.275, 5.58], [0.81699...   \n",
       "SN899894  [[12.864000000001397, 0.06272, 2.322], [28.879...   \n",
       "\n",
       "                                                       desz  \\\n",
       "ID                                                            \n",
       "SN100023  [[4.121000000006461, 18.01, 3.601], [7.0230000...   \n",
       "SN100085  [[0.024000000004889444, 8.451, 7.696], [10.168...   \n",
       "SN100114  [[4.987999999997555, 1.516, 8.327], [6.9879999...   \n",
       "SN100177  [[0.0, 0.9217, 3.049], [21.995999999999185, 5....   \n",
       "...                                                     ...   \n",
       "SN899766  [[4.121000000006461, 1.07, 3.581], [7.02300000...   \n",
       "SN899772  [[19.851000000002387, 3.151, 4.938], [27.85100...   \n",
       "SN899777  [[0.8600000000005821, 11.96, 5.06], [6.8359999...   \n",
       "SN899894  [[0.0, 0.5017, 2.964], [12.902999999998428, 1....   \n",
       "\n",
       "                                                      Xaxis  \\\n",
       "ID                                                            \n",
       "SN100023  [0.0, 1.3437474747475018, 2.6874949494950036, ...   \n",
       "SN100085  [0.0, 1.2024545454545972, 2.4049090909091944, ...   \n",
       "SN100114  [0.0, 1.1410505050505044, 2.282101010101009, 3...   \n",
       "SN100177  [0.0, 0.8466262626262514, 1.6932525252525028, ...   \n",
       "...                                                     ...   \n",
       "SN899766  [0.0, 1.474707070707136, 2.949414141414272, 4....   \n",
       "SN899772  [0.0, 1.6130000000000542, 3.2260000000001083, ...   \n",
       "SN899777  [0.0, 1.311363636363607, 2.622727272727214, 3....   \n",
       "SN899894  [0.0, 1.6342020202020209, 3.2684040404040418, ...   \n",
       "\n",
       "                                                    desg_GP  \\\n",
       "ID                                                            \n",
       "SN100023  ([2.7042034170117253, 2.704203379882798, 2.704...   \n",
       "SN100085  ([3.716529330659685, 3.5625686823335636, 3.356...   \n",
       "SN100114  ([6.30179553883895, 6.163399755424116, 5.90410...   \n",
       "SN100177  ([1.139219526385169, 1.2164271451388768, 1.295...   \n",
       "...                                                     ...   \n",
       "SN899766  ([3.1774853444736557, 3.1774855699966595, 3.17...   \n",
       "SN899772  ([3.375523849152177, 2.9073715158475206, 2.313...   \n",
       "SN899777  ([1.035409786279157, 1.0654355765245267, 1.097...   \n",
       "SN899894  ([0.5826453395648821, 0.6122115256870917, 0.64...   \n",
       "\n",
       "                                                    desi_GP  \\\n",
       "ID                                                            \n",
       "SN100023  ([9.210984520892023, 9.176410057411523, 9.1395...   \n",
       "SN100085  ([0.22260948197979502, 0.3996793089433659, 0.5...   \n",
       "SN100114  ([4.501175940761371, 4.884878693958981, 5.2329...   \n",
       "SN100177  ([-0.7877409693040072, -0.7722841243756449, -0...   \n",
       "...                                                     ...   \n",
       "SN899766  ([6.273860823260804, 6.090278522008031, 5.9044...   \n",
       "SN899772  ([5.9244796371948585, 5.563986512566748, 5.176...   \n",
       "SN899777  ([5.5105922415789195, 5.384141464291133, 5.253...   \n",
       "SN899894  ([-2.1020468565115067, -1.8163280187884538, -1...   \n",
       "\n",
       "                                                    desr_GP  \\\n",
       "ID                                                            \n",
       "SN100023  ([18.95157959234684, 18.542994851548404, 18.12...   \n",
       "SN100085  ([0.013168490497364349, -0.0898721956550923, -...   \n",
       "SN100114  ([6.970237496131654, 6.258842555550748, 5.6350...   \n",
       "SN100177  ([-0.6894051675222933, -0.6382299020654087, -0...   \n",
       "...                                                     ...   \n",
       "SN899766  ([8.309936227222874, 8.154384056314196, 7.9766...   \n",
       "SN899772  ([6.3162013263673575, 5.386246481590906, 4.336...   \n",
       "SN899777  ([2.4760379841089275, 2.5448649370640624, 2.58...   \n",
       "SN899894  ([5.22669702405458, 5.045645124683354, 4.66633...   \n",
       "\n",
       "                                                    desz_GP  \\\n",
       "ID                                                            \n",
       "SN100023  ([11.511496784869301, 11.466555748878534, 11.4...   \n",
       "SN100085  ([6.843383353229822, 6.685880257682825, 6.5058...   \n",
       "SN100114  ([12.16350518315572, 10.810842707072254, 9.097...   \n",
       "SN100177  ([1.4328523933541817, 1.612303136114413, 1.794...   \n",
       "...                                                     ...   \n",
       "SN899766  ([1.0347047221511048, 1.209742608349444, 1.388...   \n",
       "SN899772  ([11.990492759478087, 11.552298169626269, 11.0...   \n",
       "SN899777  ([3.0547576395107967, 3.133081740221371, 3.217...   \n",
       "SN899894  ([-0.8891914351648893, -0.6117691393582163, -0...   \n",
       "\n",
       "                                                   wavelets  ...         f14  \\\n",
       "ID                                                           ...               \n",
       "SN100023  [5.408305555798485, 5.408350230206628, 5.40838...  ...   47.475268   \n",
       "SN100085  [3.8346626513696225, 5.304183229080858, 6.3480...  ...  -11.987002   \n",
       "SN100114  [18.458977393379286, 16.046616727416012, 13.67...  ...  126.883803   \n",
       "SN100177  [8.772762795164342, 5.92446213264885, 3.746806...  ...   33.713789   \n",
       "...                                                     ...  ...         ...   \n",
       "SN899766  [6.3549756079875195, 6.354973557479621, 6.3549...  ...  -22.871439   \n",
       "SN899772  [3.341657653722518, 4.5430537588317765, 5.0680...  ...  -66.440696   \n",
       "SN899777  [4.908064260185052, 3.6456116683397255, 2.6941...  ...  -21.120681   \n",
       "SN899894  [3.080265355416106, 2.2195112229080918, 1.5941...  ...  -20.953367   \n",
       "\n",
       "                f15         f16         f17        f18         f19        f20  \\\n",
       "ID                                                                              \n",
       "SN100023  22.339358   -8.555147  -20.272573   9.800754  -27.230832  -3.424349   \n",
       "SN100085 -29.304439   24.379562   44.752307 -17.355709    6.271127  52.140213   \n",
       "SN100114 -79.046296  323.571740   60.588944 -62.613276 -177.089830  71.567560   \n",
       "SN100177 -29.794074   14.294094   37.541937  -8.246827  -35.067612  -3.614580   \n",
       "...             ...         ...         ...        ...         ...        ...   \n",
       "SN899766 -85.058740   23.367325   86.632538  21.008687  -14.510971  64.077706   \n",
       "SN899772  55.496760  -63.973373 -119.170704  23.982747  -77.691256 -40.448599   \n",
       "SN899777 -38.258819    5.569152  143.246575  59.833476   -6.080932  92.213653   \n",
       "SN899894 -21.693920   13.137965  139.137226  22.776597   30.205303  75.482211   \n",
       "\n",
       "          type  type_bool  REDSHIFT_SPEC  \n",
       "ID                                        \n",
       "SN100023    II      False        0.79264  \n",
       "SN100085    II      False        0.65600  \n",
       "SN100114    II      False        0.20095  \n",
       "SN100177    II      False        0.46557  \n",
       "...        ...        ...            ...  \n",
       "SN899766    II      False        0.84069  \n",
       "SN899772    II      False        0.47005  \n",
       "SN899777    II      False        0.96836  \n",
       "SN899894    II      False        0.98557  \n",
       "\n",
       "[18916 rows x 33 columns]"
      ]
     },
     "execution_count": 4,
     "metadata": {},
     "output_type": "execute_result"
    }
   ],
   "source": [
    "df"
   ]
  },
  {
   "cell_type": "code",
   "execution_count": 23,
   "metadata": {},
   "outputs": [
    {
     "name": "stdout",
     "output_type": "stream",
     "text": [
      "X_true_test: [ 1113  1114  1115 ... 18913 18914 18915] X_to_train: [   0    1    2 ... 1110 1111 1112]\n",
      "X_true_test: [    0     1     2 ... 18913 18914 18915] X_to_train: [1113 1114 1115 ... 2223 2224 2225]\n",
      "X_true_test: [    0     1     2 ... 18913 18914 18915] X_to_train: [2226 2227 2228 ... 3336 3337 3338]\n",
      "X_true_test: [    0     1     2 ... 18913 18914 18915] X_to_train: [3339 3340 3341 ... 4449 4450 4451]\n",
      "X_true_test: [    0     1     2 ... 18913 18914 18915] X_to_train: [4452 4453 4454 ... 5562 5563 5564]\n",
      "X_true_test: [    0     1     2 ... 18913 18914 18915] X_to_train: [5565 5566 5567 ... 6675 6676 6677]\n",
      "X_true_test: [    0     1     2 ... 18913 18914 18915] X_to_train: [6678 6679 6680 ... 7788 7789 7790]\n",
      "X_true_test: [    0     1     2 ... 18913 18914 18915] X_to_train: [7791 7792 7793 ... 8901 8902 8903]\n",
      "X_true_test: [    0     1     2 ... 18913 18914 18915] X_to_train: [ 8904  8905  8906 ... 10014 10015 10016]\n",
      "X_true_test: [    0     1     2 ... 18913 18914 18915] X_to_train: [10017 10018 10019 ... 11127 11128 11129]\n",
      "X_true_test: [    0     1     2 ... 18913 18914 18915] X_to_train: [11130 11131 11132 ... 12240 12241 12242]\n",
      "X_true_test: [    0     1     2 ... 18913 18914 18915] X_to_train: [12243 12244 12245 ... 13353 13354 13355]\n",
      "X_true_test: [    0     1     2 ... 18913 18914 18915] X_to_train: [13356 13357 13358 ... 14465 14466 14467]\n",
      "X_true_test: [    0     1     2 ... 18913 18914 18915] X_to_train: [14468 14469 14470 ... 15577 15578 15579]\n",
      "X_true_test: [    0     1     2 ... 18913 18914 18915] X_to_train: [15580 15581 15582 ... 16689 16690 16691]\n",
      "X_true_test: [    0     1     2 ... 18913 18914 18915] X_to_train: [16692 16693 16694 ... 17801 17802 17803]\n",
      "X_true_test: [    0     1     2 ... 17801 17802 17803] X_to_train: [17804 17805 17806 ... 18913 18914 18915]\n"
     ]
    }
   ],
   "source": [
    "splits = int(len(df)/1100)\n",
    "\n",
    "X_real = df.loc[:,'f1':'f20']\n",
    "y_real = np.array(df.REDSHIFT_SPEC)\n",
    "\n",
    "kf_real = KFold(n_splits = splits)\n",
    "X_true_test = []\n",
    "X_to_train = []\n",
    "y_true_test = []\n",
    "y_to_train = []\n",
    "for train_index_real, test_index_real in kf_real.split(X_real):\n",
    "    print(\"X_true_test:\", train_index_real, \"X_to_train:\", test_index_real)\n",
    "    X_true_test.append(X_real.iloc[train_index_real])\n",
    "    X_to_train.append(X_real.iloc[test_index_real])\n",
    "    y_true_test.append(y_real[train_index_real])\n",
    "    y_to_train.append(y_real[test_index_real])"
   ]
  },
  {
   "cell_type": "code",
   "execution_count": null,
   "metadata": {},
   "outputs": [],
   "source": []
  },
  {
   "cell_type": "markdown",
   "metadata": {},
   "source": [
    "# Testing for [0][0]"
   ]
  },
  {
   "cell_type": "code",
   "execution_count": 27,
   "metadata": {},
   "outputs": [],
   "source": [
    "X_ = X_to_train[0]\n",
    "y_ = y_to_train[0]"
   ]
  },
  {
   "cell_type": "code",
   "execution_count": 28,
   "metadata": {},
   "outputs": [],
   "source": [
    "data_dmatrix = xgb.DMatrix(data=X_,label=y_)"
   ]
  },
  {
   "cell_type": "code",
   "execution_count": 29,
   "metadata": {
    "scrolled": true
   },
   "outputs": [],
   "source": [
    "kf = KFold(n_splits = 5)\n",
    "X_train = []\n",
    "X_test = []\n",
    "y_train = []\n",
    "y_test = []\n",
    "for train_index, test_index in kf.split(X_):\n",
    "    #print(\"TRAIN:\", train_index, \"TEST:\", test_index)\n",
    "    X_train.append(X_.iloc[train_index])\n",
    "    X_test.append(X_.iloc[test_index])\n",
    "    y_train.append(y_[train_index])\n",
    "    y_test.append(y_[test_index])"
   ]
  },
  {
   "cell_type": "code",
   "execution_count": null,
   "metadata": {},
   "outputs": [],
   "source": [
    "#X_train, X_test, y_train, y_test = train_test_split(X_, y_, test_size=0.2, random_state=123)"
   ]
  },
  {
   "cell_type": "code",
   "execution_count": 30,
   "metadata": {},
   "outputs": [],
   "source": [
    "xg_reg = xgb.XGBRegressor(objective ='reg:linear', colsample_bytree = 0.3, learning_rate = 0.1,\n",
    "                max_depth = 5, alpha = 10, n_estimators = 10)"
   ]
  },
  {
   "cell_type": "code",
   "execution_count": 31,
   "metadata": {
    "scrolled": true
   },
   "outputs": [
    {
     "name": "stdout",
     "output_type": "stream",
     "text": [
      "[23:14:49] WARNING: /workspace/src/objective/regression_obj.cu:167: reg:linear is now deprecated in favor of reg:squarederror.\n"
     ]
    },
    {
     "data": {
      "text/plain": [
       "XGBRegressor(alpha=10, base_score=0.5, booster=None, colsample_bylevel=1,\n",
       "             colsample_bynode=1, colsample_bytree=0.3, gamma=0, gpu_id=-1,\n",
       "             importance_type='gain', interaction_constraints=None,\n",
       "             learning_rate=0.1, max_delta_step=0, max_depth=5,\n",
       "             min_child_weight=1, missing=nan, monotone_constraints=None,\n",
       "             n_estimators=10, n_jobs=0, num_parallel_tree=1,\n",
       "             objective='reg:linear', random_state=0, reg_alpha=10, reg_lambda=1,\n",
       "             scale_pos_weight=1, subsample=1, tree_method=None,\n",
       "             validate_parameters=False, verbosity=None)"
      ]
     },
     "execution_count": 31,
     "metadata": {},
     "output_type": "execute_result"
    }
   ],
   "source": [
    "xg_reg.fit(X_train[0],y_train[0])"
   ]
  },
  {
   "cell_type": "code",
   "execution_count": 32,
   "metadata": {},
   "outputs": [],
   "source": [
    "preds = xg_reg.predict(X_test[0])"
   ]
  },
  {
   "cell_type": "code",
   "execution_count": 33,
   "metadata": {},
   "outputs": [
    {
     "name": "stdout",
     "output_type": "stream",
     "text": [
      "RMSE: 0.216132\n"
     ]
    }
   ],
   "source": [
    "rmse = np.sqrt(mean_squared_error(y_test[0], preds))\n",
    "print(\"RMSE: %f\" % (rmse))"
   ]
  },
  {
   "cell_type": "code",
   "execution_count": 34,
   "metadata": {},
   "outputs": [
    {
     "data": {
      "text/plain": [
       "array([ 16.,   3., 147.,  43.,  54.,  35., 114.,  29.,  22.,   7.,  26.,\n",
       "        12.,  28.,   4.,  18.,  34.,  40.,  89.,  31.,  32.,  47.,  33.,\n",
       "        36.,  25.,  34.,  34.,  30.,  64.,  35.,  53.,  63.,  16.,   9.,\n",
       "        21.,  16.,  37.,   9.,   9.,  24.,  30.,  30.,  35.,  22.,   5.,\n",
       "        63.,  21.,   8.,  42.,  44.,  15.,  29.,   6.,  12.,  14.,  12.,\n",
       "        33.,  18.,  17.,   5.,   8.,  29.,  26.,  11.,  38.,  21.,  32.,\n",
       "        26.,  54.,  40.,  10.,  84.,  42.,  71.,  31.,   4.,  23., 363.,\n",
       "        25.,  33.,  26.,  13.,  17.,  37.,  20.,   0.,  14.,  12.,  31.,\n",
       "       209.,   7.,  31.,  33.,  65.,  19.,   3.,  72.,  21.,  48.,  50.,\n",
       "        21.,  23.,  38.,  40.,  49.,  28.,  17., 302.,  19.,  69.,   5.,\n",
       "        36.,  59.,  27.,  29.,  17.,  39.,  40.,  28.,  42.,  34.,   2.,\n",
       "        36.,  23.,  26.,  37.,  32.,  41.,  26.,   9.,  35.,  35.,  25.,\n",
       "        17.,  33.,  32.,  15.,   2.,   9.,  29.,  39.,  49.,  39.,  10.,\n",
       "        25.,  10.,   6.,  31.,  39.,  20.,  36.,   5.,   2.,  21.,  32.,\n",
       "        27.,  18.,   8.,  14.,  34.,  43.,  14.,  27.,  22.,  32.,  17.,\n",
       "        36.,   5.,  16.,   1.,   9.,  16.,  12.,  10.,  12.,  24.,  30.,\n",
       "        32.,  10.,  11.,  23.,  65.,   3.,   4.,  21.,  20.,  38.,   4.,\n",
       "         2.,  39.,   2.,  43.,   1.,  24.,   8.,  54.,  21.,  31.,  57.,\n",
       "        22.,  66.,  12.,  37.,  97.,   4.,  38.,  31.,   9.,  31.,  56.,\n",
       "        25.,  15.,  15.,  39.,  31.,  10.,  28.,  36.,  27.,  37.,   9.,\n",
       "         8.,  11.,  28.])"
      ]
     },
     "execution_count": 34,
     "metadata": {},
     "output_type": "execute_result"
    }
   ],
   "source": [
    "np.round((abs(y_test[0]-preds)/y_test[0])*100)"
   ]
  },
  {
   "cell_type": "code",
   "execution_count": 35,
   "metadata": {},
   "outputs": [
    {
     "name": "stdout",
     "output_type": "stream",
     "text": [
      "RMSE: 0.215404\n"
     ]
    }
   ],
   "source": [
    "true_preds = xg_reg.predict(X_true_test[0])\n",
    "rmse = np.sqrt(mean_squared_error(y_true_test[0], true_preds))\n",
    "print(\"RMSE: %f\" % (rmse))"
   ]
  },
  {
   "cell_type": "markdown",
   "metadata": {},
   "source": [
    "# Testing for [12][2]"
   ]
  },
  {
   "cell_type": "code",
   "execution_count": 40,
   "metadata": {},
   "outputs": [],
   "source": [
    "X_ = X_to_train[12]\n",
    "y_ = y_to_train[12]"
   ]
  },
  {
   "cell_type": "code",
   "execution_count": 41,
   "metadata": {},
   "outputs": [],
   "source": [
    "data_dmatrix = xgb.DMatrix(data=X_,label=y_)"
   ]
  },
  {
   "cell_type": "code",
   "execution_count": 42,
   "metadata": {},
   "outputs": [],
   "source": [
    "kf = KFold(n_splits = 5)\n",
    "X_train = []\n",
    "X_test = []\n",
    "y_train = []\n",
    "y_test = []\n",
    "for train_index, test_index in kf.split(X_):\n",
    "    #print(\"TRAIN:\", train_index, \"TEST:\", test_index)\n",
    "    X_train.append(X_.iloc[train_index])\n",
    "    X_test.append(X_.iloc[test_index])\n",
    "    y_train.append(y_[train_index])\n",
    "    y_test.append(y_[test_index])"
   ]
  },
  {
   "cell_type": "code",
   "execution_count": 43,
   "metadata": {},
   "outputs": [],
   "source": [
    "xg_reg = xgb.XGBRegressor(objective ='reg:linear', colsample_bytree = 0.3, learning_rate = 0.1,\n",
    "                max_depth = 5, alpha = 10, n_estimators = 10)"
   ]
  },
  {
   "cell_type": "code",
   "execution_count": 44,
   "metadata": {},
   "outputs": [
    {
     "name": "stdout",
     "output_type": "stream",
     "text": [
      "[23:22:49] WARNING: /workspace/src/objective/regression_obj.cu:167: reg:linear is now deprecated in favor of reg:squarederror.\n"
     ]
    },
    {
     "data": {
      "text/plain": [
       "XGBRegressor(alpha=10, base_score=0.5, booster=None, colsample_bylevel=1,\n",
       "             colsample_bynode=1, colsample_bytree=0.3, gamma=0, gpu_id=-1,\n",
       "             importance_type='gain', interaction_constraints=None,\n",
       "             learning_rate=0.1, max_delta_step=0, max_depth=5,\n",
       "             min_child_weight=1, missing=nan, monotone_constraints=None,\n",
       "             n_estimators=10, n_jobs=0, num_parallel_tree=1,\n",
       "             objective='reg:linear', random_state=0, reg_alpha=10, reg_lambda=1,\n",
       "             scale_pos_weight=1, subsample=1, tree_method=None,\n",
       "             validate_parameters=False, verbosity=None)"
      ]
     },
     "execution_count": 44,
     "metadata": {},
     "output_type": "execute_result"
    }
   ],
   "source": [
    "xg_reg.fit(X_train[2],y_train[2])"
   ]
  },
  {
   "cell_type": "code",
   "execution_count": 45,
   "metadata": {},
   "outputs": [],
   "source": [
    "preds = xg_reg.predict(X_test[2])"
   ]
  },
  {
   "cell_type": "code",
   "execution_count": 46,
   "metadata": {},
   "outputs": [
    {
     "name": "stdout",
     "output_type": "stream",
     "text": [
      "RMSE: 0.219100\n"
     ]
    }
   ],
   "source": [
    "rmse = np.sqrt(mean_squared_error(y_test[2], preds))\n",
    "print(\"RMSE: %f\" % (rmse))"
   ]
  },
  {
   "cell_type": "code",
   "execution_count": 47,
   "metadata": {},
   "outputs": [
    {
     "data": {
      "text/plain": [
       "array([ 38.,  38.,  14.,  16.,  29.,  10.,  40.,   1.,   2.,  37.,  37.,\n",
       "        23.,  40.,  27.,  26., 127.,   3.,  22., 171.,   3.,  28.,  47.,\n",
       "        19.,  17.,  24.,  22.,  40.,  23.,  20.,  24.,  26.,  14.,  34.,\n",
       "        32., 122.,  10.,  57.,  16.,  29.,  25.,  22.,  35.,  20.,  36.,\n",
       "         4.,  20.,  13.,  13.,  17.,  18.,  35.,  18.,   6.,  29.,  31.,\n",
       "        65.,  44.,  30.,  33.,  13.,  35.,  18.,  22.,  29.,  21.,   6.,\n",
       "         4.,  26., 137.,  31.,   8.,  26.,  33.,  38.,  66.,  22.,  34.,\n",
       "        27.,  19., 132.,   1.,   6.,   9.,  38.,  38.,  16.,  37.,   1.,\n",
       "         3.,  34., 104.,  32.,  31.,  11.,  35.,  20.,  39.,   4.,  33.,\n",
       "        35.,  17.,  34.,   6., 312.,  26.,  21.,  22.,  17.,  30.,  18.,\n",
       "        38.,  36.,  77.,   3.,  37.,  26.,   3.,   7.,  16.,   3.,  17.,\n",
       "        24.,  22.,  40.,  41.,  35.,  29.,   3., 132.,  82.,  37.,   9.,\n",
       "        37.,  35.,  11.,  28.,   4.,  40.,  35.,  16.,  54.,  26.,  25.,\n",
       "        57.,   6.,  12.,  38.,  72.,  28.,   7.,  63.,  20.,  22.,   9.,\n",
       "        23.,  71.,  32.,  35.,  29.,  23.,   4.,  65.,  19.,  13.,  12.,\n",
       "        22.,  48.,  36.,  16.,  26.,  34.,  22.,  30.,  29.,   3.,  55.,\n",
       "        31.,   5.,  21.,  47.,  31., 117.,  37.,  32.,   1.,  27.,  11.,\n",
       "        34.,   3.,  52.,  35.,  22.,   3.,   0.,  46.,  46.,   4.,  38.,\n",
       "        31.,  14.,   2.,  40.,  15.,  17.,  34.,  36.,  15.,  37.,  39.,\n",
       "        30.,  17.,  36.,  32.,  27.,  23.,  12.,  12.,  34.,  20.,  34.,\n",
       "        29.,  17.])"
      ]
     },
     "execution_count": 47,
     "metadata": {},
     "output_type": "execute_result"
    }
   ],
   "source": [
    "np.round((abs(y_test[2]-preds)/y_test[2])*100)"
   ]
  },
  {
   "cell_type": "code",
   "execution_count": 48,
   "metadata": {},
   "outputs": [
    {
     "name": "stdout",
     "output_type": "stream",
     "text": [
      "RMSE: 0.217216\n"
     ]
    }
   ],
   "source": [
    "true_preds = xg_reg.predict(X_true_test[12])\n",
    "rmse = np.sqrt(mean_squared_error(y_true_test[12], true_preds))\n",
    "print(\"RMSE: %f\" % (rmse))"
   ]
  },
  {
   "cell_type": "markdown",
   "metadata": {},
   "source": [
    "# K-Folding for [1][1]"
   ]
  },
  {
   "cell_type": "code",
   "execution_count": 65,
   "metadata": {},
   "outputs": [],
   "source": [
    "X_ = X_to_train[1]\n",
    "y_ = y_to_train[1]"
   ]
  },
  {
   "cell_type": "code",
   "execution_count": 66,
   "metadata": {},
   "outputs": [],
   "source": [
    "data_dmatrix = xgb.DMatrix(data=X_,label=y_)"
   ]
  },
  {
   "cell_type": "code",
   "execution_count": 67,
   "metadata": {},
   "outputs": [
    {
     "name": "stdout",
     "output_type": "stream",
     "text": [
      "[23:49:35] WARNING: /workspace/src/objective/regression_obj.cu:167: reg:linear is now deprecated in favor of reg:squarederror.\n",
      "[23:49:35] WARNING: /workspace/src/objective/regression_obj.cu:167: reg:linear is now deprecated in favor of reg:squarederror.\n",
      "[23:49:35] WARNING: /workspace/src/objective/regression_obj.cu:167: reg:linear is now deprecated in favor of reg:squarederror.\n",
      "[23:49:35] WARNING: /workspace/src/objective/regression_obj.cu:167: reg:linear is now deprecated in favor of reg:squarederror.\n",
      "[23:49:35] WARNING: /workspace/src/objective/regression_obj.cu:167: reg:linear is now deprecated in favor of reg:squarederror.\n"
     ]
    }
   ],
   "source": [
    "params = {\"objective\":\"reg:linear\",'colsample_bytree': 0.3,'learning_rate': 0.1,\n",
    "                'max_depth': 5, 'alpha': 10}\n",
    "\n",
    "cv_results = xgb.cv(dtrain=data_dmatrix, params=params, nfold=5,\n",
    "                    num_boost_round=50,early_stopping_rounds=10,metrics=\"rmse\", as_pandas=True, seed=123)\n"
   ]
  },
  {
   "cell_type": "code",
   "execution_count": 68,
   "metadata": {},
   "outputs": [
    {
     "data": {
      "text/html": [
       "<div>\n",
       "<style scoped>\n",
       "    .dataframe tbody tr th:only-of-type {\n",
       "        vertical-align: middle;\n",
       "    }\n",
       "\n",
       "    .dataframe tbody tr th {\n",
       "        vertical-align: top;\n",
       "    }\n",
       "\n",
       "    .dataframe thead th {\n",
       "        text-align: right;\n",
       "    }\n",
       "</style>\n",
       "<table border=\"1\" class=\"dataframe\">\n",
       "  <thead>\n",
       "    <tr style=\"text-align: right;\">\n",
       "      <th></th>\n",
       "      <th>train-rmse-mean</th>\n",
       "      <th>train-rmse-std</th>\n",
       "      <th>test-rmse-mean</th>\n",
       "      <th>test-rmse-std</th>\n",
       "    </tr>\n",
       "  </thead>\n",
       "  <tbody>\n",
       "    <tr>\n",
       "      <th>0</th>\n",
       "      <td>0.264986</td>\n",
       "      <td>0.001103</td>\n",
       "      <td>0.265426</td>\n",
       "      <td>0.004687</td>\n",
       "    </tr>\n",
       "    <tr>\n",
       "      <th>1</th>\n",
       "      <td>0.254045</td>\n",
       "      <td>0.001097</td>\n",
       "      <td>0.254996</td>\n",
       "      <td>0.004659</td>\n",
       "    </tr>\n",
       "    <tr>\n",
       "      <th>2</th>\n",
       "      <td>0.244794</td>\n",
       "      <td>0.000789</td>\n",
       "      <td>0.246266</td>\n",
       "      <td>0.004995</td>\n",
       "    </tr>\n",
       "    <tr>\n",
       "      <th>3</th>\n",
       "      <td>0.236616</td>\n",
       "      <td>0.001094</td>\n",
       "      <td>0.238575</td>\n",
       "      <td>0.004905</td>\n",
       "    </tr>\n",
       "    <tr>\n",
       "      <th>...</th>\n",
       "      <td>...</td>\n",
       "      <td>...</td>\n",
       "      <td>...</td>\n",
       "      <td>...</td>\n",
       "    </tr>\n",
       "    <tr>\n",
       "      <th>46</th>\n",
       "      <td>0.178416</td>\n",
       "      <td>0.002130</td>\n",
       "      <td>0.189780</td>\n",
       "      <td>0.005936</td>\n",
       "    </tr>\n",
       "    <tr>\n",
       "      <th>47</th>\n",
       "      <td>0.178320</td>\n",
       "      <td>0.002110</td>\n",
       "      <td>0.189733</td>\n",
       "      <td>0.005970</td>\n",
       "    </tr>\n",
       "    <tr>\n",
       "      <th>48</th>\n",
       "      <td>0.178320</td>\n",
       "      <td>0.002110</td>\n",
       "      <td>0.189733</td>\n",
       "      <td>0.005970</td>\n",
       "    </tr>\n",
       "    <tr>\n",
       "      <th>49</th>\n",
       "      <td>0.178320</td>\n",
       "      <td>0.002110</td>\n",
       "      <td>0.189733</td>\n",
       "      <td>0.005970</td>\n",
       "    </tr>\n",
       "  </tbody>\n",
       "</table>\n",
       "<p>50 rows × 4 columns</p>\n",
       "</div>"
      ],
      "text/plain": [
       "    train-rmse-mean  train-rmse-std  test-rmse-mean  test-rmse-std\n",
       "0          0.264986        0.001103        0.265426       0.004687\n",
       "1          0.254045        0.001097        0.254996       0.004659\n",
       "2          0.244794        0.000789        0.246266       0.004995\n",
       "3          0.236616        0.001094        0.238575       0.004905\n",
       "..              ...             ...             ...            ...\n",
       "46         0.178416        0.002130        0.189780       0.005936\n",
       "47         0.178320        0.002110        0.189733       0.005970\n",
       "48         0.178320        0.002110        0.189733       0.005970\n",
       "49         0.178320        0.002110        0.189733       0.005970\n",
       "\n",
       "[50 rows x 4 columns]"
      ]
     },
     "execution_count": 68,
     "metadata": {},
     "output_type": "execute_result"
    }
   ],
   "source": [
    "cv_results"
   ]
  },
  {
   "cell_type": "code",
   "execution_count": 69,
   "metadata": {},
   "outputs": [
    {
     "name": "stdout",
     "output_type": "stream",
     "text": [
      "49    0.189733\n",
      "Name: test-rmse-mean, dtype: float64\n"
     ]
    }
   ],
   "source": [
    "print((cv_results[\"test-rmse-mean\"]).tail(1))"
   ]
  },
  {
   "cell_type": "code",
   "execution_count": null,
   "metadata": {},
   "outputs": [],
   "source": []
  },
  {
   "cell_type": "code",
   "execution_count": null,
   "metadata": {},
   "outputs": [],
   "source": []
  },
  {
   "cell_type": "code",
   "execution_count": null,
   "metadata": {},
   "outputs": [],
   "source": []
  },
  {
   "cell_type": "code",
   "execution_count": null,
   "metadata": {},
   "outputs": [],
   "source": []
  }
 ],
 "metadata": {
  "kernelspec": {
   "display_name": "Python 3",
   "language": "python",
   "name": "python3"
  },
  "language_info": {
   "codemirror_mode": {
    "name": "ipython",
    "version": 3
   },
   "file_extension": ".py",
   "mimetype": "text/x-python",
   "name": "python",
   "nbconvert_exporter": "python",
   "pygments_lexer": "ipython3",
   "version": "3.7.3"
  }
 },
 "nbformat": 4,
 "nbformat_minor": 2
}
