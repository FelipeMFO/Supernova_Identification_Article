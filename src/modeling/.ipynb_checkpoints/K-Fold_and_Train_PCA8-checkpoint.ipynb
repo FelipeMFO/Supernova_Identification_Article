{
 "cells": [
  {
   "cell_type": "code",
   "execution_count": 7,
   "metadata": {},
   "outputs": [],
   "source": [
    "%run ../functions.ipynb"
   ]
  },
  {
   "cell_type": "code",
   "execution_count": 8,
   "metadata": {},
   "outputs": [],
   "source": [
    "%run ../pycodes/wavelets_pca_with_zhost_1100_average_precision.py"
   ]
  },
  {
   "cell_type": "code",
   "execution_count": 9,
   "metadata": {},
   "outputs": [],
   "source": [
    "%run ../pycodes/wavelets_pca_with_zhost_1100_roc_auc.py"
   ]
  },
  {
   "cell_type": "code",
   "execution_count": 10,
   "metadata": {},
   "outputs": [],
   "source": [
    "%matplotlib inline"
   ]
  },
  {
   "cell_type": "code",
   "execution_count": 11,
   "metadata": {},
   "outputs": [],
   "source": [
    "from sklearn.metrics import confusion_matrix\n",
    "from sklearn.model_selection import KFold\n",
    "from sklearn import model_selection\n",
    "from sklearn.model_selection import cross_val_score, StratifiedKFold\n",
    "import matplotlib.pyplot as plt"
   ]
  },
  {
   "cell_type": "markdown",
   "metadata": {},
   "source": [
    "### Concatenation of feature DF and label DF"
   ]
  },
  {
   "cell_type": "code",
   "execution_count": 12,
   "metadata": {},
   "outputs": [],
   "source": [
    "#df_feat = pd.read_pickle(\"../../data/processed/df_GP_wav_PCA8.pkl\")\n",
    "#df_label = pd.read_pickle(\"../../data/processed/df_labels.pkl\")"
   ]
  },
  {
   "cell_type": "code",
   "execution_count": 13,
   "metadata": {
    "scrolled": true
   },
   "outputs": [],
   "source": [
    "#df_feat"
   ]
  },
  {
   "cell_type": "code",
   "execution_count": 14,
   "metadata": {
    "scrolled": true
   },
   "outputs": [],
   "source": [
    "#df_label"
   ]
  },
  {
   "cell_type": "code",
   "execution_count": 15,
   "metadata": {
    "scrolled": true
   },
   "outputs": [],
   "source": [
    "def rewriting_ID(ID):\n",
    "    if len(ID) < 8:\n",
    "        hash = ID\n",
    "        return hash[:hash.find('N') + 1] + '0'*(8-len(hash)) + hash[hash.find('N')+1:]\n",
    "    else:\n",
    "        return ID"
   ]
  },
  {
   "cell_type": "code",
   "execution_count": 16,
   "metadata": {
    "scrolled": true
   },
   "outputs": [],
   "source": [
    "#df = pd.concat([df_feat,df_label['type'],df_label['type_bool']], axis = 1)\n",
    "#df['ID'] = df['ID'].apply(rewriting_ID)\n",
    "#df = df.sort_values('ID')\n",
    "#df = df.set_index('ID')\n",
    "#df\n",
    "##df.to_pickle('./df_8features.pkl')"
   ]
  },
  {
   "cell_type": "markdown",
   "metadata": {},
   "source": [
    "## K-Fold division"
   ]
  },
  {
   "cell_type": "code",
   "execution_count": 29,
   "metadata": {},
   "outputs": [],
   "source": [
    "df = pd.read_pickle(\"../../data/processed/df_8features.pkl\")"
   ]
  },
  {
   "cell_type": "code",
   "execution_count": 30,
   "metadata": {
    "scrolled": true
   },
   "outputs": [
    {
     "data": {
      "text/html": [
       "<div>\n",
       "<style scoped>\n",
       "    .dataframe tbody tr th:only-of-type {\n",
       "        vertical-align: middle;\n",
       "    }\n",
       "\n",
       "    .dataframe tbody tr th {\n",
       "        vertical-align: top;\n",
       "    }\n",
       "\n",
       "    .dataframe thead th {\n",
       "        text-align: right;\n",
       "    }\n",
       "</style>\n",
       "<table border=\"1\" class=\"dataframe\">\n",
       "  <thead>\n",
       "    <tr style=\"text-align: right;\">\n",
       "      <th></th>\n",
       "      <th>desg</th>\n",
       "      <th>desi</th>\n",
       "      <th>desr</th>\n",
       "      <th>desz</th>\n",
       "      <th>Xaxis</th>\n",
       "      <th>desg_GP</th>\n",
       "      <th>desi_GP</th>\n",
       "      <th>desr_GP</th>\n",
       "      <th>desz_GP</th>\n",
       "      <th>wavelets</th>\n",
       "      <th>f1</th>\n",
       "      <th>f2</th>\n",
       "      <th>f3</th>\n",
       "      <th>f4</th>\n",
       "      <th>f5</th>\n",
       "      <th>f6</th>\n",
       "      <th>f7</th>\n",
       "      <th>f8</th>\n",
       "      <th>type</th>\n",
       "      <th>type_bool</th>\n",
       "    </tr>\n",
       "    <tr>\n",
       "      <th>ID</th>\n",
       "      <th></th>\n",
       "      <th></th>\n",
       "      <th></th>\n",
       "      <th></th>\n",
       "      <th></th>\n",
       "      <th></th>\n",
       "      <th></th>\n",
       "      <th></th>\n",
       "      <th></th>\n",
       "      <th></th>\n",
       "      <th></th>\n",
       "      <th></th>\n",
       "      <th></th>\n",
       "      <th></th>\n",
       "      <th></th>\n",
       "      <th></th>\n",
       "      <th></th>\n",
       "      <th></th>\n",
       "      <th></th>\n",
       "      <th></th>\n",
       "    </tr>\n",
       "  </thead>\n",
       "  <tbody>\n",
       "    <tr>\n",
       "      <th>SN000017</th>\n",
       "      <td>[[6.984000000004016, 6.122, 6.377], [7.9920000...</td>\n",
       "      <td>[[0.012000000002444722, 0.6447, 49.95], [7.008...</td>\n",
       "      <td>[[0.0, 4.41, 17.58], [8.00800000000163, 1.002,...</td>\n",
       "      <td>[[4.121000000006461, 1.337, 3.581], [7.0230000...</td>\n",
       "      <td>[0.0, 1.3437474747475018, 2.6874949494950036, ...</td>\n",
       "      <td>([2.1790669622347325, 2.508001685841991, 2.869...</td>\n",
       "      <td>([10.397060897840504, 10.577637884754534, 10.7...</td>\n",
       "      <td>([1.5588534229682, 1.5163625398617389, 1.45121...</td>\n",
       "      <td>([2.4493108381108755, 2.6225647004586676, 2.75...</td>\n",
       "      <td>[2.5170703344071526, 3.609106466610777, 4.6966...</td>\n",
       "      <td>-139.004182</td>\n",
       "      <td>-245.712954</td>\n",
       "      <td>-0.486379</td>\n",
       "      <td>-44.016364</td>\n",
       "      <td>-277.996653</td>\n",
       "      <td>-53.185819</td>\n",
       "      <td>33.970503</td>\n",
       "      <td>-20.720628</td>\n",
       "      <td>II</td>\n",
       "      <td>False</td>\n",
       "    </tr>\n",
       "    <tr>\n",
       "      <th>SN000019</th>\n",
       "      <td>[[0.0, 1.325, 5.225], [1.0120000000024447, 10....</td>\n",
       "      <td>[[10.023000000001048, 1.944, 4.071], [23.06599...</td>\n",
       "      <td>[[0.012000000002444722, 2.468, 3.577], [23.050...</td>\n",
       "      <td>[[9.00800000000163, 6.876, 4.915], [14.0159999...</td>\n",
       "      <td>[0.0, 0.9801111111111381, 1.9602222222222763, ...</td>\n",
       "      <td>([2.219675101833163, 2.219675198412055, 2.2196...</td>\n",
       "      <td>([-0.19220466685970194, -0.0681479629423194, 0...</td>\n",
       "      <td>([1.861237782410762, 1.7895540003134789, 1.726...</td>\n",
       "      <td>([3.654910834866328, 3.8235492654180803, 3.993...</td>\n",
       "      <td>[4.43934546360616, 4.439347606905569, 4.439349...</td>\n",
       "      <td>-328.874906</td>\n",
       "      <td>-58.109820</td>\n",
       "      <td>-129.086999</td>\n",
       "      <td>13.290787</td>\n",
       "      <td>-13.970117</td>\n",
       "      <td>23.816022</td>\n",
       "      <td>82.538276</td>\n",
       "      <td>66.602241</td>\n",
       "      <td>II</td>\n",
       "      <td>False</td>\n",
       "    </tr>\n",
       "    <tr>\n",
       "      <th>SN000126</th>\n",
       "      <td>[[0.0, 0.5652, 2.636], [23.91399999999703, 0.5...</td>\n",
       "      <td>[[7.932999999997264, 1.535, 4.162], [36.811999...</td>\n",
       "      <td>[[15.930000000000291, 1.963, 3.215], [27.02300...</td>\n",
       "      <td>[[7.956999999994878, 0.1151, 2.711], [15.97599...</td>\n",
       "      <td>[0.0, 1.584242424242389, 3.168484848484778, 4....</td>\n",
       "      <td>([0.35689014312282547, 0.36868698625858665, 0....</td>\n",
       "      <td>([0.34290692312134574, 0.39300951014427277, 0....</td>\n",
       "      <td>([0.11936109021103114, 0.23793544213573692, 0....</td>\n",
       "      <td>([-0.6661782956213349, -0.5705737568129523, -0...</td>\n",
       "      <td>[2.6824500442573638, 1.7791579281136436, 1.110...</td>\n",
       "      <td>-594.934379</td>\n",
       "      <td>193.767283</td>\n",
       "      <td>10.190425</td>\n",
       "      <td>41.050064</td>\n",
       "      <td>-26.949874</td>\n",
       "      <td>52.158346</td>\n",
       "      <td>65.604091</td>\n",
       "      <td>69.452237</td>\n",
       "      <td>II</td>\n",
       "      <td>False</td>\n",
       "    </tr>\n",
       "    <tr>\n",
       "      <th>SN000172</th>\n",
       "      <td>[[0.0, 8.814, 4.79], [2.0, 9.327, 2.25], [9.98...</td>\n",
       "      <td>[[0.031000000002677552, 3.05, 5.436], [2.15600...</td>\n",
       "      <td>[[10.0, 1.734, 1.254], [11.988000000004831, 12...</td>\n",
       "      <td>[[10.039000000004307, 12.9, 2.19], [12.0310000...</td>\n",
       "      <td>[0.0, 1.2923333333333222, 2.5846666666666445, ...</td>\n",
       "      <td>([6.562159405329549, 9.1252195867519, 11.89292...</td>\n",
       "      <td>([2.6439974671168613, 3.295315393791398, 3.956...</td>\n",
       "      <td>([-12.447889370713835, -12.656461305309037, -1...</td>\n",
       "      <td>([10.889899390805923, 11.500413415470769, 12.1...</td>\n",
       "      <td>[6.47820341295315, 11.499857208884713, 17.4609...</td>\n",
       "      <td>-198.188141</td>\n",
       "      <td>297.661354</td>\n",
       "      <td>8.348242</td>\n",
       "      <td>-50.489004</td>\n",
       "      <td>36.308595</td>\n",
       "      <td>-37.862308</td>\n",
       "      <td>34.292887</td>\n",
       "      <td>33.595808</td>\n",
       "      <td>II</td>\n",
       "      <td>False</td>\n",
       "    </tr>\n",
       "    <tr>\n",
       "      <th>...</th>\n",
       "      <td>...</td>\n",
       "      <td>...</td>\n",
       "      <td>...</td>\n",
       "      <td>...</td>\n",
       "      <td>...</td>\n",
       "      <td>...</td>\n",
       "      <td>...</td>\n",
       "      <td>...</td>\n",
       "      <td>...</td>\n",
       "      <td>...</td>\n",
       "      <td>...</td>\n",
       "      <td>...</td>\n",
       "      <td>...</td>\n",
       "      <td>...</td>\n",
       "      <td>...</td>\n",
       "      <td>...</td>\n",
       "      <td>...</td>\n",
       "      <td>...</td>\n",
       "      <td>...</td>\n",
       "      <td>...</td>\n",
       "    </tr>\n",
       "    <tr>\n",
       "      <th>SN899766</th>\n",
       "      <td>[[6.984000000004016, 2.619, 6.376], [21.973000...</td>\n",
       "      <td>[[0.012000000002444722, 48.86, 49.95], [8.0230...</td>\n",
       "      <td>[[0.0, 19.65, 17.59], [6.992000000005646, 5.34...</td>\n",
       "      <td>[[4.121000000006461, 1.07, 3.581], [7.02300000...</td>\n",
       "      <td>[0.0, 1.474707070707136, 2.949414141414272, 4....</td>\n",
       "      <td>([3.1774853444736557, 3.1774855699966595, 3.17...</td>\n",
       "      <td>([6.273860823260804, 6.090278522008031, 5.9044...</td>\n",
       "      <td>([8.309936227222874, 8.154384056314196, 7.9766...</td>\n",
       "      <td>([1.0347047221511048, 1.209742608349444, 1.388...</td>\n",
       "      <td>[6.3549756079875195, 6.354973557479621, 6.3549...</td>\n",
       "      <td>-348.293582</td>\n",
       "      <td>-7.080181</td>\n",
       "      <td>-120.778176</td>\n",
       "      <td>19.656674</td>\n",
       "      <td>-54.207545</td>\n",
       "      <td>-9.963284</td>\n",
       "      <td>50.659879</td>\n",
       "      <td>48.574221</td>\n",
       "      <td>II</td>\n",
       "      <td>False</td>\n",
       "    </tr>\n",
       "    <tr>\n",
       "      <th>SN899772</th>\n",
       "      <td>[[0.0, 8.811, 25.57], [5.875, 1.341, 4.764], [...</td>\n",
       "      <td>[[0.8550000000032014, 10.26, 30.95], [21.81600...</td>\n",
       "      <td>[[0.015000000006693881, 7.061, 4.154], [32.820...</td>\n",
       "      <td>[[19.851000000002387, 3.151, 4.938], [27.85100...</td>\n",
       "      <td>[0.0, 1.6130000000000542, 3.2260000000001083, ...</td>\n",
       "      <td>([3.375523849152177, 2.9073715158475206, 2.313...</td>\n",
       "      <td>([5.9244796371948585, 5.563986512566748, 5.176...</td>\n",
       "      <td>([6.3162013263673575, 5.386246481590906, 4.336...</td>\n",
       "      <td>([11.990492759478087, 11.552298169626269, 11.0...</td>\n",
       "      <td>[3.341657653722518, 4.5430537588317765, 5.0680...</td>\n",
       "      <td>70.738988</td>\n",
       "      <td>-89.253724</td>\n",
       "      <td>423.617313</td>\n",
       "      <td>-125.881039</td>\n",
       "      <td>-45.500389</td>\n",
       "      <td>-86.964008</td>\n",
       "      <td>44.531456</td>\n",
       "      <td>-31.429678</td>\n",
       "      <td>II</td>\n",
       "      <td>False</td>\n",
       "    </tr>\n",
       "    <tr>\n",
       "      <th>SN899777</th>\n",
       "      <td>[[0.0, 3.066, 3.91], [0.8009999999994761, 15.1...</td>\n",
       "      <td>[[13.788999999997031, 3.201, 4.192], [14.80099...</td>\n",
       "      <td>[[0.008000000001629815, 2.275, 5.58], [0.81699...</td>\n",
       "      <td>[[0.8600000000005821, 11.96, 5.06], [6.8359999...</td>\n",
       "      <td>[0.0, 1.311363636363607, 2.622727272727214, 3....</td>\n",
       "      <td>([1.035409786279157, 1.0654355765245267, 1.097...</td>\n",
       "      <td>([5.5105922415789195, 5.384141464291133, 5.253...</td>\n",
       "      <td>([2.4760379841089275, 2.5448649370640624, 2.58...</td>\n",
       "      <td>([3.0547576395107967, 3.133081740221371, 3.217...</td>\n",
       "      <td>[4.908064260185052, 3.6456116683397255, 2.6941...</td>\n",
       "      <td>-217.906192</td>\n",
       "      <td>-156.826727</td>\n",
       "      <td>-116.545557</td>\n",
       "      <td>-55.843215</td>\n",
       "      <td>-64.434477</td>\n",
       "      <td>-58.298607</td>\n",
       "      <td>100.000401</td>\n",
       "      <td>40.954966</td>\n",
       "      <td>II</td>\n",
       "      <td>False</td>\n",
       "    </tr>\n",
       "    <tr>\n",
       "      <th>SN899894</th>\n",
       "      <td>[[4.946000000003551, 0.4706, 2.636], [12.84800...</td>\n",
       "      <td>[[20.89100000000326, 3.519, 3.209], [28.899000...</td>\n",
       "      <td>[[12.864000000001397, 0.06272, 2.322], [28.879...</td>\n",
       "      <td>[[0.0, 0.5017, 2.964], [12.902999999998428, 1....</td>\n",
       "      <td>[0.0, 1.6342020202020209, 3.2684040404040418, ...</td>\n",
       "      <td>([0.5826453395648821, 0.6122115256870917, 0.64...</td>\n",
       "      <td>([-2.1020468565115067, -1.8163280187884538, -1...</td>\n",
       "      <td>([5.22669702405458, 5.045645124683354, 4.66633...</td>\n",
       "      <td>([-0.8891914351648893, -0.6117691393582163, -0...</td>\n",
       "      <td>[3.080265355416106, 2.2195112229080918, 1.5941...</td>\n",
       "      <td>-239.889216</td>\n",
       "      <td>-128.527081</td>\n",
       "      <td>-34.839944</td>\n",
       "      <td>-48.386791</td>\n",
       "      <td>-51.005583</td>\n",
       "      <td>-49.270678</td>\n",
       "      <td>88.179925</td>\n",
       "      <td>17.939276</td>\n",
       "      <td>II</td>\n",
       "      <td>False</td>\n",
       "    </tr>\n",
       "  </tbody>\n",
       "</table>\n",
       "<p>21317 rows × 20 columns</p>\n",
       "</div>"
      ],
      "text/plain": [
       "                                                       desg  \\\n",
       "ID                                                            \n",
       "SN000017  [[6.984000000004016, 6.122, 6.377], [7.9920000...   \n",
       "SN000019  [[0.0, 1.325, 5.225], [1.0120000000024447, 10....   \n",
       "SN000126  [[0.0, 0.5652, 2.636], [23.91399999999703, 0.5...   \n",
       "SN000172  [[0.0, 8.814, 4.79], [2.0, 9.327, 2.25], [9.98...   \n",
       "...                                                     ...   \n",
       "SN899766  [[6.984000000004016, 2.619, 6.376], [21.973000...   \n",
       "SN899772  [[0.0, 8.811, 25.57], [5.875, 1.341, 4.764], [...   \n",
       "SN899777  [[0.0, 3.066, 3.91], [0.8009999999994761, 15.1...   \n",
       "SN899894  [[4.946000000003551, 0.4706, 2.636], [12.84800...   \n",
       "\n",
       "                                                       desi  \\\n",
       "ID                                                            \n",
       "SN000017  [[0.012000000002444722, 0.6447, 49.95], [7.008...   \n",
       "SN000019  [[10.023000000001048, 1.944, 4.071], [23.06599...   \n",
       "SN000126  [[7.932999999997264, 1.535, 4.162], [36.811999...   \n",
       "SN000172  [[0.031000000002677552, 3.05, 5.436], [2.15600...   \n",
       "...                                                     ...   \n",
       "SN899766  [[0.012000000002444722, 48.86, 49.95], [8.0230...   \n",
       "SN899772  [[0.8550000000032014, 10.26, 30.95], [21.81600...   \n",
       "SN899777  [[13.788999999997031, 3.201, 4.192], [14.80099...   \n",
       "SN899894  [[20.89100000000326, 3.519, 3.209], [28.899000...   \n",
       "\n",
       "                                                       desr  \\\n",
       "ID                                                            \n",
       "SN000017  [[0.0, 4.41, 17.58], [8.00800000000163, 1.002,...   \n",
       "SN000019  [[0.012000000002444722, 2.468, 3.577], [23.050...   \n",
       "SN000126  [[15.930000000000291, 1.963, 3.215], [27.02300...   \n",
       "SN000172  [[10.0, 1.734, 1.254], [11.988000000004831, 12...   \n",
       "...                                                     ...   \n",
       "SN899766  [[0.0, 19.65, 17.59], [6.992000000005646, 5.34...   \n",
       "SN899772  [[0.015000000006693881, 7.061, 4.154], [32.820...   \n",
       "SN899777  [[0.008000000001629815, 2.275, 5.58], [0.81699...   \n",
       "SN899894  [[12.864000000001397, 0.06272, 2.322], [28.879...   \n",
       "\n",
       "                                                       desz  \\\n",
       "ID                                                            \n",
       "SN000017  [[4.121000000006461, 1.337, 3.581], [7.0230000...   \n",
       "SN000019  [[9.00800000000163, 6.876, 4.915], [14.0159999...   \n",
       "SN000126  [[7.956999999994878, 0.1151, 2.711], [15.97599...   \n",
       "SN000172  [[10.039000000004307, 12.9, 2.19], [12.0310000...   \n",
       "...                                                     ...   \n",
       "SN899766  [[4.121000000006461, 1.07, 3.581], [7.02300000...   \n",
       "SN899772  [[19.851000000002387, 3.151, 4.938], [27.85100...   \n",
       "SN899777  [[0.8600000000005821, 11.96, 5.06], [6.8359999...   \n",
       "SN899894  [[0.0, 0.5017, 2.964], [12.902999999998428, 1....   \n",
       "\n",
       "                                                      Xaxis  \\\n",
       "ID                                                            \n",
       "SN000017  [0.0, 1.3437474747475018, 2.6874949494950036, ...   \n",
       "SN000019  [0.0, 0.9801111111111381, 1.9602222222222763, ...   \n",
       "SN000126  [0.0, 1.584242424242389, 3.168484848484778, 4....   \n",
       "SN000172  [0.0, 1.2923333333333222, 2.5846666666666445, ...   \n",
       "...                                                     ...   \n",
       "SN899766  [0.0, 1.474707070707136, 2.949414141414272, 4....   \n",
       "SN899772  [0.0, 1.6130000000000542, 3.2260000000001083, ...   \n",
       "SN899777  [0.0, 1.311363636363607, 2.622727272727214, 3....   \n",
       "SN899894  [0.0, 1.6342020202020209, 3.2684040404040418, ...   \n",
       "\n",
       "                                                    desg_GP  \\\n",
       "ID                                                            \n",
       "SN000017  ([2.1790669622347325, 2.508001685841991, 2.869...   \n",
       "SN000019  ([2.219675101833163, 2.219675198412055, 2.2196...   \n",
       "SN000126  ([0.35689014312282547, 0.36868698625858665, 0....   \n",
       "SN000172  ([6.562159405329549, 9.1252195867519, 11.89292...   \n",
       "...                                                     ...   \n",
       "SN899766  ([3.1774853444736557, 3.1774855699966595, 3.17...   \n",
       "SN899772  ([3.375523849152177, 2.9073715158475206, 2.313...   \n",
       "SN899777  ([1.035409786279157, 1.0654355765245267, 1.097...   \n",
       "SN899894  ([0.5826453395648821, 0.6122115256870917, 0.64...   \n",
       "\n",
       "                                                    desi_GP  \\\n",
       "ID                                                            \n",
       "SN000017  ([10.397060897840504, 10.577637884754534, 10.7...   \n",
       "SN000019  ([-0.19220466685970194, -0.0681479629423194, 0...   \n",
       "SN000126  ([0.34290692312134574, 0.39300951014427277, 0....   \n",
       "SN000172  ([2.6439974671168613, 3.295315393791398, 3.956...   \n",
       "...                                                     ...   \n",
       "SN899766  ([6.273860823260804, 6.090278522008031, 5.9044...   \n",
       "SN899772  ([5.9244796371948585, 5.563986512566748, 5.176...   \n",
       "SN899777  ([5.5105922415789195, 5.384141464291133, 5.253...   \n",
       "SN899894  ([-2.1020468565115067, -1.8163280187884538, -1...   \n",
       "\n",
       "                                                    desr_GP  \\\n",
       "ID                                                            \n",
       "SN000017  ([1.5588534229682, 1.5163625398617389, 1.45121...   \n",
       "SN000019  ([1.861237782410762, 1.7895540003134789, 1.726...   \n",
       "SN000126  ([0.11936109021103114, 0.23793544213573692, 0....   \n",
       "SN000172  ([-12.447889370713835, -12.656461305309037, -1...   \n",
       "...                                                     ...   \n",
       "SN899766  ([8.309936227222874, 8.154384056314196, 7.9766...   \n",
       "SN899772  ([6.3162013263673575, 5.386246481590906, 4.336...   \n",
       "SN899777  ([2.4760379841089275, 2.5448649370640624, 2.58...   \n",
       "SN899894  ([5.22669702405458, 5.045645124683354, 4.66633...   \n",
       "\n",
       "                                                    desz_GP  \\\n",
       "ID                                                            \n",
       "SN000017  ([2.4493108381108755, 2.6225647004586676, 2.75...   \n",
       "SN000019  ([3.654910834866328, 3.8235492654180803, 3.993...   \n",
       "SN000126  ([-0.6661782956213349, -0.5705737568129523, -0...   \n",
       "SN000172  ([10.889899390805923, 11.500413415470769, 12.1...   \n",
       "...                                                     ...   \n",
       "SN899766  ([1.0347047221511048, 1.209742608349444, 1.388...   \n",
       "SN899772  ([11.990492759478087, 11.552298169626269, 11.0...   \n",
       "SN899777  ([3.0547576395107967, 3.133081740221371, 3.217...   \n",
       "SN899894  ([-0.8891914351648893, -0.6117691393582163, -0...   \n",
       "\n",
       "                                                   wavelets          f1  \\\n",
       "ID                                                                        \n",
       "SN000017  [2.5170703344071526, 3.609106466610777, 4.6966... -139.004182   \n",
       "SN000019  [4.43934546360616, 4.439347606905569, 4.439349... -328.874906   \n",
       "SN000126  [2.6824500442573638, 1.7791579281136436, 1.110... -594.934379   \n",
       "SN000172  [6.47820341295315, 11.499857208884713, 17.4609... -198.188141   \n",
       "...                                                     ...         ...   \n",
       "SN899766  [6.3549756079875195, 6.354973557479621, 6.3549... -348.293582   \n",
       "SN899772  [3.341657653722518, 4.5430537588317765, 5.0680...   70.738988   \n",
       "SN899777  [4.908064260185052, 3.6456116683397255, 2.6941... -217.906192   \n",
       "SN899894  [3.080265355416106, 2.2195112229080918, 1.5941... -239.889216   \n",
       "\n",
       "                  f2          f3          f4          f5         f6  \\\n",
       "ID                                                                    \n",
       "SN000017 -245.712954   -0.486379  -44.016364 -277.996653 -53.185819   \n",
       "SN000019  -58.109820 -129.086999   13.290787  -13.970117  23.816022   \n",
       "SN000126  193.767283   10.190425   41.050064  -26.949874  52.158346   \n",
       "SN000172  297.661354    8.348242  -50.489004   36.308595 -37.862308   \n",
       "...              ...         ...         ...         ...        ...   \n",
       "SN899766   -7.080181 -120.778176   19.656674  -54.207545  -9.963284   \n",
       "SN899772  -89.253724  423.617313 -125.881039  -45.500389 -86.964008   \n",
       "SN899777 -156.826727 -116.545557  -55.843215  -64.434477 -58.298607   \n",
       "SN899894 -128.527081  -34.839944  -48.386791  -51.005583 -49.270678   \n",
       "\n",
       "                  f7         f8 type  type_bool  \n",
       "ID                                               \n",
       "SN000017   33.970503 -20.720628   II      False  \n",
       "SN000019   82.538276  66.602241   II      False  \n",
       "SN000126   65.604091  69.452237   II      False  \n",
       "SN000172   34.292887  33.595808   II      False  \n",
       "...              ...        ...  ...        ...  \n",
       "SN899766   50.659879  48.574221   II      False  \n",
       "SN899772   44.531456 -31.429678   II      False  \n",
       "SN899777  100.000401  40.954966   II      False  \n",
       "SN899894   88.179925  17.939276   II      False  \n",
       "\n",
       "[21317 rows x 20 columns]"
      ]
     },
     "execution_count": 30,
     "metadata": {},
     "output_type": "execute_result"
    }
   ],
   "source": [
    "df"
   ]
  },
  {
   "cell_type": "code",
   "execution_count": 31,
   "metadata": {},
   "outputs": [],
   "source": [
    "splits = 5"
   ]
  },
  {
   "cell_type": "code",
   "execution_count": 32,
   "metadata": {},
   "outputs": [
    {
     "name": "stdout",
     "output_type": "stream",
     "text": [
      "TRAIN: [ 4264  4265  4266 ... 21314 21315 21316] TEST: [   0    1    2 ... 4261 4262 4263]\n",
      "TRAIN: [    0     1     2 ... 21314 21315 21316] TEST: [4264 4265 4266 ... 8525 8526 8527]\n",
      "TRAIN: [    0     1     2 ... 21314 21315 21316] TEST: [ 8528  8529  8530 ... 12788 12789 12790]\n",
      "TRAIN: [    0     1     2 ... 21314 21315 21316] TEST: [12791 12792 12793 ... 17051 17052 17053]\n",
      "TRAIN: [    0     1     2 ... 17051 17052 17053] TEST: [17054 17055 17056 ... 21314 21315 21316]\n"
     ]
    }
   ],
   "source": [
    "X = df.loc[:,'f1':'f8']\n",
    "y = np.array(df.type_bool)\n",
    "\n",
    "kf = KFold(n_splits = splits)\n",
    "X_train = []\n",
    "X_test = []\n",
    "y_train = []\n",
    "y_test = []\n",
    "for train_index, test_index in kf.split(X):\n",
    "    print(\"TRAIN:\", train_index, \"TEST:\", test_index)\n",
    "    X_train.append(X.iloc[train_index])\n",
    "    X_test.append(X.iloc[test_index])\n",
    "    y_train.append(y[train_index])\n",
    "    y_test.append(y[test_index])"
   ]
  },
  {
   "cell_type": "code",
   "execution_count": 33,
   "metadata": {},
   "outputs": [],
   "source": [
    "splits = 19"
   ]
  },
  {
   "cell_type": "code",
   "execution_count": 34,
   "metadata": {
    "scrolled": true
   },
   "outputs": [
    {
     "name": "stdout",
     "output_type": "stream",
     "text": [
      "TRAIN: [ 1122  1123  1124 ... 21314 21315 21316] TEST: [   0    1    2 ... 1119 1120 1121]\n",
      "TRAIN: [    0     1     2 ... 21314 21315 21316] TEST: [1122 1123 1124 ... 2241 2242 2243]\n",
      "TRAIN: [    0     1     2 ... 21314 21315 21316] TEST: [2244 2245 2246 ... 3363 3364 3365]\n",
      "TRAIN: [    0     1     2 ... 21314 21315 21316] TEST: [3366 3367 3368 ... 4485 4486 4487]\n",
      "TRAIN: [    0     1     2 ... 21314 21315 21316] TEST: [4488 4489 4490 ... 5607 5608 5609]\n",
      "TRAIN: [    0     1     2 ... 21314 21315 21316] TEST: [5610 5611 5612 ... 6729 6730 6731]\n",
      "TRAIN: [    0     1     2 ... 21314 21315 21316] TEST: [6732 6733 6734 ... 7851 7852 7853]\n",
      "TRAIN: [    0     1     2 ... 21314 21315 21316] TEST: [7854 7855 7856 ... 8973 8974 8975]\n",
      "TRAIN: [    0     1     2 ... 21314 21315 21316] TEST: [ 8976  8977  8978 ... 10095 10096 10097]\n",
      "TRAIN: [    0     1     2 ... 21314 21315 21316] TEST: [10098 10099 10100 ... 11217 11218 11219]\n",
      "TRAIN: [    0     1     2 ... 21314 21315 21316] TEST: [11220 11221 11222 ... 12339 12340 12341]\n",
      "TRAIN: [    0     1     2 ... 21314 21315 21316] TEST: [12342 12343 12344 ... 13461 13462 13463]\n",
      "TRAIN: [    0     1     2 ... 21314 21315 21316] TEST: [13464 13465 13466 ... 14583 14584 14585]\n",
      "TRAIN: [    0     1     2 ... 21314 21315 21316] TEST: [14586 14587 14588 ... 15705 15706 15707]\n",
      "TRAIN: [    0     1     2 ... 21314 21315 21316] TEST: [15708 15709 15710 ... 16827 16828 16829]\n",
      "TRAIN: [    0     1     2 ... 21314 21315 21316] TEST: [16830 16831 16832 ... 17949 17950 17951]\n",
      "TRAIN: [    0     1     2 ... 21314 21315 21316] TEST: [17952 17953 17954 ... 19071 19072 19073]\n",
      "TRAIN: [    0     1     2 ... 21314 21315 21316] TEST: [19074 19075 19076 ... 20193 20194 20195]\n",
      "TRAIN: [    0     1     2 ... 20193 20194 20195] TEST: [20196 20197 20198 ... 21314 21315 21316]\n"
     ]
    }
   ],
   "source": [
    "X_real = df.loc[:,'f1':'f8']\n",
    "y_real = np.array(df.type_bool)\n",
    "\n",
    "kf_real = KFold(n_splits = splits)\n",
    "X_train_real = []\n",
    "X_test_real = []\n",
    "y_train_real = []\n",
    "y_test_real = []\n",
    "for train_index_real, test_index_real in kf_real.split(X_real):\n",
    "    print(\"TRAIN:\", train_index_real, \"TEST:\", test_index_real)\n",
    "    X_train_real.append(X_real.iloc[train_index_real])\n",
    "    X_test_real.append(X_real.iloc[test_index_real])\n",
    "    y_train_real.append(y_real[train_index_real])\n",
    "    y_test_real.append(y_real[test_index_real])"
   ]
  },
  {
   "cell_type": "markdown",
   "metadata": {},
   "source": [
    "## Training"
   ]
  },
  {
   "cell_type": "markdown",
   "metadata": {},
   "source": [
    "#### Splits = 5"
   ]
  },
  {
   "cell_type": "code",
   "execution_count": 35,
   "metadata": {},
   "outputs": [
    {
     "name": "stdout",
     "output_type": "stream",
     "text": [
      "AUC Scores : [0.95312396 0.95803237 0.95967187 0.95506943 0.95712445] \n",
      " Average Precision Scores : [0.84377619 0.85297793 0.86122929 0.84494402 0.83320515] \n",
      " Default Scores : [0.89657598 0.90056285 0.90429275 0.89842834 0.89749003]\n"
     ]
    }
   ],
   "source": [
    "np.random.seed(9)\n",
    "splits = 5\n",
    "auc_scores = model_selection.cross_val_score(exported_pipeline, X, y, scoring = 'roc_auc', cv=splits)\n",
    "avg_scores = model_selection.cross_val_score(exported_pipeline, X, y, scoring = 'average_precision', cv=splits)\n",
    "def_scores = model_selection.cross_val_score(exported_pipeline, X, y, cv=splits)\n",
    "print(\"AUC Scores :\", auc_scores, \"\\n\", \n",
    "      \"Average Precision Scores :\", avg_scores, \"\\n\", \n",
    "      \"Default Scores :\", def_scores)"
   ]
  },
  {
   "cell_type": "code",
   "execution_count": 36,
   "metadata": {},
   "outputs": [],
   "source": [
    "exported_pipeline.fit(X_train[0], y_train[0]);"
   ]
  },
  {
   "cell_type": "code",
   "execution_count": 37,
   "metadata": {
    "scrolled": true
   },
   "outputs": [
    {
     "name": "stdout",
     "output_type": "stream",
     "text": [
      "Confusion matrix, without normalization\n",
      "[[3009  255]\n",
      " [ 180  820]]\n",
      "Normalized confusion matrix\n",
      "[[0.921875 0.078125]\n",
      " [0.18     0.82    ]]\n"
     ]
    },
    {
     "data": {
      "text/plain": [
       "<matplotlib.axes._subplots.AxesSubplot at 0x7f692035e198>"
      ]
     },
     "execution_count": 37,
     "metadata": {},
     "output_type": "execute_result"
    },
    {
     "data": {
      "image/png": "[encoded data removed]",
      "text/plain": [
       "<Figure size 432x288 with 2 Axes>"
      ]
     },
     "metadata": {
      "needs_background": "light"
     },
     "output_type": "display_data"
    },
    {
     "data": {
      "image/png": "[encoded data removed]",
      "text/plain": [
       "<Figure size 432x288 with 2 Axes>"
      ]
     },
     "metadata": {
      "needs_background": "light"
     },
     "output_type": "display_data"
    }
   ],
   "source": [
    "y_pred = exported_pipeline.predict(X_test[0])\n",
    "#cm = confusion_matrix(y_test[0], y_pred)\n",
    "plot_confusion_matrix(y_test[0],y_pred, ['not IA','IA' ], normalize=False)\n",
    "plot_confusion_matrix(y_test[0],y_pred, ['not IA','IA' ], normalize=True)"
   ]
  },
  {
   "cell_type": "code",
   "execution_count": null,
   "metadata": {},
   "outputs": [],
   "source": []
  },
  {
   "cell_type": "markdown",
   "metadata": {},
   "source": [
    "#### Splits = 19"
   ]
  },
  {
   "cell_type": "code",
   "execution_count": 38,
   "metadata": {},
   "outputs": [],
   "source": [
    "class SplitterSwapper:\n",
    "    '''Swaps training and test data in a splitter class.'''\n",
    "    def __init__(self, fold):\n",
    "        self.fold = fold\n",
    "    def split(self, *args):\n",
    "        for training, testing in self.fold.split(*args):\n",
    "            yield testing, training"
   ]
  },
  {
   "cell_type": "code",
   "execution_count": 39,
   "metadata": {},
   "outputs": [],
   "source": [
    "splits = 19"
   ]
  },
  {
   "cell_type": "code",
   "execution_count": 40,
   "metadata": {},
   "outputs": [
    {
     "name": "stdout",
     "output_type": "stream",
     "text": [
      "AUC Scores : [0.91719447 0.92159991 0.91360213 0.92509852 0.91476757 0.91325316\n",
      " 0.91859116 0.92503503 0.92435189 0.92816787 0.92391827 0.9234071\n",
      " 0.92005549 0.92454954 0.92100867 0.91844011 0.92753966 0.92176675\n",
      " 0.92025338] \n",
      " Average Precision Scores : [0.70894912 0.74791829 0.72400773 0.74249484 0.73930715 0.71631808\n",
      " 0.73314381 0.750917   0.74677475 0.74226553 0.73800265 0.73284449\n",
      " 0.74000386 0.73691143 0.72607911 0.73737739 0.74817931 0.71931985\n",
      " 0.72377413] \n",
      " Default Scores : [0.85030948 0.86075761 0.85471651 0.86060906 0.86159941 0.85719237\n",
      " 0.85689527 0.86457044 0.86684823 0.86486754 0.85912355 0.86159941\n",
      " 0.86095568 0.86224313 0.8621441  0.85897499 0.86491706 0.85773706\n",
      " 0.8573975 ]\n"
     ]
    }
   ],
   "source": [
    "auc_scores = model_selection.cross_val_score(exported_pipeline, X_real, y_real, scoring = 'roc_auc', cv=SplitterSwapper(StratifiedKFold(19)))\n",
    "avg_scores = model_selection.cross_val_score(exported_pipeline, X_real, y_real, scoring = 'average_precision', cv=SplitterSwapper(StratifiedKFold(19)))\n",
    "def_scores = model_selection.cross_val_score(exported_pipeline, X_real, y_real, cv=SplitterSwapper(StratifiedKFold(19)))\n",
    "print(\"AUC Scores :\", auc_scores, \"\\n\", \n",
    "      \"Average Precision Scores :\", avg_scores, \"\\n\", \n",
    "      \"Default Scores :\", def_scores)"
   ]
  },
  {
   "cell_type": "code",
   "execution_count": 41,
   "metadata": {},
   "outputs": [
    {
     "data": {
      "text/plain": [
       "Pipeline(memory=None,\n",
       "         steps=[('featureunion',\n",
       "                 FeatureUnion(n_jobs=None,\n",
       "                              transformer_list=[('stackingestimator-1',\n",
       "                                                 StackingEstimator(estimator=KNeighborsClassifier(algorithm='auto',\n",
       "                                                                                                  leaf_size=30,\n",
       "                                                                                                  metric='minkowski',\n",
       "                                                                                                  metric_params=None,\n",
       "                                                                                                  n_jobs=None,\n",
       "                                                                                                  n_neighbors=21,\n",
       "                                                                                                  p=1,\n",
       "                                                                                                  weights='uniform'))),\n",
       "                                                ('stackingestimator-2',\n",
       "                                                 StackingEstimator(estimator=Pipeline(memory=None...\n",
       "                                            max_features=0.9000000000000001,\n",
       "                                            max_leaf_nodes=None,\n",
       "                                            min_impurity_decrease=0.0,\n",
       "                                            min_impurity_split=None,\n",
       "                                            min_samples_leaf=12,\n",
       "                                            min_samples_split=9,\n",
       "                                            min_weight_fraction_leaf=0.0,\n",
       "                                            n_estimators=100,\n",
       "                                            n_iter_no_change=None,\n",
       "                                            presort='deprecated',\n",
       "                                            random_state=None,\n",
       "                                            subsample=0.8500000000000001,\n",
       "                                            tol=0.0001, validation_fraction=0.1,\n",
       "                                            verbose=0, warm_start=False))],\n",
       "         verbose=False)"
      ]
     },
     "execution_count": 41,
     "metadata": {},
     "output_type": "execute_result"
    }
   ],
   "source": [
    "exported_pipeline.fit(X_test_real[0], y_test_real[0])"
   ]
  },
  {
   "cell_type": "code",
   "execution_count": 42,
   "metadata": {},
   "outputs": [
    {
     "name": "stdout",
     "output_type": "stream",
     "text": [
      "Confusion matrix, without normalization\n",
      "[[13941  1449]\n",
      " [ 1522  3283]]\n",
      "Normalized confusion matrix\n",
      "[[0.90584795 0.09415205]\n",
      " [0.31675338 0.68324662]]\n"
     ]
    },
    {
     "data": {
      "text/plain": [
       "<matplotlib.axes._subplots.AxesSubplot at 0x7f692513ff28>"
      ]
     },
     "execution_count": 42,
     "metadata": {},
     "output_type": "execute_result"
    },
    {
     "data": {
      "image/png": "[encoded data removed]",
      "text/plain": [
       "<Figure size 432x288 with 2 Axes>"
      ]
     },
     "metadata": {
      "needs_background": "light"
     },
     "output_type": "display_data"
    },
    {
     "data": {
      "image/png": "[encoded data removed]",
      "text/plain": [
       "<Figure size 432x288 with 2 Axes>"
      ]
     },
     "metadata": {
      "needs_background": "light"
     },
     "output_type": "display_data"
    }
   ],
   "source": [
    "y_pred = exported_pipeline.predict(X_train_real[0])\n",
    "#cm = confusion_matrix(y_train_real[0], y_pred)\n",
    "plot_confusion_matrix(y_train_real[0],y_pred, ['not IA','IA' ], normalize=False)\n",
    "plot_confusion_matrix(y_train_real[0],y_pred, ['not IA','IA' ], normalize=True)"
   ]
  },
  {
   "cell_type": "code",
   "execution_count": null,
   "metadata": {
    "scrolled": true
   },
   "outputs": [],
   "source": [
    "df"
   ]
  },
  {
   "cell_type": "code",
   "execution_count": null,
   "metadata": {},
   "outputs": [],
   "source": [
    "len(y_pred)"
   ]
  },
  {
   "cell_type": "code",
   "execution_count": null,
   "metadata": {},
   "outputs": [],
   "source": []
  }
 ],
 "metadata": {
  "kernelspec": {
   "display_name": "Python 3",
   "language": "python",
   "name": "python3"
  },
  "language_info": {
   "codemirror_mode": {
    "name": "ipython",
    "version": 3
   },
   "file_extension": ".py",
   "mimetype": "text/x-python",
   "name": "python",
   "nbconvert_exporter": "python",
   "pygments_lexer": "ipython3",
   "version": "3.7.3"
  }
 },
 "nbformat": 4,
 "nbformat_minor": 2
}
